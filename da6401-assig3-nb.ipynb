{
 "cells": [
  {
   "cell_type": "code",
   "execution_count": 1,
   "id": "6e506d3e",
   "metadata": {
    "execution": {
     "iopub.execute_input": "2025-05-20T06:07:49.284518Z",
     "iopub.status.busy": "2025-05-20T06:07:49.283996Z",
     "iopub.status.idle": "2025-05-20T06:07:49.289411Z",
     "shell.execute_reply": "2025-05-20T06:07:49.288610Z",
     "shell.execute_reply.started": "2025-05-20T06:07:49.284491Z"
    },
    "trusted": true
   },
   "outputs": [],
   "source": [
    "import numpy as np\n",
    "import pandas as pd\n",
    "\n",
    "import torch\n",
    "import torch.nn as nn\n",
    "import torch.nn.functional as F\n",
    "from torch.utils.data import Dataset, DataLoader, RandomSampler\n",
    "\n",
    "import os\n",
    "import yaml\n",
    "from tqdm.notebook import tqdm\n",
    "import wandb\n",
    "from typing import Dict, List, Tuple\n",
    "import gc\n",
    "\n",
    "import matplotlib.pyplot as plt\n",
    "import seaborn as sns\n",
    "\n",
    "device = torch.device(\"cuda\" if torch.cuda.is_available() else \"cpu\")"
   ]
  },
  {
   "cell_type": "markdown",
   "id": "6688355b",
   "metadata": {},
   "source": [
    "## Loading the data"
   ]
  },
  {
   "cell_type": "code",
   "execution_count": 2,
   "id": "5d2b8343",
   "metadata": {
    "execution": {
     "iopub.execute_input": "2025-05-20T06:09:04.665324Z",
     "iopub.status.busy": "2025-05-20T06:09:04.664926Z",
     "iopub.status.idle": "2025-05-20T06:09:04.670914Z",
     "shell.execute_reply": "2025-05-20T06:09:04.669967Z",
     "shell.execute_reply.started": "2025-05-20T06:09:04.665293Z"
    },
    "trusted": true
   },
   "outputs": [],
   "source": [
    "## Defining the path\n",
    "train_data_path = \"./dataset/dakshina_dataset_v1.0/ta/lexicons/ta.translit.sampled.train.tsv\"\n",
    "test_data_path = \"./dataset/dakshina_dataset_v1.0/ta/lexicons/ta.translit.sampled.test.tsv\"\n",
    "val_data_path = \"./dataset/dakshina_dataset_v1.0/ta/lexicons/ta.translit.sampled.dev.tsv\""
   ]
  },
  {
   "cell_type": "code",
   "execution_count": 3,
   "id": "55f56114",
   "metadata": {
    "execution": {
     "iopub.execute_input": "2025-05-20T06:10:16.096306Z",
     "iopub.status.busy": "2025-05-20T06:10:16.095959Z",
     "iopub.status.idle": "2025-05-20T06:10:16.169709Z",
     "shell.execute_reply": "2025-05-20T06:10:16.168977Z",
     "shell.execute_reply.started": "2025-05-20T06:10:16.096285Z"
    },
    "trusted": true
   },
   "outputs": [
    {
     "name": "stdout",
     "output_type": "stream",
     "text": [
      "Number of training examples: 68218\n",
      "Number of test examples: 6864\n",
      "Number of val examples: 6827\n"
     ]
    }
   ],
   "source": [
    "## Loading the train, test, val data\n",
    "train_data_list = []\n",
    "with open(train_data_path, encoding='utf-8') as f:\n",
    "        for line in f:\n",
    "            native, roman, freq = line.strip().split('\\t')\n",
    "            train_data_list.append((native, roman, freq))\n",
    "\n",
    "print(f\"Number of training examples: {len(train_data_list)}\")\n",
    "\n",
    "test_data_list = []\n",
    "with open(test_data_path, encoding=\"utf-8\") as f:\n",
    "      for line in f:\n",
    "            native, roman, freq = line.strip().split('\\t')\n",
    "            test_data_list.append((native, roman, freq))\n",
    "\n",
    "print(f\"Number of test examples: {len(test_data_list)}\")\n",
    "\n",
    "val_data_list = []\n",
    "with open(val_data_path, encoding=\"utf-8\") as f:\n",
    "      for line in f:\n",
    "            native, roman, freq = line.strip().split('\\t')\n",
    "            val_data_list.append((native, roman, freq))\n",
    "\n",
    "print(f\"Number of val examples: {len(val_data_list)}\")"
   ]
  },
  {
   "cell_type": "code",
   "execution_count": 4,
   "id": "9d8f97ba",
   "metadata": {
    "execution": {
     "iopub.execute_input": "2025-05-20T06:18:45.760174Z",
     "iopub.status.busy": "2025-05-20T06:18:45.759479Z",
     "iopub.status.idle": "2025-05-20T06:18:45.834168Z",
     "shell.execute_reply": "2025-05-20T06:18:45.833374Z",
     "shell.execute_reply.started": "2025-05-20T06:18:45.760150Z"
    },
    "trusted": true
   },
   "outputs": [
    {
     "name": "stdout",
     "output_type": "stream",
     "text": [
      "checking the length of the characters in native language : \n"
     ]
    },
    {
     "data": {
      "text/plain": [
       "count    68218.000000\n",
       "mean         8.838327\n",
       "std          3.385477\n",
       "min          1.000000\n",
       "25%          6.000000\n",
       "50%          8.000000\n",
       "75%         11.000000\n",
       "max         26.000000\n",
       "Name: native, dtype: float64"
      ]
     },
     "metadata": {},
     "output_type": "display_data"
    },
    {
     "name": "stdout",
     "output_type": "stream",
     "text": [
      "checking the length of the characters in roman : \n"
     ]
    },
    {
     "data": {
      "text/plain": [
       "count    68218.000000\n",
       "mean        10.113504\n",
       "std          3.920229\n",
       "min          1.000000\n",
       "25%          7.000000\n",
       "50%         10.000000\n",
       "75%         13.000000\n",
       "max         30.000000\n",
       "Name: roman, dtype: float64"
      ]
     },
     "metadata": {},
     "output_type": "display_data"
    },
    {
     "data": {
      "text/html": [
       "<div>\n",
       "<style scoped>\n",
       "    .dataframe tbody tr th:only-of-type {\n",
       "        vertical-align: middle;\n",
       "    }\n",
       "\n",
       "    .dataframe tbody tr th {\n",
       "        vertical-align: top;\n",
       "    }\n",
       "\n",
       "    .dataframe thead th {\n",
       "        text-align: right;\n",
       "    }\n",
       "</style>\n",
       "<table border=\"1\" class=\"dataframe\">\n",
       "  <thead>\n",
       "    <tr style=\"text-align: right;\">\n",
       "      <th></th>\n",
       "      <th>native</th>\n",
       "      <th>roman</th>\n",
       "      <th>freq</th>\n",
       "    </tr>\n",
       "  </thead>\n",
       "  <tbody>\n",
       "    <tr>\n",
       "      <th>53276</th>\n",
       "      <td>பொருந்திய</td>\n",
       "      <td>porundhdhiya</td>\n",
       "      <td>1</td>\n",
       "    </tr>\n",
       "    <tr>\n",
       "      <th>6688</th>\n",
       "      <td>இணைந்துள்ளன</td>\n",
       "      <td>inaindhullana</td>\n",
       "      <td>1</td>\n",
       "    </tr>\n",
       "    <tr>\n",
       "      <th>32181</th>\n",
       "      <td>ஜாக்கி</td>\n",
       "      <td>jackey</td>\n",
       "      <td>1</td>\n",
       "    </tr>\n",
       "    <tr>\n",
       "      <th>45078</th>\n",
       "      <td>படிப்பதில்</td>\n",
       "      <td>padippadhil</td>\n",
       "      <td>1</td>\n",
       "    </tr>\n",
       "    <tr>\n",
       "      <th>25021</th>\n",
       "      <td>சகோதரருடன்</td>\n",
       "      <td>chakoothararutan</td>\n",
       "      <td>1</td>\n",
       "    </tr>\n",
       "  </tbody>\n",
       "</table>\n",
       "</div>"
      ],
      "text/plain": [
       "            native             roman freq\n",
       "53276    பொருந்திய      porundhdhiya    1\n",
       "6688   இணைந்துள்ளன     inaindhullana    1\n",
       "32181       ஜாக்கி            jackey    1\n",
       "45078   படிப்பதில்       padippadhil    1\n",
       "25021   சகோதரருடன்  chakoothararutan    1"
      ]
     },
     "execution_count": 4,
     "metadata": {},
     "output_type": "execute_result"
    }
   ],
   "source": [
    "train_df = pd.DataFrame(train_data_list, columns=[\"native\", \"roman\", \"freq\"])\n",
    "test_df = pd.DataFrame(test_data_list, columns=[\"native\", \"roman\", \"freq\"])\n",
    "val_df = pd.DataFrame(val_data_list, columns=[\"native\", \"roman\", \"freq\"])\n",
    "\n",
    "print(f\"checking the length of the characters in native language : \")\n",
    "display(train_df[\"native\"].str.len().describe())\n",
    "\n",
    "print(f\"checking the length of the characters in roman : \")\n",
    "display(train_df[\"roman\"].str.len().describe())\n",
    "\n",
    "\"\"\" Using only terms with top frequency in test for producing test acccuracy \"\"\"\n",
    "unique_test = test_df['native'].unique()\n",
    "test_df = test_df.loc[test_df.groupby('native')['freq'].idxmax()][['native', 'roman', 'freq']].reset_index(drop=True)\n",
    "\n",
    "train_df.sample(5)"
   ]
  },
  {
   "cell_type": "code",
   "execution_count": 5,
   "id": "7b4076e4",
   "metadata": {
    "execution": {
     "iopub.execute_input": "2025-05-20T06:18:49.816500Z",
     "iopub.status.busy": "2025-05-20T06:18:49.815993Z",
     "iopub.status.idle": "2025-05-20T06:18:49.837697Z",
     "shell.execute_reply": "2025-05-20T06:18:49.837167Z",
     "shell.execute_reply.started": "2025-05-20T06:18:49.816478Z"
    },
    "trusted": true
   },
   "outputs": [
    {
     "name": "stdout",
     "output_type": "stream",
     "text": [
      "checking the length of the characters in native language (val data) : \n"
     ]
    },
    {
     "data": {
      "text/plain": [
       "count    6827.000000\n",
       "mean        8.222352\n",
       "std         3.174080\n",
       "min         1.000000\n",
       "25%         6.000000\n",
       "50%         8.000000\n",
       "75%        10.000000\n",
       "max        20.000000\n",
       "Name: native, dtype: float64"
      ]
     },
     "metadata": {},
     "output_type": "display_data"
    },
    {
     "name": "stdout",
     "output_type": "stream",
     "text": [
      "checking the length of the characters in roman (val data): \n"
     ]
    },
    {
     "data": {
      "text/plain": [
       "count    6827.000000\n",
       "mean        9.494507\n",
       "std         3.696724\n",
       "min         1.000000\n",
       "25%         7.000000\n",
       "50%         9.000000\n",
       "75%        12.000000\n",
       "max        23.000000\n",
       "Name: roman, dtype: float64"
      ]
     },
     "metadata": {},
     "output_type": "display_data"
    },
    {
     "data": {
      "text/html": [
       "<div>\n",
       "<style scoped>\n",
       "    .dataframe tbody tr th:only-of-type {\n",
       "        vertical-align: middle;\n",
       "    }\n",
       "\n",
       "    .dataframe tbody tr th {\n",
       "        vertical-align: top;\n",
       "    }\n",
       "\n",
       "    .dataframe thead th {\n",
       "        text-align: right;\n",
       "    }\n",
       "</style>\n",
       "<table border=\"1\" class=\"dataframe\">\n",
       "  <thead>\n",
       "    <tr style=\"text-align: right;\">\n",
       "      <th></th>\n",
       "      <th>native</th>\n",
       "      <th>roman</th>\n",
       "      <th>freq</th>\n",
       "    </tr>\n",
       "  </thead>\n",
       "  <tbody>\n",
       "    <tr>\n",
       "      <th>2889</th>\n",
       "      <td>சுகந்தன்</td>\n",
       "      <td>suganthan</td>\n",
       "      <td>2</td>\n",
       "    </tr>\n",
       "    <tr>\n",
       "      <th>1098</th>\n",
       "      <td>உள்ளீடுகள்</td>\n",
       "      <td>ulleedukal</td>\n",
       "      <td>2</td>\n",
       "    </tr>\n",
       "    <tr>\n",
       "      <th>3861</th>\n",
       "      <td>துவக்கப்பட்ட</td>\n",
       "      <td>thuvakkappatta</td>\n",
       "      <td>3</td>\n",
       "    </tr>\n",
       "    <tr>\n",
       "      <th>1997</th>\n",
       "      <td>கிடைக்கும்போது</td>\n",
       "      <td>kidaikkumpothu</td>\n",
       "      <td>1</td>\n",
       "    </tr>\n",
       "    <tr>\n",
       "      <th>2577</th>\n",
       "      <td>சங்கத்திலிருந்து</td>\n",
       "      <td>sanggaththilirunthu</td>\n",
       "      <td>1</td>\n",
       "    </tr>\n",
       "  </tbody>\n",
       "</table>\n",
       "</div>"
      ],
      "text/plain": [
       "                native                roman freq\n",
       "2889          சுகந்தன்            suganthan    2\n",
       "1098        உள்ளீடுகள்           ulleedukal    2\n",
       "3861      துவக்கப்பட்ட       thuvakkappatta    3\n",
       "1997    கிடைக்கும்போது       kidaikkumpothu    1\n",
       "2577  சங்கத்திலிருந்து  sanggaththilirunthu    1"
      ]
     },
     "execution_count": 5,
     "metadata": {},
     "output_type": "execute_result"
    }
   ],
   "source": [
    "print(f\"checking the length of the characters in native language (val data) : \")\n",
    "display(val_df[\"native\"].str.len().describe())\n",
    "\n",
    "print(f\"checking the length of the characters in roman (val data): \")\n",
    "display(val_df[\"roman\"].str.len().describe())\n",
    "\n",
    "val_df.sample(5)"
   ]
  },
  {
   "cell_type": "markdown",
   "id": "9d85833d",
   "metadata": {},
   "source": [
    "### Building vocab"
   ]
  },
  {
   "cell_type": "code",
   "execution_count": 6,
   "id": "e56732de",
   "metadata": {
    "execution": {
     "iopub.execute_input": "2025-05-20T06:18:52.832437Z",
     "iopub.status.busy": "2025-05-20T06:18:52.831851Z",
     "iopub.status.idle": "2025-05-20T06:18:53.108523Z",
     "shell.execute_reply": "2025-05-20T06:18:53.107912Z",
     "shell.execute_reply.started": "2025-05-20T06:18:52.832415Z"
    },
    "trusted": true
   },
   "outputs": [
    {
     "name": "stdout",
     "output_type": "stream",
     "text": [
      "{'ம', 'ூ', 'ஐ', 'ஓ', 'ீ', 'ஏ', 'ள', 'ெ', 'ஒ', 'ட', 'ச', 'ற', 'ே', 'ஜ', 'ய', 'ந', 'ன', 'ழ', 'ண', 'ை', 'ப', 'ஃ', 'ர', 'உ', 'ஊ', 'ொ', 'எ', 'ஆ', 'வ', 'ஹ', 'ஸ', 'ஷ', 'இ', 'ி', 'க', 'த', 'ஞ', 'ௌ', 'அ', 'ு', 'ோ', 'ல', '்', 'ங', 'ஈ', 'ா'} \n",
      "\n",
      "total no of unique chars in tamil native : 46\n"
     ]
    }
   ],
   "source": [
    "unique_words_train = set(train_df[\"native\"].str.split(\"\").explode().unique())\n",
    "unique_words_train.remove(\"\")\n",
    "print(unique_words_train, f\"\\n\\ntotal no of unique chars in tamil native : {len(unique_words_train)}\")"
   ]
  },
  {
   "cell_type": "markdown",
   "id": "7396b799",
   "metadata": {},
   "source": [
    "- Special tokens:\n",
    "    - `<pad>` for padding\n",
    "\n",
    "    - `<sos>` for start of the word\n",
    "\n",
    "    - `<eos>` for end of the word\n",
    "\n",
    "    - `<unk>` for encountering any unknown character in validation and test"
   ]
  },
  {
   "cell_type": "code",
   "execution_count": 7,
   "id": "b8879b71",
   "metadata": {
    "execution": {
     "iopub.execute_input": "2025-05-20T06:18:55.937392Z",
     "iopub.status.busy": "2025-05-20T06:18:55.936883Z",
     "iopub.status.idle": "2025-05-20T06:18:56.027012Z",
     "shell.execute_reply": "2025-05-20T06:18:56.026344Z",
     "shell.execute_reply.started": "2025-05-20T06:18:55.937370Z"
    },
    "trusted": true
   },
   "outputs": [
    {
     "name": "stdout",
     "output_type": "stream",
     "text": [
      "Total no of characters in native language : 50\n",
      "Total no of characters in roman language : 30\n"
     ]
    }
   ],
   "source": [
    "def build_vocab(word_list, add_special_tokens=True):\n",
    "    chars = sorted(set(char for word in word_list for char in word))\n",
    "    # print(chars)\n",
    "    \n",
    "    if add_special_tokens:\n",
    "        vocab = ['<pad>', '<sos>', '<eos>', '<unk>'] + chars\n",
    "    else:\n",
    "        vocab = ['<unk>'] + chars\n",
    "    \n",
    "    char2idx = {char: idx for idx, char in enumerate(vocab)}\n",
    "    idx2char = {idx: char for char, idx in char2idx.items()}\n",
    "    return char2idx, idx2char\n",
    "\n",
    "def word_to_vector(word, char2idx, max_len = None, sos=False, eos=False):\n",
    "\n",
    "    tokens = []\n",
    "    if sos: tokens.append('<sos>')\n",
    "    tokens.extend(list(word))\n",
    "    if eos: tokens.append('<eos>')\n",
    "\n",
    "    if max_len != None and len(tokens) > max_len:\n",
    "        tokens = tokens[:max_len]\n",
    "    elif max_len != None and len(tokens) < max_len:\n",
    "        tokens = tokens + ['<pad>'] * (max_len - len(tokens))\n",
    "\n",
    "    tensor = torch.zeros(len(tokens))\n",
    "    for i, char in enumerate(tokens):\n",
    "        idx = char2idx.get(char, char2idx['<unk>'])\n",
    "        tensor[i] = idx\n",
    "    return tensor \n",
    "\n",
    "native_char2ind, native_idx2char = build_vocab(train_df[\"native\"].tolist())\n",
    "roman_char2ind, roman_idx2char = build_vocab(train_df[\"roman\"].tolist())\n",
    "\n",
    "print(f\"Total no of characters in native language : {len(native_char2ind)}\")\n",
    "print(f\"Total no of characters in roman language : {len(roman_char2ind)}\")"
   ]
  },
  {
   "cell_type": "code",
   "execution_count": 18,
   "id": "ab63920c",
   "metadata": {},
   "outputs": [],
   "source": [
    "import pickle\n",
    "with open(\"./native_char2ind.pkl\", 'wb') as f:\n",
    "    pickle.dump(native_char2ind, f)\n",
    "\n",
    "with open(\"./roman_char2ind.pkl\", 'wb') as f:\n",
    "    pickle.dump(roman_char2ind, f)\n",
    "\n",
    "with open(\"./native_idx2char.pkl\", 'wb') as f:\n",
    "    pickle.dump(native_idx2char, f)\n",
    "\n",
    "with open(\"./roman_idx2char.pkl\", 'wb') as f:\n",
    "    pickle.dump(roman_idx2char, f)"
   ]
  },
  {
   "cell_type": "markdown",
   "id": "e7870eda",
   "metadata": {},
   "source": [
    "## Creating a DataLoader"
   ]
  },
  {
   "cell_type": "code",
   "execution_count": 19,
   "id": "451322ee",
   "metadata": {
    "execution": {
     "iopub.execute_input": "2025-05-20T06:19:01.406320Z",
     "iopub.status.busy": "2025-05-20T06:19:01.405580Z",
     "iopub.status.idle": "2025-05-20T06:19:01.411918Z",
     "shell.execute_reply": "2025-05-20T06:19:01.411068Z",
     "shell.execute_reply.started": "2025-05-20T06:19:01.406296Z"
    },
    "trusted": true
   },
   "outputs": [],
   "source": [
    "class Dakshina_Dataset(Dataset):\n",
    "    def __init__(self, data, \n",
    "                 native_char_to_ind, roman_char_to_ind, \n",
    "                 max_len_native = None, max_len_roman = None):\n",
    "\n",
    "        self.data = data\n",
    "        self.native_char_to_ind = native_char_to_ind\n",
    "        self.roman_char_to_ind = roman_char_to_ind\n",
    "        self.max_len_native = max_len_native\n",
    "        self.max_len_roman = max_len_roman\n",
    "    \n",
    "    def __len__(self):\n",
    "        return len(self.data)\n",
    "    \n",
    "    def __getitem__(self, index):\n",
    "        native, roman = self.data[index]\n",
    "\n",
    "        # one-hot encoding of the chars in native\n",
    "        native_tensor = word_to_vector(native, self.native_char_to_ind,\n",
    "                                              max_len = self.max_len_native if self.max_len_native != None else len(native),\n",
    "                                              sos = False, eos = False).to(torch.long)\n",
    "        native_input_length = len(native)\n",
    "\n",
    "        # one-hot encoding of the chars in roman (it need sos and eos tokens for start and end of word indication)\n",
    "        roman_tensor = word_to_vector(roman, self.roman_char_to_ind,\n",
    "                                             max_len = self.max_len_roman if self.max_len_roman != None else len(roman),\n",
    "                                             sos = True, eos = True).to(torch.long)\n",
    "        roman_input_length = len(roman) + 2\n",
    "\n",
    "        return (native_tensor, native_input_length, roman_tensor, roman_input_length)"
   ]
  },
  {
   "cell_type": "code",
   "execution_count": 20,
   "id": "69724398",
   "metadata": {
    "execution": {
     "iopub.execute_input": "2025-05-20T06:19:03.659581Z",
     "iopub.status.busy": "2025-05-20T06:19:03.658932Z",
     "iopub.status.idle": "2025-05-20T06:19:03.820629Z",
     "shell.execute_reply": "2025-05-20T06:19:03.819855Z",
     "shell.execute_reply.started": "2025-05-20T06:19:03.659556Z"
    },
    "trusted": true
   },
   "outputs": [
    {
     "name": "stdout",
     "output_type": "stream",
     "text": [
      "torch.Size([8, 35]) tensor([12, 11,  7,  4, 10,  4,  6,  8])\n",
      "torch.Size([8, 40]) tensor([16, 15,  9,  6, 15,  6,  9, 13])\n"
     ]
    }
   ],
   "source": [
    "example_dataset = Dakshina_Dataset(train_df[['native', 'roman']].values, native_char2ind, roman_char2ind, max_len_native=35, max_len_roman=40)\n",
    "example_dataloader = DataLoader(example_dataset, batch_size=8, shuffle=True, drop_last=False)\n",
    "\n",
    "for native_tensor, native_tensor_len, roman_tensor, roman_tensor_len in example_dataloader:\n",
    "    print(native_tensor.shape, native_tensor_len)\n",
    "    print(roman_tensor.shape, roman_tensor_len)\n",
    "    break\n",
    "\n",
    "# Passed"
   ]
  },
  {
   "cell_type": "markdown",
   "id": "3951a2bd",
   "metadata": {},
   "source": [
    "## Model Building"
   ]
  },
  {
   "cell_type": "markdown",
   "id": "686b77a0",
   "metadata": {},
   "source": [
    "### Encoder"
   ]
  },
  {
   "cell_type": "code",
   "execution_count": 28,
   "id": "eef897c3",
   "metadata": {
    "execution": {
     "iopub.execute_input": "2025-05-19T11:32:04.308847Z",
     "iopub.status.busy": "2025-05-19T11:32:04.308536Z",
     "iopub.status.idle": "2025-05-19T11:32:04.314459Z",
     "shell.execute_reply": "2025-05-19T11:32:04.313761Z",
     "shell.execute_reply.started": "2025-05-19T11:32:04.308820Z"
    },
    "trusted": true
   },
   "outputs": [
    {
     "data": {
      "text/plain": [
       "(0, 0)"
      ]
     },
     "execution_count": 28,
     "metadata": {},
     "output_type": "execute_result"
    }
   ],
   "source": [
    "roman_char2ind['<pad>'] , native_char2ind['<pad>']"
   ]
  },
  {
   "cell_type": "code",
   "execution_count": 29,
   "id": "d1d0fff3",
   "metadata": {
    "execution": {
     "iopub.execute_input": "2025-05-20T06:19:07.112336Z",
     "iopub.status.busy": "2025-05-20T06:19:07.111500Z",
     "iopub.status.idle": "2025-05-20T06:19:07.122868Z",
     "shell.execute_reply": "2025-05-20T06:19:07.121987Z",
     "shell.execute_reply.started": "2025-05-20T06:19:07.112298Z"
    },
    "trusted": true
   },
   "outputs": [],
   "source": [
    "class Encoder(nn.Module):\n",
    "    def __init__(self, input_vocab_size, \n",
    "                 embedding_size : int ,\n",
    "                 hidden_size : int, \n",
    "                 encoder_layers : int = 1,\n",
    "                 rnn_type = \"LSTM\",\n",
    "                 dropout = 0.2,\n",
    "                 pad_idx = roman_char2ind['<pad>'] ):\n",
    "        \n",
    "        super().__init__()\n",
    "\n",
    "        self.embedding_size = embedding_size\n",
    "        self.hidden_size = hidden_size\n",
    "        self.encoder_layers = encoder_layers\n",
    "        self.rnn_type = rnn_type\n",
    "        self.pad_idx = pad_idx\n",
    "        self.dropout = dropout\n",
    "\n",
    "        self.embedding = nn.Embedding(input_vocab_size, embedding_size, padding_idx=pad_idx)\n",
    "\n",
    "        # initialize the RNN\n",
    "        if self.rnn_type == \"LSTM\":\n",
    "            self.rnn = nn.LSTM(embedding_size, hidden_size, encoder_layers, batch_first=True, dropout = dropout)\n",
    "        elif self.rnn_type == \"GRU\":\n",
    "            self.rnn = nn.GRU(embedding_size, hidden_size, encoder_layers, batch_first=True, dropout = dropout)\n",
    "        elif self.rnn_type == \"RNN\":\n",
    "            self.rnn = nn.RNN(embedding_size, hidden_size, encoder_layers, batch_first=True, dropout=dropout)\n",
    "        else:\n",
    "            raise ValueError(f\"Unsupported rnn_type: {self.rnn_type}\")\n",
    "\n",
    "    def forward(self, input_idxs, input_lengths):\n",
    "        # x: [batch, seq_len]\n",
    "        self.embedded = nn.Dropout(self.dropout)(self.embedding(input_idxs))  # shape: [batch, seq_len, emb_dim]\n",
    "        self.packed = nn.utils.rnn.pack_padded_sequence(self.embedded, input_lengths.cpu(), batch_first=True, enforce_sorted=False) # for avoiding paddings\n",
    "        self.outputs, self.hidden = self.rnn(self.packed)\n",
    "        self.outputs, _ = nn.utils.rnn.pad_packed_sequence(self.outputs, batch_first=True)\n",
    "        # print(outputs.shape)\n",
    "        return self.outputs, self.hidden"
   ]
  },
  {
   "cell_type": "markdown",
   "id": "9b111731",
   "metadata": {},
   "source": [
    "### decoder"
   ]
  },
  {
   "cell_type": "code",
   "execution_count": 27,
   "id": "92f703e1",
   "metadata": {
    "execution": {
     "iopub.execute_input": "2025-05-20T06:19:09.710563Z",
     "iopub.status.busy": "2025-05-20T06:19:09.710324Z",
     "iopub.status.idle": "2025-05-20T06:19:09.718526Z",
     "shell.execute_reply": "2025-05-20T06:19:09.717943Z",
     "shell.execute_reply.started": "2025-05-20T06:19:09.710547Z"
    },
    "trusted": true
   },
   "outputs": [],
   "source": [
    "class Decoder(nn.Module):\n",
    "    def __init__(self, target_vocab_size, \n",
    "                 embedding_size : int,\n",
    "                 hidden_size : int,\n",
    "                 decoder_layers : int,\n",
    "                 rnn_type = \"LSTM\",\n",
    "                 dropout = 0.2,\n",
    "                 pad_idx = native_char2ind['<pad>']):\n",
    "        \n",
    "        super().__init__()\n",
    "\n",
    "        self.embedding_size = embedding_size\n",
    "        self.hidden_size = hidden_size\n",
    "        self.decoder_layers = decoder_layers\n",
    "        self.rnn_type = rnn_type\n",
    "        self.dropout = dropout\n",
    "        self.pad_idx = pad_idx\n",
    "\n",
    "        self.embedding = nn.Embedding(target_vocab_size, embedding_size, padding_idx=pad_idx)\n",
    "\n",
    "        # initialize the RNN\n",
    "        if self.rnn_type == \"LSTM\":\n",
    "            self.rnn = nn.LSTM(embedding_size, hidden_size, decoder_layers, batch_first=True, dropout=dropout)\n",
    "        elif self.rnn_type == \"GRU\":\n",
    "            self.rnn = nn.GRU(embedding_size, hidden_size, decoder_layers, batch_first=True, dropout=dropout)\n",
    "        elif self.rnn_type == \"RNN\":\n",
    "            self.rnn = nn.RNN(embedding_size, hidden_size, decoder_layers, batch_first=True, dropout=dropout)\n",
    "        else:\n",
    "            raise ValueError(f\"Unsupported rnn_type: {self.rnn_type}\")\n",
    "        \n",
    "        self.fc_out = nn.Sequential(\n",
    "            nn.Dropout(self.dropout),\n",
    "            nn.Linear(hidden_size, target_vocab_size),\n",
    "            nn.Tanh(),\n",
    "\n",
    "            nn.Dropout(self.dropout),\n",
    "            nn.Linear(target_vocab_size, target_vocab_size),\n",
    "        )\n",
    "\n",
    "        self.fc_out = nn.Linear(hidden_size, target_vocab_size)\n",
    "\n",
    "    def forward(self, input_token, hidden):\n",
    "        \"\"\"\n",
    "        input_token: Tensor of shape [batch_size] -> current token indices\n",
    "        hidden: hidden state from previous step, shape [num_layers, batch_size, hidden_size]\n",
    "        \"\"\"\n",
    "        input_token = input_token.unsqueeze(1)  # [batch_size, 1]\n",
    "        embedded = nn.Dropout(self.dropout)(self.embedding(input_token))  # [batch_size, 1, emb_dim]\n",
    "\n",
    "        if self.rnn_type == \"LSTM\":\n",
    "            output, (h, c) = self.rnn(embedded, hidden) # output: [batch_size, 1, hidden_size]\n",
    "            return self.fc_out(output.squeeze(1)), (h, c) # output: [batch_size, vocab_size]\n",
    "        else:\n",
    "            output, h = self.rnn(embedded, hidden)\n",
    "            return self.fc_out(output.squeeze(1)), h"
   ]
  },
  {
   "cell_type": "markdown",
   "id": "a7900920",
   "metadata": {},
   "source": [
    "### Seq2Seq"
   ]
  },
  {
   "cell_type": "code",
   "execution_count": 24,
   "id": "ed9434f7",
   "metadata": {
    "execution": {
     "iopub.execute_input": "2025-05-20T06:19:12.820789Z",
     "iopub.status.busy": "2025-05-20T06:19:12.819968Z",
     "iopub.status.idle": "2025-05-20T06:19:12.826686Z",
     "shell.execute_reply": "2025-05-20T06:19:12.825920Z",
     "shell.execute_reply.started": "2025-05-20T06:19:12.820761Z"
    },
    "trusted": true
   },
   "outputs": [],
   "source": [
    "class Seq_2_Seq(nn.Module):\n",
    "    def __init__(self, encoder : Encoder, \n",
    "                 decoder : Decoder, \n",
    "                 teacher_forcing_ratio : float = 1.0):\n",
    "        super().__init__()\n",
    "\n",
    "        # initializing encoder and decoder\n",
    "        self.encoder = encoder\n",
    "        self.decoder = decoder\n",
    "        self.teacher_forcing_ratio = teacher_forcing_ratio\n",
    "        self.rnn_type = self.decoder.rnn_type\n",
    "    \n",
    "    def forward(self, native_tensor, native_tensor_len, roman_tensor):\n",
    "\n",
    "        # getting the hidden of the native text\n",
    "        _,native_hidden = self.encoder(native_tensor, native_tensor_len)\n",
    "\n",
    "        # outputs for storing the output from the model\n",
    "        target_vocab_size = self.decoder.embedding.weight.shape[0]\n",
    "        batch_size = roman_tensor.shape[0]\n",
    "        target_len = roman_tensor.shape[1]\n",
    "        outputs = torch.zeros(batch_size, target_len, target_vocab_size).to(device)\n",
    "\n",
    "        # initializing the decoder hidden state\n",
    "        decoder_hidden = native_hidden\n",
    "\n",
    "        # running the decoder\n",
    "        decoder_input = roman_tensor[:, 0]\n",
    "        # print(f\"Decoder input shape : {decoder_input.shape}\") # -> passed\n",
    "\n",
    "        for i in range(1, target_len):\n",
    "            output, decoder_hidden = self.decoder(decoder_input, decoder_hidden)\n",
    "            outputs[:, i] = output\n",
    "\n",
    "            # print(f\"Output shape : {output.shape}\")\n",
    "\n",
    "            # Teacher forcing with a ratio\n",
    "            teacher_force = torch.rand(1) < self.teacher_forcing_ratio\n",
    "            best_guess = output.argmax(1)\n",
    "            decoder_input = roman_tensor[:, i] if teacher_force else best_guess\n",
    "\n",
    "        return outputs"
   ]
  },
  {
   "cell_type": "code",
   "execution_count": 25,
   "id": "5e4c5ccd",
   "metadata": {
    "execution": {
     "iopub.execute_input": "2025-05-20T06:19:16.207616Z",
     "iopub.status.busy": "2025-05-20T06:19:16.206896Z",
     "iopub.status.idle": "2025-05-20T06:19:16.519710Z",
     "shell.execute_reply": "2025-05-20T06:19:16.519134Z",
     "shell.execute_reply.started": "2025-05-20T06:19:16.207592Z"
    },
    "trusted": true
   },
   "outputs": [
    {
     "name": "stderr",
     "output_type": "stream",
     "text": [
      "c:\\Users\\PARAM\\anaconda3\\Lib\\site-packages\\torch\\nn\\modules\\rnn.py:123: UserWarning: dropout option adds dropout after all but last recurrent layer, so non-zero dropout expects num_layers greater than 1, but got dropout=0.2 and num_layers=1\n",
      "  warnings.warn(\n"
     ]
    }
   ],
   "source": [
    "example_enc = Encoder(input_vocab_size = len(native_char2ind), \n",
    "                      embedding_size = 16, \n",
    "                      hidden_size = 16, \n",
    "                      encoder_layers = 1, \n",
    "                      rnn_type=\"LSTM\", \n",
    "                      pad_idx=native_char2ind['<pad>']).to(device)\n",
    "\n",
    "example_dec = Decoder(target_vocab_size = len(roman_char2ind), \n",
    "                      embedding_size = 16, \n",
    "                      hidden_size = 16, \n",
    "                      decoder_layers = 1, \n",
    "                      rnn_type=\"LSTM\",\n",
    "                      pad_idx=roman_char2ind['<pad>']).to(device)\n",
    "\n",
    "example_s2s = Seq_2_Seq(example_enc, example_dec)"
   ]
  },
  {
   "cell_type": "code",
   "execution_count": 26,
   "id": "7b2f4d69",
   "metadata": {
    "execution": {
     "iopub.execute_input": "2025-05-20T06:19:19.341610Z",
     "iopub.status.busy": "2025-05-20T06:19:19.341307Z",
     "iopub.status.idle": "2025-05-20T06:19:20.082610Z",
     "shell.execute_reply": "2025-05-20T06:19:20.081828Z",
     "shell.execute_reply.started": "2025-05-20T06:19:19.341587Z"
    },
    "trusted": true
   },
   "outputs": [
    {
     "name": "stdout",
     "output_type": "stream",
     "text": [
      "torch.Size([8, 35])  | original length for each word :  tensor([16, 10, 10, 19, 10,  3,  8, 11])\n",
      "torch.Size([8, 40])  |  original length for each word :  tensor([19, 14, 16, 21, 16,  7,  6, 12])\n",
      "torch.Size([1, 8, 16])\n",
      "torch.Size([8, 40, 30])\n"
     ]
    }
   ],
   "source": [
    "for native_tensor, native_tensor_len, roman_tensor, roman_tensor_len in example_dataloader:\n",
    "\n",
    "    print(native_tensor.shape, \" | original length for each word : \" ,native_tensor_len)\n",
    "    print(roman_tensor.shape, \" |  original length for each word : \" ,roman_tensor_len)\n",
    "\n",
    "    _,encoder_output = example_enc(native_tensor.to(device), native_tensor_len.to(device))\n",
    "    print(encoder_output[0].shape)\n",
    "\n",
    "    output = example_s2s(native_tensor.to(device), native_tensor_len, roman_tensor.to(device)\n",
    "                        )\n",
    "    print(output.shape)\n",
    "    break"
   ]
  },
  {
   "cell_type": "markdown",
   "id": "42e1fbf2",
   "metadata": {},
   "source": [
    "### Trainer"
   ]
  },
  {
   "cell_type": "code",
   "execution_count": 30,
   "id": "4a461f3f",
   "metadata": {
    "execution": {
     "iopub.execute_input": "2025-05-20T06:19:22.198347Z",
     "iopub.status.busy": "2025-05-20T06:19:22.197799Z",
     "iopub.status.idle": "2025-05-20T06:19:22.205163Z",
     "shell.execute_reply": "2025-05-20T06:19:22.204553Z",
     "shell.execute_reply.started": "2025-05-20T06:19:22.198324Z"
    },
    "trusted": true
   },
   "outputs": [],
   "source": [
    "# This function is used to get the processed outout without padding for calculating loss and back-prop\n",
    "def get_truncated_outputs(model_output, true_output, tensor_len):\n",
    "\n",
    "    # for storing all the outputs\n",
    "    real_outputs = []\n",
    "    real_truth = []\n",
    "\n",
    "    # for getting the truncated output\n",
    "    for i in range(len(tensor_len)):\n",
    "        real_outputs.append( model_output[i,1:tensor_len[i], :] )\n",
    "        real_truth.append( true_output[i,1:tensor_len[i]] )\n",
    "\n",
    "    return real_outputs, real_truth # List[ Tensor[batch_size, trg_len - 1, vocab_size] ], List[ Tensor[batch_size, trg_len - 1] ]\n",
    "\n",
    "def get_correct_output_count(model_truncated_outputs : List, true_truncated_outputs):\n",
    "\n",
    "    batch_size = len(model_truncated_outputs)\n",
    "    correct_outputs = 0\n",
    "    total_chars = 0\n",
    "    correct_words = 0\n",
    "\n",
    "    # for getting the correct output\n",
    "    for i in range(batch_size):\n",
    "        current_correct = (model_truncated_outputs[i].argmax(-1).cpu() == true_truncated_outputs[i].cpu()).sum().item()\n",
    "        correct_outputs += (current_correct)\n",
    "        total_chars += model_truncated_outputs[i].shape[0]\n",
    "\n",
    "        correct_words += (model_truncated_outputs[i].shape[0] == current_correct)\n",
    "    \n",
    "    # print(correct_words, batch_size)\n",
    "\n",
    "    return correct_outputs, total_chars, correct_words\n",
    "\n",
    "def compute_seq_loss(outputs, targets, pad_idx, sos_idx=None):\n",
    "    \"\"\"\n",
    "    outputs: [batch_size, trg_len - 1, vocab_size]  (predictions from decoder)\n",
    "    targets: [batch_size, trg_len]  (original decoder inputs with <sos> at index 0)\n",
    "\n",
    "    This function aligns outputs to targets[:, 1:], and ignores <pad> and optionally <eos>.\n",
    "    \"\"\"\n",
    "    # Align outputs with target tokens after <sos>\n",
    "    outputs = outputs.reshape(-1, outputs.size(-1))          # [B*(T-1), V]\n",
    "    targets = targets[:, :].reshape(-1)                     # [B*(T-1)]\n",
    "\n",
    "    if sos_idx is not None:\n",
    "        # Mask out both <pad> and <sos>\n",
    "        mask = (targets != pad_idx) & (targets != sos_idx)\n",
    "        # print(mask.shape, outputs.shape, targets.shape)\n",
    "        outputs = outputs[mask]\n",
    "        targets = targets[mask]\n",
    "        loss_fn = nn.CrossEntropyLoss()\n",
    "    else:\n",
    "        # Just ignore <pad>\n",
    "        loss_fn = nn.CrossEntropyLoss(ignore_index=pad_idx)\n",
    "\n",
    "    return loss_fn(outputs, targets)\n"
   ]
  },
  {
   "cell_type": "code",
   "execution_count": null,
   "id": "45f68b67",
   "metadata": {},
   "outputs": [],
   "source": [
    "# real_outputs, real_truth = get_truncated_outputs(output, roman_tensor, roman_tensor_len)"
   ]
  },
  {
   "cell_type": "code",
   "execution_count": 31,
   "id": "7f2fa733",
   "metadata": {
    "execution": {
     "iopub.execute_input": "2025-05-20T06:19:26.268437Z",
     "iopub.status.busy": "2025-05-20T06:19:26.267878Z",
     "iopub.status.idle": "2025-05-20T06:19:26.283927Z",
     "shell.execute_reply": "2025-05-20T06:19:26.283123Z",
     "shell.execute_reply.started": "2025-05-20T06:19:26.268414Z"
    },
    "trusted": true
   },
   "outputs": [],
   "source": [
    "class Trainer():\n",
    "    def __init__(self, model : Seq_2_Seq,  \n",
    "                train_dataloader,\n",
    "                val_dataloader,\n",
    "                optimizer_params : Dict = {\"lr\" : 1e-4}, ):\n",
    "        \n",
    "        # Initializing attributes\n",
    "        self.model = model\n",
    "        self.train_dataloader = train_dataloader\n",
    "        self.val_dataloader = val_dataloader\n",
    "        self.optimizer_params = optimizer_params\n",
    "\n",
    "        # defining the loss fn\n",
    "        self.loss_fn = nn.CrossEntropyLoss(ignore_index = roman_char2ind['<pad>'])\n",
    "\n",
    "        # defining the optimizer\n",
    "        self.optimizer = torch.optim.Adam(self.model.parameters(), **self.optimizer_params)\n",
    "        # defining the learning rate scheduler\n",
    "        self.scheduler = torch.optim.lr_scheduler.ReduceLROnPlateau(\n",
    "            self.optimizer,\n",
    "            mode='min',        \n",
    "            factor=0.5,            \n",
    "            patience=2,            # after 2 epochs without improvement\n",
    "            verbose=True,\n",
    "            min_lr=1e-6  \n",
    "        )\n",
    "\n",
    "        print(f\"Total words in train dataset : {len(self.train_dataloader)}\")\n",
    "        print(f\"Total words in val dataset : {len(self.val_dataloader)}\")\n",
    "        print(f\"Total parameters in the model :  {sum([p.numel() for p in self.model.parameters()])*1e-3:.3f} K\")\n",
    "\n",
    "        print(f\"Total parameters in encoder : {sum([p.numel() for p in self.model.encoder.parameters()])*1e-3:.3f} K\")\n",
    "        print(f\"Total parameters in decoder : {sum([p.numel() for p in self.model.decoder.parameters()])*1e-3:.3f} K\")\n",
    "\n",
    "    def compute_seq_loss(self, outputs, targets, pad_idx, sos_idx=None):\n",
    "        \"\"\"\n",
    "        outputs: [batch_size, trg_len - 1, vocab_size]  (predictions from decoder)\n",
    "        targets: [batch_size, trg_len]  (original decoder inputs with <sos> at index 0)\n",
    "\n",
    "        This function aligns outputs to targets[:, 1:], and ignores <pad> and optionally <eos>.\n",
    "        \"\"\"\n",
    "        # Align outputs with target tokens after <sos>\n",
    "        outputs = outputs.reshape(-1, outputs.size(-1))          # [B*(T-1), V]\n",
    "        targets = targets[:, :].reshape(-1)                     # [B*(T-1)]\n",
    "\n",
    "        if sos_idx is not None:\n",
    "            # Mask out both <pad> and <sos>\n",
    "            mask = (targets != pad_idx) & (targets != sos_idx)\n",
    "            # print(mask.shape, outputs.shape, targets.shape)\n",
    "            outputs = outputs[mask]\n",
    "            targets = targets[mask]\n",
    "            loss_fn = nn.CrossEntropyLoss()\n",
    "        else:\n",
    "            # Just ignore <pad>\n",
    "            loss_fn = nn.CrossEntropyLoss(ignore_index=pad_idx)\n",
    "\n",
    "        return loss_fn(outputs, targets)\n",
    "    \n",
    "    def validate_model(self):\n",
    "\n",
    "        self.model.eval()\n",
    "        val_loss = 0\n",
    "        val_accuracy = 0\n",
    "        val_word_matches = 0\n",
    "        total_items = 0\n",
    "\n",
    "        with torch.no_grad():\n",
    "\n",
    "            for (native_tensor, native_input_length, roman_tensor, roman_input_length) in self.val_dataloader:\n",
    "\n",
    "                # moving the native tensor to the device\n",
    "                native_tensor = native_tensor.to(device)\n",
    "                roman_tensor = roman_tensor.to(device)\n",
    "\n",
    "                outputs = self.model(native_tensor, native_input_length, roman_tensor)\n",
    "                actual_model_output, actual_truth = get_truncated_outputs(outputs, roman_tensor, roman_input_length)\n",
    "\n",
    "                # getting the count of correct answers\n",
    "                temp_correct, temp_count, temp_correct_words = get_correct_output_count(actual_model_output, actual_truth)\n",
    "                val_accuracy += temp_correct ; total_items += temp_count\n",
    "                val_word_matches += (temp_correct_words)\n",
    "\n",
    "                # calculating the loss\n",
    "                # loss = self.loss_fn(torch.concatenate(actual_model_output), torch.concatenate(actual_truth))\n",
    "                loss = self.compute_seq_loss(outputs, roman_tensor, pad_idx = 0, sos_idx = 1)\n",
    "                val_loss += loss.item()\n",
    "\n",
    "                # memory management\n",
    "                del native_tensor, native_input_length, roman_tensor, roman_input_length, loss\n",
    "                torch.cuda.empty_cache()\n",
    "                gc.collect()\n",
    "        \n",
    "        return val_loss/len(self.val_dataloader) , (val_accuracy/total_items) , (val_word_matches)\n",
    "\n",
    "    def train_model(self, epochs : int = 10):\n",
    "\n",
    "        \n",
    "        train_loss_history = []\n",
    "        train_accuracy_history = []\n",
    "        train_word_matches_history = []\n",
    "\n",
    "        val_loss_history = []\n",
    "        val_accuracy_history = []\n",
    "        val_word_matches_history = []\n",
    "\n",
    "        loop_obj = (range(epochs))\n",
    "\n",
    "        for epoch in loop_obj:\n",
    "\n",
    "            train_loss = 0\n",
    "            train_accuracy = 0\n",
    "            total_items = 0\n",
    "            train_word_matches = 0\n",
    "            self.model.train()\n",
    "\n",
    "            loop_obj_dataloader = tqdm(self.train_dataloader)\n",
    "\n",
    "            for (native_tensor, native_input_length, roman_tensor, roman_input_length) in loop_obj_dataloader:\n",
    "\n",
    "                # moving the native tensor to the device\n",
    "                native_tensor = native_tensor.to(device)\n",
    "                roman_tensor = roman_tensor.to(device)\n",
    "\n",
    "                outputs = self.model(native_tensor, native_input_length, roman_tensor)\n",
    "                actual_model_output, actual_truth = get_truncated_outputs(outputs, roman_tensor, roman_input_length)\n",
    "\n",
    "                # getting the count of correct answers\n",
    "                temp_correct, temp_count, temp_correct_words = get_correct_output_count(actual_model_output, actual_truth)\n",
    "                train_accuracy += temp_correct ; total_items += temp_count\n",
    "                train_word_matches += (temp_correct_words)\n",
    "                # total_items += len(native_tensor)\n",
    "\n",
    "                # calculating the loss\n",
    "                # loss = self.loss_fn(torch.concatenate(actual_model_output), torch.concatenate(actual_truth))\n",
    "                loss = self.compute_seq_loss(outputs, roman_tensor, pad_idx = 0, sos_idx = 1)\n",
    "                train_loss += loss.item()\n",
    "                \n",
    "                # optimizer \n",
    "                self.optimizer.zero_grad()\n",
    "                loss.backward()\n",
    "                self.optimizer.step()\n",
    "\n",
    "                # memory management\n",
    "                del native_tensor, native_input_length, roman_tensor, roman_input_length, loss\n",
    "                loop_obj_dataloader.set_description(f\"correct in train : {train_accuracy}\")\n",
    "                torch.cuda.empty_cache()\n",
    "                gc.collect()\n",
    "\n",
    "            # adding the train and val : loss and accuracy\n",
    "            train_loss_history.append(train_loss/len(self.train_dataloader))\n",
    "            train_accuracy_history.append(train_accuracy/total_items)\n",
    "            train_word_matches_history.append(train_word_matches/len(self.train_dataloader.dataset))\n",
    "\n",
    "            # doing validation\n",
    "            val_loss, val_accuracy, val_word_matches = self.validate_model()\n",
    "            val_loss_history.append(val_loss)  \n",
    "            val_accuracy_history.append(val_accuracy)\n",
    "            val_word_matches_history.append(val_word_matches/len(self.val_dataloader.dataset))\n",
    "\n",
    "            # loop_obj.set_description(f\"Epoch {epoch+1}/{epochs}\")\n",
    "            # loop_obj.set_postfix(\n",
    "            #     Train_loss = train_loss_history[-1],\n",
    "            #     Train_accuracy = train_accuracy_history[-1],\n",
    "            #     Val_loss = val_loss_history[-1],\n",
    "            #     Val_accuracy = val_accuracy_history[-1],\n",
    "            # )\n",
    "\n",
    "            print(f\"\"\"Epoch {epoch+1}/{epochs} : Train_loss = {train_loss_history[-1]}, Train_accuracy = {train_accuracy_history[-1]}, Val_loss = {val_loss_history[-1]}, Val_accuracy = {val_accuracy_history[-1]}\n",
    "            Train word matches : {train_word_matches}, Val word matches : {val_word_matches}\"\"\")\n",
    "\n",
    "            # step the scheduler, after calculating val loss\n",
    "            self.scheduler.step(val_loss)\n",
    "\n",
    "        self.train_loss_history = train_loss_history\n",
    "        self.train_accuracy_history = train_accuracy_history\n",
    "        self.val_loss_history = val_loss_history\n",
    "        self.val_accuracy_history = val_accuracy_history\n",
    "\n",
    "        return {\"train_loss\" : train_loss_history,\n",
    "                \"train_accuracy\" : train_accuracy_history, \n",
    "                \"val_loss\" : val_loss_history, \n",
    "                \"val_accuracy\" : val_accuracy_history,\n",
    "                \"train_word_matches\" : train_word_matches_history,\n",
    "                \"val_word_matches\" : val_word_matches_history}"
   ]
  },
  {
   "cell_type": "code",
   "execution_count": 32,
   "id": "890fb7fb",
   "metadata": {
    "execution": {
     "iopub.execute_input": "2025-05-20T06:40:29.101702Z",
     "iopub.status.busy": "2025-05-20T06:40:29.101062Z",
     "iopub.status.idle": "2025-05-20T06:40:29.138134Z",
     "shell.execute_reply": "2025-05-20T06:40:29.137581Z",
     "shell.execute_reply.started": "2025-05-20T06:40:29.101678Z"
    },
    "trusted": true
   },
   "outputs": [],
   "source": [
    "example_enc = Encoder(input_vocab_size = len(native_char2ind), \n",
    "                      embedding_size = 128, \n",
    "                      hidden_size = 256, \n",
    "                      encoder_layers = 3, \n",
    "                      rnn_type=\"LSTM\", \n",
    "                      pad_idx=native_char2ind['<pad>']).to(device)\n",
    "\n",
    "example_dec = Decoder(target_vocab_size = len(roman_char2ind), \n",
    "                      embedding_size = 128, \n",
    "                      hidden_size = 256, \n",
    "                      decoder_layers = 3, \n",
    "                      rnn_type=\"LSTM\",\n",
    "                      pad_idx=roman_char2ind['<pad>']).to(device)\n",
    "\n",
    "example_s2s = Seq_2_Seq(example_enc, example_dec)"
   ]
  },
  {
   "cell_type": "code",
   "execution_count": 33,
   "id": "18d1ab41",
   "metadata": {
    "execution": {
     "iopub.execute_input": "2025-05-20T06:40:35.837287Z",
     "iopub.status.busy": "2025-05-20T06:40:35.837000Z",
     "iopub.status.idle": "2025-05-20T06:40:35.849013Z",
     "shell.execute_reply": "2025-05-20T06:40:35.848251Z",
     "shell.execute_reply.started": "2025-05-20T06:40:35.837269Z"
    },
    "trusted": true
   },
   "outputs": [
    {
     "name": "stdout",
     "output_type": "stream",
     "text": [
      "Total words in train dataset : 67\n",
      "Total words in val dataset : 7\n",
      "Total parameters in the model :  2913.822 K\n",
      "Total parameters in encoder : 1454.336 K\n",
      "Total parameters in decoder : 1459.486 K\n"
     ]
    },
    {
     "name": "stderr",
     "output_type": "stream",
     "text": [
      "c:\\Users\\PARAM\\anaconda3\\Lib\\site-packages\\torch\\optim\\lr_scheduler.py:62: UserWarning: The verbose parameter is deprecated. Please use get_last_lr() to access the learning rate.\n",
      "  warnings.warn(\n"
     ]
    }
   ],
   "source": [
    "example_train_dataset = Dakshina_Dataset(train_df[['native', 'roman']].values, native_char2ind, roman_char2ind, max_len_native=30, max_len_roman=30)\n",
    "example_val_dataset = Dakshina_Dataset(val_df[['native', 'roman']].values, native_char2ind, roman_char2ind, max_len_native=30, max_len_roman=30)\n",
    "\n",
    "example_train_dataloader = DataLoader(example_train_dataset, batch_size=1024, shuffle=True, drop_last=False)\n",
    "example_val_dataloader = DataLoader(example_val_dataset, batch_size=1024, shuffle=True, drop_last=False)\n",
    "\n",
    "example_trainer = Trainer(model = example_s2s, train_dataloader = example_train_dataloader, val_dataloader = example_val_dataloader, optimizer_params = {\"lr\" : 5e-4})"
   ]
  },
  {
   "cell_type": "code",
   "execution_count": null,
   "id": "991b8fde",
   "metadata": {
    "execution": {
     "iopub.execute_input": "2025-05-20T06:40:54.327425Z",
     "iopub.status.busy": "2025-05-20T06:40:54.326856Z"
    },
    "trusted": true
   },
   "outputs": [
    {
     "data": {
      "application/vnd.jupyter.widget-view+json": {
       "model_id": "3cac5549ab454ab0b540aa0f5cb46ba0",
       "version_major": 2,
       "version_minor": 0
      },
      "text/plain": [
       "  0%|          | 0/67 [00:00<?, ?it/s]"
      ]
     },
     "metadata": {},
     "output_type": "display_data"
    },
    {
     "name": "stdout",
     "output_type": "stream",
     "text": [
      "Epoch 1/15 : Train_loss = 2.738896953525828, Train_accuracy = 0.2278380499515258, Val_loss = 2.500821965081351, Val_accuracy = 0.2700918404377076\n",
      "            Train word matches : 0, Val word matches : 1\n"
     ]
    },
    {
     "data": {
      "application/vnd.jupyter.widget-view+json": {
       "model_id": "37afd78ea6e845439a9015447d0ad332",
       "version_major": 2,
       "version_minor": 0
      },
      "text/plain": [
       "  0%|          | 0/67 [00:00<?, ?it/s]"
      ]
     },
     "metadata": {},
     "output_type": "display_data"
    },
    {
     "name": "stdout",
     "output_type": "stream",
     "text": [
      "Epoch 2/15 : Train_loss = 2.2387989528143586, Train_accuracy = 0.332300975419945, Val_loss = 1.8513850143977575, Val_accuracy = 0.4423554699494738\n",
      "            Train word matches : 2, Val word matches : 2\n"
     ]
    },
    {
     "data": {
      "application/vnd.jupyter.widget-view+json": {
       "model_id": "3892c618be3a4522ae2a05bfa3134536",
       "version_major": 2,
       "version_minor": 0
      },
      "text/plain": [
       "  0%|          | 0/67 [00:00<?, ?it/s]"
      ]
     },
     "metadata": {},
     "output_type": "display_data"
    },
    {
     "name": "stdout",
     "output_type": "stream",
     "text": [
      "Epoch 3/15 : Train_loss = 1.5738957533195836, Train_accuracy = 0.5319501144255311, Val_loss = 1.290787594658988, Val_accuracy = 0.630767942383385\n",
      "            Train word matches : 319, Val word matches : 136\n"
     ]
    },
    {
     "data": {
      "application/vnd.jupyter.widget-view+json": {
       "model_id": "ed3d13a985934c5d9d07b6ff8ac90958",
       "version_major": 2,
       "version_minor": 0
      },
      "text/plain": [
       "  0%|          | 0/67 [00:00<?, ?it/s]"
      ]
     },
     "metadata": {},
     "output_type": "display_data"
    }
   ],
   "source": [
    "example_history = example_trainer.train_model(epochs = 15)"
   ]
  },
  {
   "cell_type": "code",
   "execution_count": 187,
   "id": "897b44b5",
   "metadata": {},
   "outputs": [
    {
     "data": {
      "text/plain": [
       "[0.03559177929578704, 0.03790788354979624]"
      ]
     },
     "execution_count": 187,
     "metadata": {},
     "output_type": "execute_result"
    }
   ],
   "source": [
    "example_history['train_word_matches']"
   ]
  },
  {
   "cell_type": "markdown",
   "id": "117c5101",
   "metadata": {},
   "source": [
    "### wandb trainer"
   ]
  },
  {
   "cell_type": "code",
   "execution_count": 34,
   "id": "2820eabf",
   "metadata": {
    "execution": {
     "iopub.execute_input": "2025-05-20T06:19:47.965564Z",
     "iopub.status.busy": "2025-05-20T06:19:47.964645Z",
     "iopub.status.idle": "2025-05-20T06:19:54.468612Z",
     "shell.execute_reply": "2025-05-20T06:19:54.468006Z",
     "shell.execute_reply.started": "2025-05-20T06:19:47.965540Z"
    },
    "trusted": true
   },
   "outputs": [
    {
     "name": "stderr",
     "output_type": "stream",
     "text": [
      "wandb: Using wandb-core as the SDK backend.  Please refer to https://wandb.me/wandb-core for more information.\n",
      "wandb: WARNING If you're specifying your api key in code, ensure this code is not shared publicly.\n",
      "wandb: WARNING Consider setting the WANDB_API_KEY environment variable, or running `wandb login` from the command line.\n",
      "wandb: Appending key for api.wandb.ai to your netrc file: C:\\Users\\PARAM\\_netrc\n",
      "wandb: Currently logged in as: shivasurya (shivasurya-iit-madras) to https://api.wandb.ai. Use `wandb login --relogin` to force relogin\n"
     ]
    },
    {
     "data": {
      "text/plain": [
       "True"
      ]
     },
     "execution_count": 34,
     "metadata": {},
     "output_type": "execute_result"
    }
   ],
   "source": [
    "wandb.login(key=\"878d8077f96e35def15932addea71a0302e0dede\")"
   ]
  },
  {
   "cell_type": "code",
   "execution_count": 49,
   "id": "0dae87b4",
   "metadata": {},
   "outputs": [],
   "source": [
    "import wandb\n",
    "from PIL import Image\n",
    "\n",
    "# for img_name in os.listdir(\"./connectivity images\"):\n",
    "\n",
    "#     run = wandb.init(project=\"DA6401-assig-3\", config = {'connectivity' : 1})\n",
    "\n",
    "#     img = Image.open(f\"./connectivity images/{img_name}\")\n",
    "#     wandb.log({f\"{img_name}\": wandb.Image(img)})\n",
    "\n",
    "#     wandb.finish()"
   ]
  },
  {
   "cell_type": "code",
   "execution_count": null,
   "id": "0ad600ec",
   "metadata": {},
   "outputs": [],
   "source": [
    "\"\"\" For logging images \"\"\"\n",
    "import wandb\n",
    "from PIL import Image\n",
    "\n",
    "# for img_name in os.listdir(\"./attention heatmaps images\"):\n",
    "\n",
    "#     run = wandb.init(project=\"DA6401-assig-3\", config = {'attention_heatmap' : 1})\n",
    "\n",
    "#     img = Image.open(f\"./attention heatmaps images/{img_name}\")\n",
    "#     wandb.log({f\"{img_name}\": wandb.Image(img)})\n",
    "\n",
    "#     wandb.finish()"
   ]
  },
  {
   "cell_type": "code",
   "execution_count": 46,
   "id": "f361b7b7",
   "metadata": {
    "collapsed": true,
    "execution": {
     "iopub.execute_input": "2025-05-19T11:32:38.250590Z",
     "iopub.status.busy": "2025-05-19T11:32:38.250233Z",
     "iopub.status.idle": "2025-05-19T11:32:38.302105Z",
     "shell.execute_reply": "2025-05-19T11:32:38.301253Z",
     "shell.execute_reply.started": "2025-05-19T11:32:38.250572Z"
    },
    "jupyter": {
     "outputs_hidden": true
    },
    "trusted": true
   },
   "outputs": [],
   "source": [
    "def load_sweep_config(path=\"hyper-parameters.yaml\"):\n",
    "    with open(path, 'r') as f:\n",
    "        return yaml.safe_load(f)\n",
    "\n",
    "hyper_parameters_s2s = load_sweep_config(path=\"./hyper-parameters.yaml\")\n",
    "sweep_config = hyper_parameters_s2s"
   ]
  },
  {
   "cell_type": "code",
   "execution_count": 47,
   "id": "63d9590b",
   "metadata": {
    "execution": {
     "iopub.execute_input": "2025-05-20T06:20:00.193991Z",
     "iopub.status.busy": "2025-05-20T06:20:00.193091Z",
     "iopub.status.idle": "2025-05-20T06:20:00.200341Z",
     "shell.execute_reply": "2025-05-20T06:20:00.199636Z",
     "shell.execute_reply.started": "2025-05-20T06:20:00.193964Z"
    },
    "trusted": true
   },
   "outputs": [],
   "source": [
    "# Sweep Train Function\n",
    "def wandb_sweep_train():\n",
    "    \n",
    "    run = wandb.init()\n",
    "    config = wandb.config\n",
    "    run.name = f\"{config.model_type} _ embed : {config.embed_size} _ hidden : {config.hidden_size} _ layers : {config.num_layers} _ dropout : {config.dropout}\"\n",
    "\n",
    "    # === Build Encoder ===\n",
    "    encoder = Encoder(\n",
    "        input_vocab_size=len(native_char2ind),\n",
    "        embedding_size = config.embed_size,\n",
    "        hidden_size = config.hidden_size,\n",
    "        encoder_layers = config.num_layers,\n",
    "        dropout=config.dropout,\n",
    "        rnn_type=config.model_type,\n",
    "    )\n",
    "\n",
    "    # === Build Decoder ===\n",
    "    decoder = Decoder(\n",
    "        target_vocab_size=len(roman_char2ind),\n",
    "        embedding_size=config.embed_size,\n",
    "        hidden_size=config.hidden_size,\n",
    "        decoder_layers=config.num_layers,\n",
    "        dropout=config.dropout,\n",
    "        rnn_type=config.model_type,\n",
    "    )\n",
    "\n",
    "    # === Full Seq2Seq ===\n",
    "    model = Seq_2_Seq(\n",
    "        encoder=encoder,\n",
    "        decoder=decoder,\n",
    "    ).to(device)\n",
    "\n",
    "    # === Trainer ===\n",
    "    trainer = Trainer(\n",
    "        model=model,\n",
    "        train_dataloader=example_train_dataloader,\n",
    "        val_dataloader=example_val_dataloader,\n",
    "        optimizer_params={\"lr\": 1e-3},\n",
    "    )\n",
    "\n",
    "    history = trainer.train_model(epochs=10)\n",
    "\n",
    "    # === wandb Log ===\n",
    "    for i in range(len(history[\"train_loss\"])):\n",
    "        wandb.log({\n",
    "            \"train_loss\": history[\"train_loss\"][i],\n",
    "            \"train_accuracy\": history[\"train_accuracy\"][i],\n",
    "            \"val_loss\": history[\"val_loss\"][i],\n",
    "            \"val_accuracy\": history[\"val_accuracy\"][i],\n",
    "            \"train_word_matches\": history[\"train_word_matches\"][i],\n",
    "            \"val_word_matches\": history[\"val_word_matches\"][i],\n",
    "        })"
   ]
  },
  {
   "cell_type": "code",
   "execution_count": 217,
   "id": "bee5a8fd",
   "metadata": {
    "collapsed": true,
    "jupyter": {
     "outputs_hidden": true
    }
   },
   "outputs": [
    {
     "name": "stdout",
     "output_type": "stream",
     "text": [
      "Create sweep with ID: 7qgmepwg\n",
      "Sweep URL: https://wandb.ai/shivasurya-iit-madras/DA6401-assig-3/sweeps/7qgmepwg\n"
     ]
    },
    {
     "name": "stderr",
     "output_type": "stream",
     "text": [
      "\u001b[34m\u001b[1mwandb\u001b[0m: Agent Starting Run: w57t3ih5 with config:\n",
      "\u001b[34m\u001b[1mwandb\u001b[0m: \tbeam_width: 1\n",
      "\u001b[34m\u001b[1mwandb\u001b[0m: \tdropout: 0.2\n",
      "\u001b[34m\u001b[1mwandb\u001b[0m: \tembed_size: 16\n",
      "\u001b[34m\u001b[1mwandb\u001b[0m: \thidden_size: 256\n",
      "\u001b[34m\u001b[1mwandb\u001b[0m: \tmodel_type: RNN\n",
      "\u001b[34m\u001b[1mwandb\u001b[0m: \tnum_layers: 1\n"
     ]
    },
    {
     "data": {
      "text/html": [
       "Tracking run with wandb version 0.19.7"
      ],
      "text/plain": [
       "<IPython.core.display.HTML object>"
      ]
     },
     "metadata": {},
     "output_type": "display_data"
    },
    {
     "data": {
      "text/html": [
       "Run data is saved locally in <code>d:\\DISK S\\IITM\\Sem-8\\DL\\Assignment\\assignment-3\\code\\wandb\\run-20250517_210952-w57t3ih5</code>"
      ],
      "text/plain": [
       "<IPython.core.display.HTML object>"
      ]
     },
     "metadata": {},
     "output_type": "display_data"
    },
    {
     "data": {
      "text/html": [
       "Syncing run <strong><a href='https://wandb.ai/shivasurya-iit-madras/DA6401-assig-3/runs/w57t3ih5' target=\"_blank\">whole-sweep-1</a></strong> to <a href='https://wandb.ai/shivasurya-iit-madras/DA6401-assig-3' target=\"_blank\">Weights & Biases</a> (<a href='https://wandb.me/developer-guide' target=\"_blank\">docs</a>)<br>Sweep page: <a href='https://wandb.ai/shivasurya-iit-madras/DA6401-assig-3/sweeps/7qgmepwg' target=\"_blank\">https://wandb.ai/shivasurya-iit-madras/DA6401-assig-3/sweeps/7qgmepwg</a>"
      ],
      "text/plain": [
       "<IPython.core.display.HTML object>"
      ]
     },
     "metadata": {},
     "output_type": "display_data"
    },
    {
     "data": {
      "text/html": [
       " View project at <a href='https://wandb.ai/shivasurya-iit-madras/DA6401-assig-3' target=\"_blank\">https://wandb.ai/shivasurya-iit-madras/DA6401-assig-3</a>"
      ],
      "text/plain": [
       "<IPython.core.display.HTML object>"
      ]
     },
     "metadata": {},
     "output_type": "display_data"
    },
    {
     "data": {
      "text/html": [
       " View sweep at <a href='https://wandb.ai/shivasurya-iit-madras/DA6401-assig-3/sweeps/7qgmepwg' target=\"_blank\">https://wandb.ai/shivasurya-iit-madras/DA6401-assig-3/sweeps/7qgmepwg</a>"
      ],
      "text/plain": [
       "<IPython.core.display.HTML object>"
      ]
     },
     "metadata": {},
     "output_type": "display_data"
    },
    {
     "data": {
      "text/html": [
       " View run at <a href='https://wandb.ai/shivasurya-iit-madras/DA6401-assig-3/runs/w57t3ih5' target=\"_blank\">https://wandb.ai/shivasurya-iit-madras/DA6401-assig-3/runs/w57t3ih5</a>"
      ],
      "text/plain": [
       "<IPython.core.display.HTML object>"
      ]
     },
     "metadata": {},
     "output_type": "display_data"
    },
    {
     "name": "stdout",
     "output_type": "stream",
     "text": [
      "Total words in train dataset : 67\n",
      "Total words in val dataset : 7\n",
      "Total parameters in the model :  149.278 K\n",
      "Total parameters in encoder : 70.944 K\n",
      "Total parameters in decoder : 78.334 K\n"
     ]
    },
    {
     "name": "stderr",
     "output_type": "stream",
     "text": [
      "C:\\Users\\pcdpm\\AppData\\Roaming\\Python\\Python310\\site-packages\\torch\\nn\\modules\\rnn.py:82: UserWarning: dropout option adds dropout after all but last recurrent layer, so non-zero dropout expects num_layers greater than 1, but got dropout=0.2 and num_layers=1\n",
      "  warnings.warn(\"dropout option adds dropout after all but last \"\n"
     ]
    },
    {
     "data": {
      "application/vnd.jupyter.widget-view+json": {
       "model_id": "cd7b6f53c8224130be250fd20df2fd19",
       "version_major": 2,
       "version_minor": 0
      },
      "text/plain": [
       "  0%|          | 0/67 [00:00<?, ?it/s]"
      ]
     },
     "metadata": {},
     "output_type": "display_data"
    },
    {
     "name": "stdout",
     "output_type": "stream",
     "text": [
      "Epoch 1/10 : Train_loss = 2.6711729925070236, Train_accuracy = 0.23512512843916897, Val_loss = 2.5029961381639754, Val_accuracy = 0.26702118750523407\n",
      "            Train word matches : 1, Val word matches : 0\n"
     ]
    },
    {
     "data": {
      "application/vnd.jupyter.widget-view+json": {
       "model_id": "f2ca9bbe90df4c9fb7b6d9202ec6946c",
       "version_major": 2,
       "version_minor": 0
      },
      "text/plain": [
       "  0%|          | 0/67 [00:00<?, ?it/s]"
      ]
     },
     "metadata": {},
     "output_type": "display_data"
    },
    {
     "name": "stdout",
     "output_type": "stream",
     "text": [
      "Epoch 2/10 : Train_loss = 2.433818913217801, Train_accuracy = 0.28149513085296796, Val_loss = 2.4048005172184537, Val_accuracy = 0.2895625715322558\n",
      "            Train word matches : 0, Val word matches : 0\n"
     ]
    },
    {
     "data": {
      "application/vnd.jupyter.widget-view+json": {
       "model_id": "8af6e5f4197a4161a50c3042f3b41b55",
       "version_major": 2,
       "version_minor": 0
      },
      "text/plain": [
       "  0%|          | 0/67 [00:00<?, ?it/s]"
      ]
     },
     "metadata": {},
     "output_type": "display_data"
    },
    {
     "name": "stdout",
     "output_type": "stream",
     "text": [
      "Epoch 3/10 : Train_loss = 2.3164652746115157, Train_accuracy = 0.31384003767109286, Val_loss = 2.2627396242959157, Val_accuracy = 0.33108617368729587\n",
      "            Train word matches : 1, Val word matches : 0\n"
     ]
    },
    {
     "data": {
      "application/vnd.jupyter.widget-view+json": {
       "model_id": "0bb562f315d04c91a2ab5d8fd8e4a673",
       "version_major": 2,
       "version_minor": 0
      },
      "text/plain": [
       "  0%|          | 0/67 [00:00<?, ?it/s]"
      ]
     },
     "metadata": {},
     "output_type": "display_data"
    },
    {
     "name": "stdout",
     "output_type": "stream",
     "text": [
      "Epoch 4/10 : Train_loss = 2.218998158155982, Train_accuracy = 0.34243366339506764, Val_loss = 2.1687756265912737, Val_accuracy = 0.3607598470256539\n",
      "            Train word matches : 3, Val word matches : 0\n"
     ]
    },
    {
     "data": {
      "application/vnd.jupyter.widget-view+json": {
       "model_id": "55f27a802e1a4262812242701a139501",
       "version_major": 2,
       "version_minor": 0
      },
      "text/plain": [
       "  0%|          | 0/67 [00:00<?, ?it/s]"
      ]
     },
     "metadata": {},
     "output_type": "display_data"
    },
    {
     "name": "stdout",
     "output_type": "stream",
     "text": [
      "Epoch 5/10 : Train_loss = 2.1285142115692595, Train_accuracy = 0.3682876931863598, Val_loss = 2.11018739427839, Val_accuracy = 0.37766239566758786\n",
      "            Train word matches : 4, Val word matches : 0\n"
     ]
    },
    {
     "data": {
      "application/vnd.jupyter.widget-view+json": {
       "model_id": "b904ece31c7b47b0a7d1d5c6c19fceec",
       "version_major": 2,
       "version_minor": 0
      },
      "text/plain": [
       "  0%|          | 0/67 [00:00<?, ?it/s]"
      ]
     },
     "metadata": {},
     "output_type": "display_data"
    },
    {
     "name": "stdout",
     "output_type": "stream",
     "text": [
      "Epoch 6/10 : Train_loss = 2.0667013125633127, Train_accuracy = 0.38556152483509004, Val_loss = 2.0658600670950755, Val_accuracy = 0.3857019233453368\n",
      "            Train word matches : 6, Val word matches : 0\n"
     ]
    },
    {
     "data": {
      "application/vnd.jupyter.widget-view+json": {
       "model_id": "88f8ba1bcae948839a03e3fc00c10f1b",
       "version_major": 2,
       "version_minor": 0
      },
      "text/plain": [
       "  0%|          | 0/67 [00:00<?, ?it/s]"
      ]
     },
     "metadata": {},
     "output_type": "display_data"
    },
    {
     "name": "stdout",
     "output_type": "stream",
     "text": [
      "Epoch 7/10 : Train_loss = 2.021460753768238, Train_accuracy = 0.39845094777884327, Val_loss = 2.034974847521101, Val_accuracy = 0.3940764313429919\n",
      "            Train word matches : 7, Val word matches : 1\n"
     ]
    },
    {
     "data": {
      "application/vnd.jupyter.widget-view+json": {
       "model_id": "016d1d5f94a64b0c9b444ae9179708a5",
       "version_major": 2,
       "version_minor": 0
      },
      "text/plain": [
       "  0%|          | 0/67 [00:00<?, ?it/s]"
      ]
     },
     "metadata": {},
     "output_type": "display_data"
    },
    {
     "name": "stdout",
     "output_type": "stream",
     "text": [
      "Epoch 8/10 : Train_loss = 1.992321238588931, Train_accuracy = 0.40516341946946544, Val_loss = 1.9945087432861328, Val_accuracy = 0.40607989280629764\n",
      "            Train word matches : 19, Val word matches : 3\n"
     ]
    },
    {
     "data": {
      "application/vnd.jupyter.widget-view+json": {
       "model_id": "3d21d75930534e62906314f217061a11",
       "version_major": 2,
       "version_minor": 0
      },
      "text/plain": [
       "  0%|          | 0/67 [00:00<?, ?it/s]"
      ]
     },
     "metadata": {},
     "output_type": "display_data"
    },
    {
     "name": "stdout",
     "output_type": "stream",
     "text": [
      "Epoch 9/10 : Train_loss = 1.9563785631265214, Train_accuracy = 0.41519981111692944, Val_loss = 1.96337286063603, Val_accuracy = 0.4140635904307289\n",
      "            Train word matches : 13, Val word matches : 0\n"
     ]
    },
    {
     "data": {
      "application/vnd.jupyter.widget-view+json": {
       "model_id": "80cbb636f88c4ae8b324fa719fec2d9f",
       "version_major": 2,
       "version_minor": 0
      },
      "text/plain": [
       "  0%|          | 0/67 [00:00<?, ?it/s]"
      ]
     },
     "metadata": {},
     "output_type": "display_data"
    },
    {
     "name": "stdout",
     "output_type": "stream",
     "text": [
      "Epoch 10/10 : Train_loss = 1.931266886084827, Train_accuracy = 0.4216603507790767, Val_loss = 1.9417347737721034, Val_accuracy = 0.41766462886972056\n",
      "            Train word matches : 19, Val word matches : 2\n"
     ]
    },
    {
     "data": {
      "text/html": [],
      "text/plain": [
       "<IPython.core.display.HTML object>"
      ]
     },
     "metadata": {},
     "output_type": "display_data"
    },
    {
     "data": {
      "text/html": [
       "<br>    <style><br>        .wandb-row {<br>            display: flex;<br>            flex-direction: row;<br>            flex-wrap: wrap;<br>            justify-content: flex-start;<br>            width: 100%;<br>        }<br>        .wandb-col {<br>            display: flex;<br>            flex-direction: column;<br>            flex-basis: 100%;<br>            flex: 1;<br>            padding: 10px;<br>        }<br>    </style><br><div class=\"wandb-row\"><div class=\"wandb-col\"><h3>Run history:</h3><br/><table class=\"wandb\"><tr><td>train_accuracy</td><td>▁▃▄▅▆▇▇▇██</td></tr><tr><td>train_loss</td><td>█▆▅▄▃▂▂▂▁▁</td></tr><tr><td>train_word_matches</td><td>▁▁▁▂▂▃▄█▆█</td></tr><tr><td>val_accuracy</td><td>▁▂▄▅▆▇▇▇██</td></tr><tr><td>val_loss</td><td>█▇▅▄▃▃▂▂▁▁</td></tr><tr><td>val_word_matches</td><td>▁▁▁▁▁▁▃█▁▆</td></tr></table><br/></div><div class=\"wandb-col\"><h3>Run summary:</h3><br/><table class=\"wandb\"><tr><td>train_accuracy</td><td>0.42166</td></tr><tr><td>train_loss</td><td>1.93127</td></tr><tr><td>train_word_matches</td><td>0.00028</td></tr><tr><td>val_accuracy</td><td>0.41766</td></tr><tr><td>val_loss</td><td>1.94173</td></tr><tr><td>val_word_matches</td><td>0.00029</td></tr></table><br/></div></div>"
      ],
      "text/plain": [
       "<IPython.core.display.HTML object>"
      ]
     },
     "metadata": {},
     "output_type": "display_data"
    },
    {
     "data": {
      "text/html": [
       " View run <strong style=\"color:#cdcd00\">RNN _ embed : 16 _ hidden : 256 _ layers : 1 _ dropout : 0.2</strong> at: <a href='https://wandb.ai/shivasurya-iit-madras/DA6401-assig-3/runs/w57t3ih5' target=\"_blank\">https://wandb.ai/shivasurya-iit-madras/DA6401-assig-3/runs/w57t3ih5</a><br> View project at: <a href='https://wandb.ai/shivasurya-iit-madras/DA6401-assig-3' target=\"_blank\">https://wandb.ai/shivasurya-iit-madras/DA6401-assig-3</a><br>Synced 5 W&B file(s), 0 media file(s), 0 artifact file(s) and 0 other file(s)"
      ],
      "text/plain": [
       "<IPython.core.display.HTML object>"
      ]
     },
     "metadata": {},
     "output_type": "display_data"
    },
    {
     "data": {
      "text/html": [
       "Find logs at: <code>.\\wandb\\run-20250517_210952-w57t3ih5\\logs</code>"
      ],
      "text/plain": [
       "<IPython.core.display.HTML object>"
      ]
     },
     "metadata": {},
     "output_type": "display_data"
    },
    {
     "name": "stderr",
     "output_type": "stream",
     "text": [
      "\u001b[34m\u001b[1mwandb\u001b[0m: Agent Starting Run: vsr7c96p with config:\n",
      "\u001b[34m\u001b[1mwandb\u001b[0m: \tbeam_width: 1\n",
      "\u001b[34m\u001b[1mwandb\u001b[0m: \tdropout: 0.3\n",
      "\u001b[34m\u001b[1mwandb\u001b[0m: \tembed_size: 256\n",
      "\u001b[34m\u001b[1mwandb\u001b[0m: \thidden_size: 256\n",
      "\u001b[34m\u001b[1mwandb\u001b[0m: \tmodel_type: LSTM\n",
      "\u001b[34m\u001b[1mwandb\u001b[0m: \tnum_layers: 1\n"
     ]
    },
    {
     "data": {
      "text/html": [
       "Tracking run with wandb version 0.19.7"
      ],
      "text/plain": [
       "<IPython.core.display.HTML object>"
      ]
     },
     "metadata": {},
     "output_type": "display_data"
    },
    {
     "data": {
      "text/html": [
       "Run data is saved locally in <code>d:\\DISK S\\IITM\\Sem-8\\DL\\Assignment\\assignment-3\\code\\wandb\\run-20250517_212210-vsr7c96p</code>"
      ],
      "text/plain": [
       "<IPython.core.display.HTML object>"
      ]
     },
     "metadata": {},
     "output_type": "display_data"
    },
    {
     "data": {
      "text/html": [
       "Syncing run <strong><a href='https://wandb.ai/shivasurya-iit-madras/DA6401-assig-3/runs/vsr7c96p' target=\"_blank\">smooth-sweep-2</a></strong> to <a href='https://wandb.ai/shivasurya-iit-madras/DA6401-assig-3' target=\"_blank\">Weights & Biases</a> (<a href='https://wandb.me/developer-guide' target=\"_blank\">docs</a>)<br>Sweep page: <a href='https://wandb.ai/shivasurya-iit-madras/DA6401-assig-3/sweeps/7qgmepwg' target=\"_blank\">https://wandb.ai/shivasurya-iit-madras/DA6401-assig-3/sweeps/7qgmepwg</a>"
      ],
      "text/plain": [
       "<IPython.core.display.HTML object>"
      ]
     },
     "metadata": {},
     "output_type": "display_data"
    },
    {
     "data": {
      "text/html": [
       " View project at <a href='https://wandb.ai/shivasurya-iit-madras/DA6401-assig-3' target=\"_blank\">https://wandb.ai/shivasurya-iit-madras/DA6401-assig-3</a>"
      ],
      "text/plain": [
       "<IPython.core.display.HTML object>"
      ]
     },
     "metadata": {},
     "output_type": "display_data"
    },
    {
     "data": {
      "text/html": [
       " View sweep at <a href='https://wandb.ai/shivasurya-iit-madras/DA6401-assig-3/sweeps/7qgmepwg' target=\"_blank\">https://wandb.ai/shivasurya-iit-madras/DA6401-assig-3/sweeps/7qgmepwg</a>"
      ],
      "text/plain": [
       "<IPython.core.display.HTML object>"
      ]
     },
     "metadata": {},
     "output_type": "display_data"
    },
    {
     "data": {
      "text/html": [
       " View run at <a href='https://wandb.ai/shivasurya-iit-madras/DA6401-assig-3/runs/vsr7c96p' target=\"_blank\">https://wandb.ai/shivasurya-iit-madras/DA6401-assig-3/runs/vsr7c96p</a>"
      ],
      "text/plain": [
       "<IPython.core.display.HTML object>"
      ]
     },
     "metadata": {},
     "output_type": "display_data"
    },
    {
     "name": "stdout",
     "output_type": "stream",
     "text": [
      "Total words in train dataset : 67\n",
      "Total words in val dataset : 7\n",
      "Total parameters in the model :  1080.862 K\n",
      "Total parameters in encoder : 539.136 K\n",
      "Total parameters in decoder : 541.726 K\n"
     ]
    },
    {
     "data": {
      "application/vnd.jupyter.widget-view+json": {
       "model_id": "8f7acf6c6dfc47959e576f5da45c2084",
       "version_major": 2,
       "version_minor": 0
      },
      "text/plain": [
       "  0%|          | 0/67 [00:00<?, ?it/s]"
      ]
     },
     "metadata": {},
     "output_type": "display_data"
    },
    {
     "name": "stdout",
     "output_type": "stream",
     "text": [
      "Epoch 1/10 : Train_loss = 2.4869069768421688, Train_accuracy = 0.29877687659683355, Val_loss = 2.035921130861555, Val_accuracy = 0.4287468944532842\n",
      "            Train word matches : 8, Val word matches : 8\n"
     ]
    },
    {
     "data": {
      "application/vnd.jupyter.widget-view+json": {
       "model_id": "3cd55325a1764d0496f9bf0b554e39f3",
       "version_major": 2,
       "version_minor": 0
      },
      "text/plain": [
       "  0%|          | 0/67 [00:00<?, ?it/s]"
      ]
     },
     "metadata": {},
     "output_type": "display_data"
    },
    {
     "name": "stdout",
     "output_type": "stream",
     "text": [
      "Epoch 2/10 : Train_loss = 1.7667122812413458, Train_accuracy = 0.49760532671363245, Val_loss = 1.5951780421393258, Val_accuracy = 0.5413421544817575\n",
      "            Train word matches : 232, Val word matches : 48\n"
     ]
    },
    {
     "data": {
      "application/vnd.jupyter.widget-view+json": {
       "model_id": "21a6be6d49154499a817f9db89064d70",
       "version_major": 2,
       "version_minor": 0
      },
      "text/plain": [
       "  0%|          | 0/67 [00:00<?, ?it/s]"
      ]
     },
     "metadata": {},
     "output_type": "display_data"
    },
    {
     "name": "stdout",
     "output_type": "stream",
     "text": [
      "Epoch 3/10 : Train_loss = 1.4975076540192562, Train_accuracy = 0.5636458125863131, Val_loss = 1.4455454519816808, Val_accuracy = 0.5782737347514166\n",
      "            Train word matches : 556, Val word matches : 71\n"
     ]
    },
    {
     "data": {
      "application/vnd.jupyter.widget-view+json": {
       "model_id": "69099a62f95b46f9838104f44e0960ad",
       "version_major": 2,
       "version_minor": 0
      },
      "text/plain": [
       "  0%|          | 0/67 [00:00<?, ?it/s]"
      ]
     },
     "metadata": {},
     "output_type": "display_data"
    },
    {
     "name": "stdout",
     "output_type": "stream",
     "text": [
      "Epoch 4/10 : Train_loss = 1.3740935378999852, Train_accuracy = 0.5925203886875924, Val_loss = 1.3629090785980225, Val_accuracy = 0.5948413030734444\n",
      "            Train word matches : 713, Val word matches : 75\n"
     ]
    },
    {
     "data": {
      "application/vnd.jupyter.widget-view+json": {
       "model_id": "da0ade10ee5c45e4a83ef52f22bbea9e",
       "version_major": 2,
       "version_minor": 0
      },
      "text/plain": [
       "  0%|          | 0/67 [00:00<?, ?it/s]"
      ]
     },
     "metadata": {},
     "output_type": "display_data"
    },
    {
     "name": "stdout",
     "output_type": "stream",
     "text": [
      "Epoch 5/10 : Train_loss = 1.2939327457057896, Train_accuracy = 0.610364035186067, Val_loss = 1.3052899496895927, Val_accuracy = 0.6093710744493761\n",
      "            Train word matches : 781, Val word matches : 97\n"
     ]
    },
    {
     "data": {
      "application/vnd.jupyter.widget-view+json": {
       "model_id": "985e3c48a2ea4493a09f90e5d9c1a846",
       "version_major": 2,
       "version_minor": 0
      },
      "text/plain": [
       "  0%|          | 0/67 [00:00<?, ?it/s]"
      ]
     },
     "metadata": {},
     "output_type": "display_data"
    },
    {
     "name": "stdout",
     "output_type": "stream",
     "text": [
      "Epoch 6/10 : Train_loss = 1.2418227960814292, Train_accuracy = 0.6207169906389445, Val_loss = 1.2627662249973841, Val_accuracy = 0.6198252519331156\n",
      "            Train word matches : 919, Val word matches : 113\n"
     ]
    },
    {
     "data": {
      "application/vnd.jupyter.widget-view+json": {
       "model_id": "5904f904c4b34b8492622d574a5f2a66",
       "version_major": 2,
       "version_minor": 0
      },
      "text/plain": [
       "  0%|          | 0/67 [00:00<?, ?it/s]"
      ]
     },
     "metadata": {},
     "output_type": "display_data"
    },
    {
     "name": "stdout",
     "output_type": "stream",
     "text": [
      "Epoch 7/10 : Train_loss = 1.2055072731046534, Train_accuracy = 0.6274334193771344, Val_loss = 1.2444122178213937, Val_accuracy = 0.6219328364458588\n",
      "            Train word matches : 958, Val word matches : 113\n"
     ]
    },
    {
     "data": {
      "application/vnd.jupyter.widget-view+json": {
       "model_id": "ecfde164bdf848c99c264465c96926bd",
       "version_major": 2,
       "version_minor": 0
      },
      "text/plain": [
       "  0%|          | 0/67 [00:00<?, ?it/s]"
      ]
     },
     "metadata": {},
     "output_type": "display_data"
    },
    {
     "name": "stdout",
     "output_type": "stream",
     "text": [
      "Epoch 8/10 : Train_loss = 1.1724791509002002, Train_accuracy = 0.6344228843974934, Val_loss = 1.2345071349825179, Val_accuracy = 0.6215559835859643\n",
      "            Train word matches : 1029, Val word matches : 114\n"
     ]
    },
    {
     "data": {
      "application/vnd.jupyter.widget-view+json": {
       "model_id": "e91fc478195b486abf692fb025fe23ab",
       "version_major": 2,
       "version_minor": 0
      },
      "text/plain": [
       "  0%|          | 0/67 [00:00<?, ?it/s]"
      ]
     },
     "metadata": {},
     "output_type": "display_data"
    },
    {
     "name": "stdout",
     "output_type": "stream",
     "text": [
      "Epoch 9/10 : Train_loss = 1.1484771112897503, Train_accuracy = 0.6381332760001108, Val_loss = 1.2008821964263916, Val_accuracy = 0.6308796024900204\n",
      "            Train word matches : 1079, Val word matches : 120\n"
     ]
    },
    {
     "data": {
      "application/vnd.jupyter.widget-view+json": {
       "model_id": "59f48e34105d4d239a2a2d8464e926af",
       "version_major": 2,
       "version_minor": 0
      },
      "text/plain": [
       "  0%|          | 0/67 [00:00<?, ?it/s]"
      ]
     },
     "metadata": {},
     "output_type": "display_data"
    },
    {
     "name": "stdout",
     "output_type": "stream",
     "text": [
      "Epoch 10/10 : Train_loss = 1.1273243000258262, Train_accuracy = 0.6428078681933835, Val_loss = 1.198397193636213, Val_accuracy = 0.6292186584038187\n",
      "            Train word matches : 1084, Val word matches : 126\n"
     ]
    },
    {
     "data": {
      "text/html": [],
      "text/plain": [
       "<IPython.core.display.HTML object>"
      ]
     },
     "metadata": {},
     "output_type": "display_data"
    },
    {
     "data": {
      "text/html": [
       "<br>    <style><br>        .wandb-row {<br>            display: flex;<br>            flex-direction: row;<br>            flex-wrap: wrap;<br>            justify-content: flex-start;<br>            width: 100%;<br>        }<br>        .wandb-col {<br>            display: flex;<br>            flex-direction: column;<br>            flex-basis: 100%;<br>            flex: 1;<br>            padding: 10px;<br>        }<br>    </style><br><div class=\"wandb-row\"><div class=\"wandb-col\"><h3>Run history:</h3><br/><table class=\"wandb\"><tr><td>train_accuracy</td><td>▁▅▆▇▇█████</td></tr><tr><td>train_loss</td><td>█▄▃▂▂▂▁▁▁▁</td></tr><tr><td>train_word_matches</td><td>▁▂▅▆▆▇▇███</td></tr><tr><td>val_accuracy</td><td>▁▅▆▇▇█████</td></tr><tr><td>val_loss</td><td>█▄▃▂▂▂▁▁▁▁</td></tr><tr><td>val_word_matches</td><td>▁▃▅▅▆▇▇▇██</td></tr></table><br/></div><div class=\"wandb-col\"><h3>Run summary:</h3><br/><table class=\"wandb\"><tr><td>train_accuracy</td><td>0.64281</td></tr><tr><td>train_loss</td><td>1.12732</td></tr><tr><td>train_word_matches</td><td>0.01589</td></tr><tr><td>val_accuracy</td><td>0.62922</td></tr><tr><td>val_loss</td><td>1.1984</td></tr><tr><td>val_word_matches</td><td>0.01846</td></tr></table><br/></div></div>"
      ],
      "text/plain": [
       "<IPython.core.display.HTML object>"
      ]
     },
     "metadata": {},
     "output_type": "display_data"
    },
    {
     "data": {
      "text/html": [
       " View run <strong style=\"color:#cdcd00\">LSTM _ embed : 256 _ hidden : 256 _ layers : 1 _ dropout : 0.3</strong> at: <a href='https://wandb.ai/shivasurya-iit-madras/DA6401-assig-3/runs/vsr7c96p' target=\"_blank\">https://wandb.ai/shivasurya-iit-madras/DA6401-assig-3/runs/vsr7c96p</a><br> View project at: <a href='https://wandb.ai/shivasurya-iit-madras/DA6401-assig-3' target=\"_blank\">https://wandb.ai/shivasurya-iit-madras/DA6401-assig-3</a><br>Synced 5 W&B file(s), 0 media file(s), 0 artifact file(s) and 0 other file(s)"
      ],
      "text/plain": [
       "<IPython.core.display.HTML object>"
      ]
     },
     "metadata": {},
     "output_type": "display_data"
    },
    {
     "data": {
      "text/html": [
       "Find logs at: <code>.\\wandb\\run-20250517_212210-vsr7c96p\\logs</code>"
      ],
      "text/plain": [
       "<IPython.core.display.HTML object>"
      ]
     },
     "metadata": {},
     "output_type": "display_data"
    },
    {
     "name": "stderr",
     "output_type": "stream",
     "text": [
      "\u001b[34m\u001b[1mwandb\u001b[0m: Agent Starting Run: 8uj41rah with config:\n",
      "\u001b[34m\u001b[1mwandb\u001b[0m: \tbeam_width: 1\n",
      "\u001b[34m\u001b[1mwandb\u001b[0m: \tdropout: 0.2\n",
      "\u001b[34m\u001b[1mwandb\u001b[0m: \tembed_size: 32\n",
      "\u001b[34m\u001b[1mwandb\u001b[0m: \thidden_size: 64\n",
      "\u001b[34m\u001b[1mwandb\u001b[0m: \tmodel_type: GRU\n",
      "\u001b[34m\u001b[1mwandb\u001b[0m: \tnum_layers: 3\n"
     ]
    },
    {
     "data": {
      "text/html": [
       "Tracking run with wandb version 0.19.7"
      ],
      "text/plain": [
       "<IPython.core.display.HTML object>"
      ]
     },
     "metadata": {},
     "output_type": "display_data"
    },
    {
     "data": {
      "text/html": [
       "Run data is saved locally in <code>d:\\DISK S\\IITM\\Sem-8\\DL\\Assignment\\assignment-3\\code\\wandb\\run-20250517_213533-8uj41rah</code>"
      ],
      "text/plain": [
       "<IPython.core.display.HTML object>"
      ]
     },
     "metadata": {},
     "output_type": "display_data"
    },
    {
     "data": {
      "text/html": [
       "Syncing run <strong><a href='https://wandb.ai/shivasurya-iit-madras/DA6401-assig-3/runs/8uj41rah' target=\"_blank\">jumping-sweep-3</a></strong> to <a href='https://wandb.ai/shivasurya-iit-madras/DA6401-assig-3' target=\"_blank\">Weights & Biases</a> (<a href='https://wandb.me/developer-guide' target=\"_blank\">docs</a>)<br>Sweep page: <a href='https://wandb.ai/shivasurya-iit-madras/DA6401-assig-3/sweeps/7qgmepwg' target=\"_blank\">https://wandb.ai/shivasurya-iit-madras/DA6401-assig-3/sweeps/7qgmepwg</a>"
      ],
      "text/plain": [
       "<IPython.core.display.HTML object>"
      ]
     },
     "metadata": {},
     "output_type": "display_data"
    },
    {
     "data": {
      "text/html": [
       " View project at <a href='https://wandb.ai/shivasurya-iit-madras/DA6401-assig-3' target=\"_blank\">https://wandb.ai/shivasurya-iit-madras/DA6401-assig-3</a>"
      ],
      "text/plain": [
       "<IPython.core.display.HTML object>"
      ]
     },
     "metadata": {},
     "output_type": "display_data"
    },
    {
     "data": {
      "text/html": [
       " View sweep at <a href='https://wandb.ai/shivasurya-iit-madras/DA6401-assig-3/sweeps/7qgmepwg' target=\"_blank\">https://wandb.ai/shivasurya-iit-madras/DA6401-assig-3/sweeps/7qgmepwg</a>"
      ],
      "text/plain": [
       "<IPython.core.display.HTML object>"
      ]
     },
     "metadata": {},
     "output_type": "display_data"
    },
    {
     "data": {
      "text/html": [
       " View run at <a href='https://wandb.ai/shivasurya-iit-madras/DA6401-assig-3/runs/8uj41rah' target=\"_blank\">https://wandb.ai/shivasurya-iit-madras/DA6401-assig-3/runs/8uj41rah</a>"
      ],
      "text/plain": [
       "<IPython.core.display.HTML object>"
      ]
     },
     "metadata": {},
     "output_type": "display_data"
    },
    {
     "name": "stdout",
     "output_type": "stream",
     "text": [
      "Total words in train dataset : 67\n",
      "Total words in val dataset : 7\n",
      "Total parameters in the model :  141.982 K\n",
      "Total parameters in encoder : 70.336 K\n",
      "Total parameters in decoder : 71.646 K\n"
     ]
    },
    {
     "data": {
      "application/vnd.jupyter.widget-view+json": {
       "model_id": "9a45f999e46044688276420315926342",
       "version_major": 2,
       "version_minor": 0
      },
      "text/plain": [
       "  0%|          | 0/67 [00:00<?, ?it/s]"
      ]
     },
     "metadata": {},
     "output_type": "display_data"
    },
    {
     "name": "stdout",
     "output_type": "stream",
     "text": [
      "Epoch 1/10 : Train_loss = 2.9286431768047274, Train_accuracy = 0.18853748840914816, Val_loss = 2.757445744105748, Val_accuracy = 0.22027747536498898\n",
      "            Train word matches : 0, Val word matches : 0\n"
     ]
    },
    {
     "data": {
      "application/vnd.jupyter.widget-view+json": {
       "model_id": "d715bc3067344c438e9cd0ad88da4cfd",
       "version_major": 2,
       "version_minor": 0
      },
      "text/plain": [
       "  0%|          | 0/67 [00:00<?, ?it/s]"
      ]
     },
     "metadata": {},
     "output_type": "display_data"
    },
    {
     "name": "stdout",
     "output_type": "stream",
     "text": [
      "Epoch 2/10 : Train_loss = 2.5687629571601525, Train_accuracy = 0.2688167504461571, Val_loss = 2.335716417857579, Val_accuracy = 0.3257264885687966\n",
      "            Train word matches : 0, Val word matches : 0\n"
     ]
    },
    {
     "data": {
      "application/vnd.jupyter.widget-view+json": {
       "model_id": "f931340d100d48b69ad7fe8bf8bf583d",
       "version_major": 2,
       "version_minor": 0
      },
      "text/plain": [
       "  0%|          | 0/67 [00:00<?, ?it/s]"
      ]
     },
     "metadata": {},
     "output_type": "display_data"
    },
    {
     "name": "stdout",
     "output_type": "stream",
     "text": [
      "Epoch 3/10 : Train_loss = 2.2357484831738828, Train_accuracy = 0.3497753056489492, Val_loss = 2.1108298301696777, Val_accuracy = 0.387251207324903\n",
      "            Train word matches : 10, Val word matches : 2\n"
     ]
    },
    {
     "data": {
      "application/vnd.jupyter.widget-view+json": {
       "model_id": "6e409c3f0f5645a7a506fca82aa278ab",
       "version_major": 2,
       "version_minor": 0
      },
      "text/plain": [
       "  0%|          | 0/67 [00:00<?, ?it/s]"
      ]
     },
     "metadata": {},
     "output_type": "display_data"
    },
    {
     "name": "stdout",
     "output_type": "stream",
     "text": [
      "Epoch 4/10 : Train_loss = 2.0571683253814923, Train_accuracy = 0.40324425139914605, Val_loss = 1.9535926239831107, Val_accuracy = 0.4370934874242805\n",
      "            Train word matches : 27, Val word matches : 3\n"
     ]
    },
    {
     "data": {
      "application/vnd.jupyter.widget-view+json": {
       "model_id": "945b6c3b66cc4316b78238766960b2a4",
       "version_major": 2,
       "version_minor": 0
      },
      "text/plain": [
       "  0%|          | 0/67 [00:00<?, ?it/s]"
      ]
     },
     "metadata": {},
     "output_type": "display_data"
    },
    {
     "name": "stdout",
     "output_type": "stream",
     "text": [
      "Epoch 5/10 : Train_loss = 1.9088594237370278, Train_accuracy = 0.4479628459613713, Val_loss = 1.7979662418365479, Val_accuracy = 0.4818133601317589\n",
      "            Train word matches : 57, Val word matches : 12\n"
     ]
    },
    {
     "data": {
      "application/vnd.jupyter.widget-view+json": {
       "model_id": "7ee71b3ade6b4ec1a862a66b39f6bf1d",
       "version_major": 2,
       "version_minor": 0
      },
      "text/plain": [
       "  0%|          | 0/67 [00:00<?, ?it/s]"
      ]
     },
     "metadata": {},
     "output_type": "display_data"
    },
    {
     "name": "stdout",
     "output_type": "stream",
     "text": [
      "Epoch 6/10 : Train_loss = 1.7836936427586114, Train_accuracy = 0.4853371602380032, Val_loss = 1.6789968013763428, Val_accuracy = 0.5151159869357675\n",
      "            Train word matches : 142, Val word matches : 29\n"
     ]
    },
    {
     "data": {
      "application/vnd.jupyter.widget-view+json": {
       "model_id": "5f7b05bc60e44bbab4dd2ad95de9d62c",
       "version_major": 2,
       "version_minor": 0
      },
      "text/plain": [
       "  0%|          | 0/67 [00:00<?, ?it/s]"
      ]
     },
     "metadata": {},
     "output_type": "display_data"
    },
    {
     "name": "stdout",
     "output_type": "stream",
     "text": [
      "Epoch 7/10 : Train_loss = 1.677284182007633, Train_accuracy = 0.5159924077447335, Val_loss = 1.5830067225864954, Val_accuracy = 0.5442313597409486\n",
      "            Train word matches : 247, Val word matches : 42\n"
     ]
    },
    {
     "data": {
      "application/vnd.jupyter.widget-view+json": {
       "model_id": "1993542457f741e0bf5c2b80a9e00c49",
       "version_major": 2,
       "version_minor": 0
      },
      "text/plain": [
       "  0%|          | 0/67 [00:00<?, ?it/s]"
      ]
     },
     "metadata": {},
     "output_type": "display_data"
    },
    {
     "name": "stdout",
     "output_type": "stream",
     "text": [
      "Epoch 8/10 : Train_loss = 1.5875028336226051, Train_accuracy = 0.5420060384545883, Val_loss = 1.4909486259732927, Val_accuracy = 0.5688663707673841\n",
      "            Train word matches : 331, Val word matches : 51\n"
     ]
    },
    {
     "data": {
      "application/vnd.jupyter.widget-view+json": {
       "model_id": "1d335e31f8bc45a2bb57c88db165ddd6",
       "version_major": 2,
       "version_minor": 0
      },
      "text/plain": [
       "  0%|          | 0/67 [00:00<?, ?it/s]"
      ]
     },
     "metadata": {},
     "output_type": "display_data"
    },
    {
     "name": "stdout",
     "output_type": "stream",
     "text": [
      "Epoch 9/10 : Train_loss = 1.5112971458862077, Train_accuracy = 0.5637711190926226, Val_loss = 1.420600141797747, Val_accuracy = 0.5898863858414984\n",
      "            Train word matches : 493, Val word matches : 74\n"
     ]
    },
    {
     "data": {
      "application/vnd.jupyter.widget-view+json": {
       "model_id": "20a7f4c0be9c4aef8abc03527a750e68",
       "version_major": 2,
       "version_minor": 0
      },
      "text/plain": [
       "  0%|          | 0/67 [00:00<?, ?it/s]"
      ]
     },
     "metadata": {},
     "output_type": "display_data"
    },
    {
     "name": "stdout",
     "output_type": "stream",
     "text": [
      "Epoch 10/10 : Train_loss = 1.4511392472395257, Train_accuracy = 0.5800820691665535, Val_loss = 1.3545434815543038, Val_accuracy = 0.6073611925299389\n",
      "            Train word matches : 611, Val word matches : 92\n"
     ]
    },
    {
     "data": {
      "text/html": [],
      "text/plain": [
       "<IPython.core.display.HTML object>"
      ]
     },
     "metadata": {},
     "output_type": "display_data"
    },
    {
     "data": {
      "text/html": [
       "<br>    <style><br>        .wandb-row {<br>            display: flex;<br>            flex-direction: row;<br>            flex-wrap: wrap;<br>            justify-content: flex-start;<br>            width: 100%;<br>        }<br>        .wandb-col {<br>            display: flex;<br>            flex-direction: column;<br>            flex-basis: 100%;<br>            flex: 1;<br>            padding: 10px;<br>        }<br>    </style><br><div class=\"wandb-row\"><div class=\"wandb-col\"><h3>Run history:</h3><br/><table class=\"wandb\"><tr><td>train_accuracy</td><td>▁▂▄▅▆▆▇▇██</td></tr><tr><td>train_loss</td><td>█▆▅▄▃▃▂▂▁▁</td></tr><tr><td>train_word_matches</td><td>▁▁▁▁▂▃▄▅▇█</td></tr><tr><td>val_accuracy</td><td>▁▃▄▅▆▆▇▇██</td></tr><tr><td>val_loss</td><td>█▆▅▄▃▃▂▂▁▁</td></tr><tr><td>val_word_matches</td><td>▁▁▁▁▂▃▄▅▇█</td></tr></table><br/></div><div class=\"wandb-col\"><h3>Run summary:</h3><br/><table class=\"wandb\"><tr><td>train_accuracy</td><td>0.58008</td></tr><tr><td>train_loss</td><td>1.45114</td></tr><tr><td>train_word_matches</td><td>0.00896</td></tr><tr><td>val_accuracy</td><td>0.60736</td></tr><tr><td>val_loss</td><td>1.35454</td></tr><tr><td>val_word_matches</td><td>0.01348</td></tr></table><br/></div></div>"
      ],
      "text/plain": [
       "<IPython.core.display.HTML object>"
      ]
     },
     "metadata": {},
     "output_type": "display_data"
    },
    {
     "data": {
      "text/html": [
       " View run <strong style=\"color:#cdcd00\">GRU _ embed : 32 _ hidden : 64 _ layers : 3 _ dropout : 0.2</strong> at: <a href='https://wandb.ai/shivasurya-iit-madras/DA6401-assig-3/runs/8uj41rah' target=\"_blank\">https://wandb.ai/shivasurya-iit-madras/DA6401-assig-3/runs/8uj41rah</a><br> View project at: <a href='https://wandb.ai/shivasurya-iit-madras/DA6401-assig-3' target=\"_blank\">https://wandb.ai/shivasurya-iit-madras/DA6401-assig-3</a><br>Synced 5 W&B file(s), 0 media file(s), 0 artifact file(s) and 0 other file(s)"
      ],
      "text/plain": [
       "<IPython.core.display.HTML object>"
      ]
     },
     "metadata": {},
     "output_type": "display_data"
    },
    {
     "data": {
      "text/html": [
       "Find logs at: <code>.\\wandb\\run-20250517_213533-8uj41rah\\logs</code>"
      ],
      "text/plain": [
       "<IPython.core.display.HTML object>"
      ]
     },
     "metadata": {},
     "output_type": "display_data"
    },
    {
     "name": "stderr",
     "output_type": "stream",
     "text": [
      "\u001b[34m\u001b[1mwandb\u001b[0m: Agent Starting Run: i99g7k26 with config:\n",
      "\u001b[34m\u001b[1mwandb\u001b[0m: \tbeam_width: 1\n",
      "\u001b[34m\u001b[1mwandb\u001b[0m: \tdropout: 0.3\n",
      "\u001b[34m\u001b[1mwandb\u001b[0m: \tembed_size: 256\n",
      "\u001b[34m\u001b[1mwandb\u001b[0m: \thidden_size: 32\n",
      "\u001b[34m\u001b[1mwandb\u001b[0m: \tmodel_type: LSTM\n",
      "\u001b[34m\u001b[1mwandb\u001b[0m: \tnum_layers: 1\n"
     ]
    },
    {
     "data": {
      "text/html": [
       "Tracking run with wandb version 0.19.7"
      ],
      "text/plain": [
       "<IPython.core.display.HTML object>"
      ]
     },
     "metadata": {},
     "output_type": "display_data"
    },
    {
     "data": {
      "text/html": [
       "Run data is saved locally in <code>d:\\DISK S\\IITM\\Sem-8\\DL\\Assignment\\assignment-3\\code\\wandb\\run-20250517_214639-i99g7k26</code>"
      ],
      "text/plain": [
       "<IPython.core.display.HTML object>"
      ]
     },
     "metadata": {},
     "output_type": "display_data"
    },
    {
     "data": {
      "text/html": [
       "Syncing run <strong><a href='https://wandb.ai/shivasurya-iit-madras/DA6401-assig-3/runs/i99g7k26' target=\"_blank\">sweepy-sweep-4</a></strong> to <a href='https://wandb.ai/shivasurya-iit-madras/DA6401-assig-3' target=\"_blank\">Weights & Biases</a> (<a href='https://wandb.me/developer-guide' target=\"_blank\">docs</a>)<br>Sweep page: <a href='https://wandb.ai/shivasurya-iit-madras/DA6401-assig-3/sweeps/7qgmepwg' target=\"_blank\">https://wandb.ai/shivasurya-iit-madras/DA6401-assig-3/sweeps/7qgmepwg</a>"
      ],
      "text/plain": [
       "<IPython.core.display.HTML object>"
      ]
     },
     "metadata": {},
     "output_type": "display_data"
    },
    {
     "data": {
      "text/html": [
       " View project at <a href='https://wandb.ai/shivasurya-iit-madras/DA6401-assig-3' target=\"_blank\">https://wandb.ai/shivasurya-iit-madras/DA6401-assig-3</a>"
      ],
      "text/plain": [
       "<IPython.core.display.HTML object>"
      ]
     },
     "metadata": {},
     "output_type": "display_data"
    },
    {
     "data": {
      "text/html": [
       " View sweep at <a href='https://wandb.ai/shivasurya-iit-madras/DA6401-assig-3/sweeps/7qgmepwg' target=\"_blank\">https://wandb.ai/shivasurya-iit-madras/DA6401-assig-3/sweeps/7qgmepwg</a>"
      ],
      "text/plain": [
       "<IPython.core.display.HTML object>"
      ]
     },
     "metadata": {},
     "output_type": "display_data"
    },
    {
     "data": {
      "text/html": [
       " View run at <a href='https://wandb.ai/shivasurya-iit-madras/DA6401-assig-3/runs/i99g7k26' target=\"_blank\">https://wandb.ai/shivasurya-iit-madras/DA6401-assig-3/runs/i99g7k26</a>"
      ],
      "text/plain": [
       "<IPython.core.display.HTML object>"
      ]
     },
     "metadata": {},
     "output_type": "display_data"
    },
    {
     "name": "stdout",
     "output_type": "stream",
     "text": [
      "Total words in train dataset : 67\n",
      "Total words in val dataset : 7\n",
      "Total parameters in the model :  95.710 K\n",
      "Total parameters in encoder : 49.920 K\n",
      "Total parameters in decoder : 45.790 K\n"
     ]
    },
    {
     "data": {
      "application/vnd.jupyter.widget-view+json": {
       "model_id": "6c224696926c4af3a00c25bb722f9b5f",
       "version_major": 2,
       "version_minor": 0
      },
      "text/plain": [
       "  0%|          | 0/67 [00:00<?, ?it/s]"
      ]
     },
     "metadata": {},
     "output_type": "display_data"
    },
    {
     "name": "stdout",
     "output_type": "stream",
     "text": [
      "Epoch 1/10 : Train_loss = 2.9860695760641525, Train_accuracy = 0.1837745221535308, Val_loss = 2.6838504586900984, Val_accuracy = 0.24406107807832955\n",
      "            Train word matches : 0, Val word matches : 0\n"
     ]
    },
    {
     "data": {
      "application/vnd.jupyter.widget-view+json": {
       "model_id": "797eac88ee5b45ab80ab05542a4ad9bc",
       "version_major": 2,
       "version_minor": 0
      },
      "text/plain": [
       "  0%|          | 0/67 [00:00<?, ?it/s]"
      ]
     },
     "metadata": {},
     "output_type": "display_data"
    },
    {
     "name": "stdout",
     "output_type": "stream",
     "text": [
      "Epoch 2/10 : Train_loss = 2.5795593617567376, Train_accuracy = 0.2658727070558115, Val_loss = 2.507249082837786, Val_accuracy = 0.28674315383971194\n",
      "            Train word matches : 0, Val word matches : 0\n"
     ]
    },
    {
     "data": {
      "application/vnd.jupyter.widget-view+json": {
       "model_id": "98e56232415b4494b8baaac27206f73b",
       "version_major": 2,
       "version_minor": 0
      },
      "text/plain": [
       "  0%|          | 0/67 [00:00<?, ?it/s]"
      ]
     },
     "metadata": {},
     "output_type": "display_data"
    },
    {
     "name": "stdout",
     "output_type": "stream",
     "text": [
      "Epoch 3/10 : Train_loss = 2.430307498618738, Train_accuracy = 0.3107983871074114, Val_loss = 2.360795566013881, Val_accuracy = 0.33609692097255955\n",
      "            Train word matches : 2, Val word matches : 1\n"
     ]
    },
    {
     "data": {
      "application/vnd.jupyter.widget-view+json": {
       "model_id": "8558a96b16c64b8784e155f1dffba936",
       "version_major": 2,
       "version_minor": 0
      },
      "text/plain": [
       "  0%|          | 0/67 [00:00<?, ?it/s]"
      ]
     },
     "metadata": {},
     "output_type": "display_data"
    },
    {
     "name": "stdout",
     "output_type": "stream",
     "text": [
      "Epoch 4/10 : Train_loss = 2.283867522851745, Train_accuracy = 0.35716838952121044, Val_loss = 2.2170139721461704, Val_accuracy = 0.38113781648661477\n",
      "            Train word matches : 11, Val word matches : 1\n"
     ]
    },
    {
     "data": {
      "application/vnd.jupyter.widget-view+json": {
       "model_id": "9990c0fa6d58468e977310cd51d3e70c",
       "version_major": 2,
       "version_minor": 0
      },
      "text/plain": [
       "  0%|          | 0/67 [00:00<?, ?it/s]"
      ]
     },
     "metadata": {},
     "output_type": "display_data"
    },
    {
     "name": "stdout",
     "output_type": "stream",
     "text": [
      "Epoch 5/10 : Train_loss = 2.156640035002979, Train_accuracy = 0.39725723842926314, Val_loss = 2.1013950279780795, Val_accuracy = 0.41936744549591043\n",
      "            Train word matches : 58, Val word matches : 10\n"
     ]
    },
    {
     "data": {
      "application/vnd.jupyter.widget-view+json": {
       "model_id": "f1bbe032740f4e35b3ba3666e9041f73",
       "version_major": 2,
       "version_minor": 0
      },
      "text/plain": [
       "  0%|          | 0/67 [00:00<?, ?it/s]"
      ]
     },
     "metadata": {},
     "output_type": "display_data"
    },
    {
     "name": "stdout",
     "output_type": "stream",
     "text": [
      "Epoch 6/10 : Train_loss = 2.057341598752719, Train_accuracy = 0.4262544830051402, Val_loss = 2.016081554549081, Val_accuracy = 0.43934064707031795\n",
      "            Train word matches : 78, Val word matches : 12\n"
     ]
    },
    {
     "data": {
      "application/vnd.jupyter.widget-view+json": {
       "model_id": "e65c9a094e6f4395bb78d4614c145bee",
       "version_major": 2,
       "version_minor": 0
      },
      "text/plain": [
       "  0%|          | 0/67 [00:00<?, ?it/s]"
      ]
     },
     "metadata": {},
     "output_type": "display_data"
    },
    {
     "name": "stdout",
     "output_type": "stream",
     "text": [
      "Epoch 7/10 : Train_loss = 1.9836497787219376, Train_accuracy = 0.44616898439736147, Val_loss = 1.9476077216012138, Val_accuracy = 0.456508388465511\n",
      "            Train word matches : 127, Val word matches : 15\n"
     ]
    },
    {
     "data": {
      "application/vnd.jupyter.widget-view+json": {
       "model_id": "900ebf78fd574a56a0d998cef99407d8",
       "version_major": 2,
       "version_minor": 0
      },
      "text/plain": [
       "  0%|          | 0/67 [00:00<?, ?it/s]"
      ]
     },
     "metadata": {},
     "output_type": "display_data"
    },
    {
     "name": "stdout",
     "output_type": "stream",
     "text": [
      "Epoch 8/10 : Train_loss = 1.930039128260826, Train_accuracy = 0.4594198176856284, Val_loss = 1.8941170147487096, Val_accuracy = 0.4714568852413254\n",
      "            Train word matches : 146, Val word matches : 22\n"
     ]
    },
    {
     "data": {
      "application/vnd.jupyter.widget-view+json": {
       "model_id": "7c4766559497417a8907d89127fbf0f5",
       "version_major": 2,
       "version_minor": 0
      },
      "text/plain": [
       "  0%|          | 0/67 [00:00<?, ?it/s]"
      ]
     },
     "metadata": {},
     "output_type": "display_data"
    },
    {
     "name": "stderr",
     "output_type": "stream",
     "text": [
      "\u001b[34m\u001b[1mwandb\u001b[0m: Network error (ConnectionError), entering retry loop.\n"
     ]
    },
    {
     "name": "stdout",
     "output_type": "stream",
     "text": [
      "Epoch 9/10 : Train_loss = 1.8836541851954673, Train_accuracy = 0.4711788440408842, Val_loss = 1.8580104964120048, Val_accuracy = 0.4797197331323451\n",
      "            Train word matches : 186, Val word matches : 17\n"
     ]
    },
    {
     "data": {
      "application/vnd.jupyter.widget-view+json": {
       "model_id": "bf8f2c20d4ea47c384646f60a1a3416e",
       "version_major": 2,
       "version_minor": 0
      },
      "text/plain": [
       "  0%|          | 0/67 [00:00<?, ?it/s]"
      ]
     },
     "metadata": {},
     "output_type": "display_data"
    },
    {
     "name": "stdout",
     "output_type": "stream",
     "text": [
      "Epoch 10/10 : Train_loss = 1.8471389119304829, Train_accuracy = 0.4797102385967782, Val_loss = 1.825427804674421, Val_accuracy = 0.48753594059682326\n",
      "            Train word matches : 204, Val word matches : 24\n"
     ]
    },
    {
     "data": {
      "text/html": [],
      "text/plain": [
       "<IPython.core.display.HTML object>"
      ]
     },
     "metadata": {},
     "output_type": "display_data"
    },
    {
     "data": {
      "text/html": [
       "<br>    <style><br>        .wandb-row {<br>            display: flex;<br>            flex-direction: row;<br>            flex-wrap: wrap;<br>            justify-content: flex-start;<br>            width: 100%;<br>        }<br>        .wandb-col {<br>            display: flex;<br>            flex-direction: column;<br>            flex-basis: 100%;<br>            flex: 1;<br>            padding: 10px;<br>        }<br>    </style><br><div class=\"wandb-row\"><div class=\"wandb-col\"><h3>Run history:</h3><br/><table class=\"wandb\"><tr><td>train_accuracy</td><td>▁▃▄▅▆▇▇███</td></tr><tr><td>train_loss</td><td>█▆▅▄▃▂▂▂▁▁</td></tr><tr><td>train_word_matches</td><td>▁▁▁▁▃▄▅▆▇█</td></tr><tr><td>val_accuracy</td><td>▁▂▄▅▆▇▇███</td></tr><tr><td>val_loss</td><td>█▇▅▄▃▃▂▂▁▁</td></tr><tr><td>val_word_matches</td><td>▁▁▁▁▄▅▅▇▆█</td></tr></table><br/></div><div class=\"wandb-col\"><h3>Run summary:</h3><br/><table class=\"wandb\"><tr><td>train_accuracy</td><td>0.47971</td></tr><tr><td>train_loss</td><td>1.84714</td></tr><tr><td>train_word_matches</td><td>0.00299</td></tr><tr><td>val_accuracy</td><td>0.48754</td></tr><tr><td>val_loss</td><td>1.82543</td></tr><tr><td>val_word_matches</td><td>0.00352</td></tr></table><br/></div></div>"
      ],
      "text/plain": [
       "<IPython.core.display.HTML object>"
      ]
     },
     "metadata": {},
     "output_type": "display_data"
    },
    {
     "data": {
      "text/html": [
       " View run <strong style=\"color:#cdcd00\">LSTM _ embed : 256 _ hidden : 32 _ layers : 1 _ dropout : 0.3</strong> at: <a href='https://wandb.ai/shivasurya-iit-madras/DA6401-assig-3/runs/i99g7k26' target=\"_blank\">https://wandb.ai/shivasurya-iit-madras/DA6401-assig-3/runs/i99g7k26</a><br> View project at: <a href='https://wandb.ai/shivasurya-iit-madras/DA6401-assig-3' target=\"_blank\">https://wandb.ai/shivasurya-iit-madras/DA6401-assig-3</a><br>Synced 5 W&B file(s), 0 media file(s), 0 artifact file(s) and 0 other file(s)"
      ],
      "text/plain": [
       "<IPython.core.display.HTML object>"
      ]
     },
     "metadata": {},
     "output_type": "display_data"
    },
    {
     "data": {
      "text/html": [
       "Find logs at: <code>.\\wandb\\run-20250517_214639-i99g7k26\\logs</code>"
      ],
      "text/plain": [
       "<IPython.core.display.HTML object>"
      ]
     },
     "metadata": {},
     "output_type": "display_data"
    },
    {
     "name": "stderr",
     "output_type": "stream",
     "text": [
      "\u001b[34m\u001b[1mwandb\u001b[0m: Sweep Agent: Waiting for job.\n",
      "\u001b[34m\u001b[1mwandb\u001b[0m: Job received.\n",
      "\u001b[34m\u001b[1mwandb\u001b[0m: Agent Starting Run: tn4m8u3n with config:\n",
      "\u001b[34m\u001b[1mwandb\u001b[0m: \tbeam_width: 1\n",
      "\u001b[34m\u001b[1mwandb\u001b[0m: \tdropout: 0.3\n",
      "\u001b[34m\u001b[1mwandb\u001b[0m: \tembed_size: 256\n",
      "\u001b[34m\u001b[1mwandb\u001b[0m: \thidden_size: 256\n",
      "\u001b[34m\u001b[1mwandb\u001b[0m: \tmodel_type: LSTM\n",
      "\u001b[34m\u001b[1mwandb\u001b[0m: \tnum_layers: 2\n"
     ]
    },
    {
     "data": {
      "text/html": [
       "Tracking run with wandb version 0.19.7"
      ],
      "text/plain": [
       "<IPython.core.display.HTML object>"
      ]
     },
     "metadata": {},
     "output_type": "display_data"
    },
    {
     "data": {
      "text/html": [
       "Run data is saved locally in <code>d:\\DISK S\\IITM\\Sem-8\\DL\\Assignment\\assignment-3\\code\\wandb\\run-20250517_220550-tn4m8u3n</code>"
      ],
      "text/plain": [
       "<IPython.core.display.HTML object>"
      ]
     },
     "metadata": {},
     "output_type": "display_data"
    },
    {
     "data": {
      "text/html": [
       "Syncing run <strong><a href='https://wandb.ai/shivasurya-iit-madras/DA6401-assig-3/runs/tn4m8u3n' target=\"_blank\">major-sweep-5</a></strong> to <a href='https://wandb.ai/shivasurya-iit-madras/DA6401-assig-3' target=\"_blank\">Weights & Biases</a> (<a href='https://wandb.me/developer-guide' target=\"_blank\">docs</a>)<br>Sweep page: <a href='https://wandb.ai/shivasurya-iit-madras/DA6401-assig-3/sweeps/7qgmepwg' target=\"_blank\">https://wandb.ai/shivasurya-iit-madras/DA6401-assig-3/sweeps/7qgmepwg</a>"
      ],
      "text/plain": [
       "<IPython.core.display.HTML object>"
      ]
     },
     "metadata": {},
     "output_type": "display_data"
    },
    {
     "data": {
      "text/html": [
       " View project at <a href='https://wandb.ai/shivasurya-iit-madras/DA6401-assig-3' target=\"_blank\">https://wandb.ai/shivasurya-iit-madras/DA6401-assig-3</a>"
      ],
      "text/plain": [
       "<IPython.core.display.HTML object>"
      ]
     },
     "metadata": {},
     "output_type": "display_data"
    },
    {
     "data": {
      "text/html": [
       " View sweep at <a href='https://wandb.ai/shivasurya-iit-madras/DA6401-assig-3/sweeps/7qgmepwg' target=\"_blank\">https://wandb.ai/shivasurya-iit-madras/DA6401-assig-3/sweeps/7qgmepwg</a>"
      ],
      "text/plain": [
       "<IPython.core.display.HTML object>"
      ]
     },
     "metadata": {},
     "output_type": "display_data"
    },
    {
     "data": {
      "text/html": [
       " View run at <a href='https://wandb.ai/shivasurya-iit-madras/DA6401-assig-3/runs/tn4m8u3n' target=\"_blank\">https://wandb.ai/shivasurya-iit-madras/DA6401-assig-3/runs/tn4m8u3n</a>"
      ],
      "text/plain": [
       "<IPython.core.display.HTML object>"
      ]
     },
     "metadata": {},
     "output_type": "display_data"
    },
    {
     "name": "stdout",
     "output_type": "stream",
     "text": [
      "Total words in train dataset : 67\n",
      "Total words in val dataset : 7\n",
      "Total parameters in the model :  2133.534 K\n",
      "Total parameters in encoder : 1065.472 K\n",
      "Total parameters in decoder : 1068.062 K\n"
     ]
    },
    {
     "data": {
      "application/vnd.jupyter.widget-view+json": {
       "model_id": "5b9ac1c5790c4f96873161247d26f9ec",
       "version_major": 2,
       "version_minor": 0
      },
      "text/plain": [
       "  0%|          | 0/67 [00:00<?, ?it/s]"
      ]
     },
     "metadata": {},
     "output_type": "display_data"
    },
    {
     "name": "stdout",
     "output_type": "stream",
     "text": [
      "Epoch 1/10 : Train_loss = 2.5865097401747064, Train_accuracy = 0.27278039309310537, Val_loss = 2.0925256184169223, Val_accuracy = 0.41231890126455073\n",
      "            Train word matches : 5, Val word matches : 2\n"
     ]
    },
    {
     "data": {
      "application/vnd.jupyter.widget-view+json": {
       "model_id": "81b3735664be43ff848e86bcdcb10689",
       "version_major": 2,
       "version_minor": 0
      },
      "text/plain": [
       "  0%|          | 0/67 [00:00<?, ?it/s]"
      ]
     },
     "metadata": {},
     "output_type": "display_data"
    },
    {
     "name": "stdout",
     "output_type": "stream",
     "text": [
      "Epoch 2/10 : Train_loss = 1.786482140199462, Train_accuracy = 0.4914415656190603, Val_loss = 1.561103684561593, Val_accuracy = 0.548544231359741\n",
      "            Train word matches : 244, Val word matches : 52\n"
     ]
    },
    {
     "data": {
      "application/vnd.jupyter.widget-view+json": {
       "model_id": "c0db63856d6f4e17882bde4e97ec3b92",
       "version_major": 2,
       "version_minor": 0
      },
      "text/plain": [
       "  0%|          | 0/67 [00:00<?, ?it/s]"
      ]
     },
     "metadata": {},
     "output_type": "display_data"
    },
    {
     "name": "stdout",
     "output_type": "stream",
     "text": [
      "Epoch 3/10 : Train_loss = 1.476352821535139, Train_accuracy = 0.5682373067806649, Val_loss = 1.382399354662214, Val_accuracy = 0.5917846076543003\n",
      "            Train word matches : 531, Val word matches : 86\n"
     ]
    },
    {
     "data": {
      "application/vnd.jupyter.widget-view+json": {
       "model_id": "b2e7676063684ea08469fff2956ab8cd",
       "version_major": 2,
       "version_minor": 0
      },
      "text/plain": [
       "  0%|          | 0/67 [00:00<?, ?it/s]"
      ]
     },
     "metadata": {},
     "output_type": "display_data"
    },
    {
     "name": "stdout",
     "output_type": "stream",
     "text": [
      "Epoch 4/10 : Train_loss = 1.3359301890899886, Train_accuracy = 0.6001759567151757, Val_loss = 1.2895572526114327, Val_accuracy = 0.612748792675097\n",
      "            Train word matches : 745, Val word matches : 106\n"
     ]
    },
    {
     "data": {
      "application/vnd.jupyter.widget-view+json": {
       "model_id": "bad6bd3822874c77936cfefac2212418",
       "version_major": 2,
       "version_minor": 0
      },
      "text/plain": [
       "  0%|          | 0/67 [00:00<?, ?it/s]"
      ]
     },
     "metadata": {},
     "output_type": "display_data"
    },
    {
     "name": "stdout",
     "output_type": "stream",
     "text": [
      "Epoch 5/10 : Train_loss = 1.2518932356763242, Train_accuracy = 0.6192080364998067, Val_loss = 1.2411149059023177, Val_accuracy = 0.6213884934260112\n",
      "            Train word matches : 878, Val word matches : 113\n"
     ]
    },
    {
     "data": {
      "application/vnd.jupyter.widget-view+json": {
       "model_id": "321ecda1cedc43c78a57c17f0f522293",
       "version_major": 2,
       "version_minor": 0
      },
      "text/plain": [
       "  0%|          | 0/67 [00:00<?, ?it/s]"
      ]
     },
     "metadata": {},
     "output_type": "display_data"
    },
    {
     "name": "stdout",
     "output_type": "stream",
     "text": [
      "Epoch 6/10 : Train_loss = 1.200286881247563, Train_accuracy = 0.6289990911980753, Val_loss = 1.2049797773361206, Val_accuracy = 0.6280322697708176\n",
      "            Train word matches : 919, Val word matches : 125\n"
     ]
    },
    {
     "data": {
      "application/vnd.jupyter.widget-view+json": {
       "model_id": "a44b91d0afc44b90b0c0359f9a3a0769",
       "version_major": 2,
       "version_minor": 0
      },
      "text/plain": [
       "  0%|          | 0/67 [00:00<?, ?it/s]"
      ]
     },
     "metadata": {},
     "output_type": "display_data"
    },
    {
     "name": "stdout",
     "output_type": "stream",
     "text": [
      "Epoch 7/10 : Train_loss = 1.1598654985427856, Train_accuracy = 0.6363196291982626, Val_loss = 1.1870580230440413, Val_accuracy = 0.6310191776233146\n",
      "            Train word matches : 1002, Val word matches : 113\n"
     ]
    },
    {
     "data": {
      "application/vnd.jupyter.widget-view+json": {
       "model_id": "b1ac9a2d46804b0ead9fd09104112a6f",
       "version_major": 2,
       "version_minor": 0
      },
      "text/plain": [
       "  0%|          | 0/67 [00:00<?, ?it/s]"
      ]
     },
     "metadata": {},
     "output_type": "display_data"
    },
    {
     "name": "stdout",
     "output_type": "stream",
     "text": [
      "Epoch 8/10 : Train_loss = 1.1344618067812564, Train_accuracy = 0.6396633343929428, Val_loss = 1.1677311658859253, Val_accuracy = 0.6341456606091059\n",
      "            Train word matches : 1075, Val word matches : 126\n"
     ]
    },
    {
     "data": {
      "application/vnd.jupyter.widget-view+json": {
       "model_id": "ff39c7074a8545368fa555389655f8dd",
       "version_major": 2,
       "version_minor": 0
      },
      "text/plain": [
       "  0%|          | 0/67 [00:00<?, ?it/s]"
      ]
     },
     "metadata": {},
     "output_type": "display_data"
    },
    {
     "name": "stdout",
     "output_type": "stream",
     "text": [
      "Epoch 9/10 : Train_loss = 1.1064444691387576, Train_accuracy = 0.6451253790521816, Val_loss = 1.154854110309056, Val_accuracy = 0.6372302710549088\n",
      "            Train word matches : 1061, Val word matches : 113\n"
     ]
    },
    {
     "data": {
      "application/vnd.jupyter.widget-view+json": {
       "model_id": "4509f9029db9469594abefc1c9a21ee3",
       "version_major": 2,
       "version_minor": 0
      },
      "text/plain": [
       "  0%|          | 0/67 [00:00<?, ?it/s]"
      ]
     },
     "metadata": {},
     "output_type": "display_data"
    },
    {
     "name": "stdout",
     "output_type": "stream",
     "text": [
      "Epoch 10/10 : Train_loss = 1.0877934605328006, Train_accuracy = 0.6488344516389432, Val_loss = 1.1443278448922294, Val_accuracy = 0.6423945509867962\n",
      "            Train word matches : 1041, Val word matches : 131\n"
     ]
    },
    {
     "data": {
      "text/html": [],
      "text/plain": [
       "<IPython.core.display.HTML object>"
      ]
     },
     "metadata": {},
     "output_type": "display_data"
    },
    {
     "data": {
      "text/html": [
       "<br>    <style><br>        .wandb-row {<br>            display: flex;<br>            flex-direction: row;<br>            flex-wrap: wrap;<br>            justify-content: flex-start;<br>            width: 100%;<br>        }<br>        .wandb-col {<br>            display: flex;<br>            flex-direction: column;<br>            flex-basis: 100%;<br>            flex: 1;<br>            padding: 10px;<br>        }<br>    </style><br><div class=\"wandb-row\"><div class=\"wandb-col\"><h3>Run history:</h3><br/><table class=\"wandb\"><tr><td>train_accuracy</td><td>▁▅▆▇▇█████</td></tr><tr><td>train_loss</td><td>█▄▃▂▂▂▁▁▁▁</td></tr><tr><td>train_word_matches</td><td>▁▃▄▆▇▇████</td></tr><tr><td>val_accuracy</td><td>▁▅▆▇▇█████</td></tr><tr><td>val_loss</td><td>█▄▃▂▂▁▁▁▁▁</td></tr><tr><td>val_word_matches</td><td>▁▄▆▇▇█▇█▇█</td></tr></table><br/></div><div class=\"wandb-col\"><h3>Run summary:</h3><br/><table class=\"wandb\"><tr><td>train_accuracy</td><td>0.64883</td></tr><tr><td>train_loss</td><td>1.08779</td></tr><tr><td>train_word_matches</td><td>0.01526</td></tr><tr><td>val_accuracy</td><td>0.64239</td></tr><tr><td>val_loss</td><td>1.14433</td></tr><tr><td>val_word_matches</td><td>0.01919</td></tr></table><br/></div></div>"
      ],
      "text/plain": [
       "<IPython.core.display.HTML object>"
      ]
     },
     "metadata": {},
     "output_type": "display_data"
    },
    {
     "data": {
      "text/html": [
       " View run <strong style=\"color:#cdcd00\">LSTM _ embed : 256 _ hidden : 256 _ layers : 2 _ dropout : 0.3</strong> at: <a href='https://wandb.ai/shivasurya-iit-madras/DA6401-assig-3/runs/tn4m8u3n' target=\"_blank\">https://wandb.ai/shivasurya-iit-madras/DA6401-assig-3/runs/tn4m8u3n</a><br> View project at: <a href='https://wandb.ai/shivasurya-iit-madras/DA6401-assig-3' target=\"_blank\">https://wandb.ai/shivasurya-iit-madras/DA6401-assig-3</a><br>Synced 5 W&B file(s), 0 media file(s), 0 artifact file(s) and 0 other file(s)"
      ],
      "text/plain": [
       "<IPython.core.display.HTML object>"
      ]
     },
     "metadata": {},
     "output_type": "display_data"
    },
    {
     "data": {
      "text/html": [
       "Find logs at: <code>.\\wandb\\run-20250517_220550-tn4m8u3n\\logs</code>"
      ],
      "text/plain": [
       "<IPython.core.display.HTML object>"
      ]
     },
     "metadata": {},
     "output_type": "display_data"
    },
    {
     "name": "stderr",
     "output_type": "stream",
     "text": [
      "\u001b[34m\u001b[1mwandb\u001b[0m: Sweep Agent: Waiting for job.\n",
      "\u001b[34m\u001b[1mwandb\u001b[0m: Job received.\n",
      "\u001b[34m\u001b[1mwandb\u001b[0m: Agent Starting Run: vfcvib4k with config:\n",
      "\u001b[34m\u001b[1mwandb\u001b[0m: \tbeam_width: 1\n",
      "\u001b[34m\u001b[1mwandb\u001b[0m: \tdropout: 0.3\n",
      "\u001b[34m\u001b[1mwandb\u001b[0m: \tembed_size: 64\n",
      "\u001b[34m\u001b[1mwandb\u001b[0m: \thidden_size: 256\n",
      "\u001b[34m\u001b[1mwandb\u001b[0m: \tmodel_type: LSTM\n",
      "\u001b[34m\u001b[1mwandb\u001b[0m: \tnum_layers: 2\n"
     ]
    },
    {
     "data": {
      "text/html": [
       "Tracking run with wandb version 0.19.7"
      ],
      "text/plain": [
       "<IPython.core.display.HTML object>"
      ]
     },
     "metadata": {},
     "output_type": "display_data"
    },
    {
     "data": {
      "text/html": [
       "Run data is saved locally in <code>d:\\DISK S\\IITM\\Sem-8\\DL\\Assignment\\assignment-3\\code\\wandb\\run-20250517_221744-vfcvib4k</code>"
      ],
      "text/plain": [
       "<IPython.core.display.HTML object>"
      ]
     },
     "metadata": {},
     "output_type": "display_data"
    },
    {
     "data": {
      "text/html": [
       "Syncing run <strong><a href='https://wandb.ai/shivasurya-iit-madras/DA6401-assig-3/runs/vfcvib4k' target=\"_blank\">dainty-sweep-6</a></strong> to <a href='https://wandb.ai/shivasurya-iit-madras/DA6401-assig-3' target=\"_blank\">Weights & Biases</a> (<a href='https://wandb.me/developer-guide' target=\"_blank\">docs</a>)<br>Sweep page: <a href='https://wandb.ai/shivasurya-iit-madras/DA6401-assig-3/sweeps/7qgmepwg' target=\"_blank\">https://wandb.ai/shivasurya-iit-madras/DA6401-assig-3/sweeps/7qgmepwg</a>"
      ],
      "text/plain": [
       "<IPython.core.display.HTML object>"
      ]
     },
     "metadata": {},
     "output_type": "display_data"
    },
    {
     "data": {
      "text/html": [
       " View project at <a href='https://wandb.ai/shivasurya-iit-madras/DA6401-assig-3' target=\"_blank\">https://wandb.ai/shivasurya-iit-madras/DA6401-assig-3</a>"
      ],
      "text/plain": [
       "<IPython.core.display.HTML object>"
      ]
     },
     "metadata": {},
     "output_type": "display_data"
    },
    {
     "data": {
      "text/html": [
       " View sweep at <a href='https://wandb.ai/shivasurya-iit-madras/DA6401-assig-3/sweeps/7qgmepwg' target=\"_blank\">https://wandb.ai/shivasurya-iit-madras/DA6401-assig-3/sweeps/7qgmepwg</a>"
      ],
      "text/plain": [
       "<IPython.core.display.HTML object>"
      ]
     },
     "metadata": {},
     "output_type": "display_data"
    },
    {
     "data": {
      "text/html": [
       " View run at <a href='https://wandb.ai/shivasurya-iit-madras/DA6401-assig-3/runs/vfcvib4k' target=\"_blank\">https://wandb.ai/shivasurya-iit-madras/DA6401-assig-3/runs/vfcvib4k</a>"
      ],
      "text/plain": [
       "<IPython.core.display.HTML object>"
      ]
     },
     "metadata": {},
     "output_type": "display_data"
    },
    {
     "name": "stdout",
     "output_type": "stream",
     "text": [
      "Total words in train dataset : 67\n",
      "Total words in val dataset : 7\n",
      "Total parameters in the model :  1724.958 K\n",
      "Total parameters in encoder : 859.264 K\n",
      "Total parameters in decoder : 865.694 K\n"
     ]
    },
    {
     "data": {
      "application/vnd.jupyter.widget-view+json": {
       "model_id": "20b0bd3a3444499ea14f2c3b5ed43514",
       "version_major": 2,
       "version_minor": 0
      },
      "text/plain": [
       "  0%|          | 0/67 [00:00<?, ?it/s]"
      ]
     },
     "metadata": {},
     "output_type": "display_data"
    },
    {
     "name": "stdout",
     "output_type": "stream",
     "text": [
      "Epoch 1/10 : Train_loss = 2.7524287522728765, Train_accuracy = 0.2279787005319591, Val_loss = 2.363778931753976, Val_accuracy = 0.32226502526309914\n",
      "            Train word matches : 1, Val word matches : 1\n"
     ]
    },
    {
     "data": {
      "application/vnd.jupyter.widget-view+json": {
       "model_id": "fac6c41d7fdc48c08782193e6dc00a9e",
       "version_major": 2,
       "version_minor": 0
      },
      "text/plain": [
       "  0%|          | 0/67 [00:00<?, ?it/s]"
      ]
     },
     "metadata": {},
     "output_type": "display_data"
    },
    {
     "name": "stdout",
     "output_type": "stream",
     "text": [
      "Epoch 2/10 : Train_loss = 2.0863530030891075, Train_accuracy = 0.4044089423998966, Val_loss = 1.8225796903882707, Val_accuracy = 0.48177148759177063\n",
      "            Train word matches : 36, Val word matches : 13\n"
     ]
    },
    {
     "data": {
      "application/vnd.jupyter.widget-view+json": {
       "model_id": "618ddcc01965437e9028c4c21096d1a1",
       "version_major": 2,
       "version_minor": 0
      },
      "text/plain": [
       "  0%|          | 0/67 [00:00<?, ?it/s]"
      ]
     },
     "metadata": {},
     "output_type": "display_data"
    },
    {
     "name": "stdout",
     "output_type": "stream",
     "text": [
      "Epoch 3/10 : Train_loss = 1.6848603344675321, Train_accuracy = 0.5144729014787487, Val_loss = 1.5540217331477575, Val_accuracy = 0.5492560645395417\n",
      "            Train word matches : 216, Val word matches : 66\n"
     ]
    },
    {
     "data": {
      "application/vnd.jupyter.widget-view+json": {
       "model_id": "a457a2371bd14905ac0ff91f9080e87b",
       "version_major": 2,
       "version_minor": 0
      },
      "text/plain": [
       "  0%|          | 0/67 [00:00<?, ?it/s]"
      ]
     },
     "metadata": {},
     "output_type": "display_data"
    },
    {
     "name": "stdout",
     "output_type": "stream",
     "text": [
      "Epoch 4/10 : Train_loss = 1.4819643942277823, Train_accuracy = 0.5647392767308456, Val_loss = 1.4201064620699202, Val_accuracy = 0.5805069368841247\n",
      "            Train word matches : 496, Val word matches : 74\n"
     ]
    },
    {
     "data": {
      "application/vnd.jupyter.widget-view+json": {
       "model_id": "f3658d4a56f2411ab92e5222b090a1b4",
       "version_major": 2,
       "version_minor": 0
      },
      "text/plain": [
       "  0%|          | 0/67 [00:00<?, ?it/s]"
      ]
     },
     "metadata": {},
     "output_type": "display_data"
    },
    {
     "name": "stdout",
     "output_type": "stream",
     "text": [
      "Epoch 5/10 : Train_loss = 1.3662938644636924, Train_accuracy = 0.5924742231326363, Val_loss = 1.3305155038833618, Val_accuracy = 0.6002986907852497\n",
      "            Train word matches : 634, Val word matches : 90\n"
     ]
    },
    {
     "data": {
      "application/vnd.jupyter.widget-view+json": {
       "model_id": "d14762d2ed0e4056972575255e80feb1",
       "version_major": 2,
       "version_minor": 0
      },
      "text/plain": [
       "  0%|          | 0/67 [00:00<?, ?it/s]"
      ]
     },
     "metadata": {},
     "output_type": "display_data"
    },
    {
     "name": "stdout",
     "output_type": "stream",
     "text": [
      "Epoch 6/10 : Train_loss = 1.288186688921345, Train_accuracy = 0.6092019822170283, Val_loss = 1.2767205238342285, Val_accuracy = 0.6125813025151439\n",
      "            Train word matches : 746, Val word matches : 91\n"
     ]
    },
    {
     "data": {
      "application/vnd.jupyter.widget-view+json": {
       "model_id": "5cb8b52d269a4aa59c245d61336c2f01",
       "version_major": 2,
       "version_minor": 0
      },
      "text/plain": [
       "  0%|          | 0/67 [00:00<?, ?it/s]"
      ]
     },
     "metadata": {},
     "output_type": "display_data"
    },
    {
     "name": "stdout",
     "output_type": "stream",
     "text": [
      "Epoch 7/10 : Train_loss = 1.2345754103874094, Train_accuracy = 0.6208950577794896, Val_loss = 1.2450575487954276, Val_accuracy = 0.6189040560533735\n",
      "            Train word matches : 854, Val word matches : 86\n"
     ]
    },
    {
     "data": {
      "application/vnd.jupyter.widget-view+json": {
       "model_id": "5f88a5cd2a924e688f575d90699c8536",
       "version_major": 2,
       "version_minor": 0
      },
      "text/plain": [
       "  0%|          | 0/67 [00:00<?, ?it/s]"
      ]
     },
     "metadata": {},
     "output_type": "display_data"
    },
    {
     "name": "stdout",
     "output_type": "stream",
     "text": [
      "Epoch 8/10 : Train_loss = 1.2075225274954269, Train_accuracy = 0.6256171345435744, Val_loss = 1.2221807411738805, Val_accuracy = 0.6255617899115093\n",
      "            Train word matches : 890, Val word matches : 111\n"
     ]
    },
    {
     "data": {
      "application/vnd.jupyter.widget-view+json": {
       "model_id": "5c531f793189443a8083dfb1fe64cac5",
       "version_major": 2,
       "version_minor": 0
      },
      "text/plain": [
       "  0%|          | 0/67 [00:00<?, ?it/s]"
      ]
     },
     "metadata": {},
     "output_type": "display_data"
    },
    {
     "name": "stdout",
     "output_type": "stream",
     "text": [
      "Epoch 9/10 : Train_loss = 1.1841703261902083, Train_accuracy = 0.6307929527620851, Val_loss = 1.205970185143607, Val_accuracy = 0.6282695474974178\n",
      "            Train word matches : 965, Val word matches : 114\n"
     ]
    },
    {
     "data": {
      "application/vnd.jupyter.widget-view+json": {
       "model_id": "315c71a71ced414bb7388b6309533639",
       "version_major": 2,
       "version_minor": 0
      },
      "text/plain": [
       "  0%|          | 0/67 [00:00<?, ?it/s]"
      ]
     },
     "metadata": {},
     "output_type": "display_data"
    },
    {
     "name": "stdout",
     "output_type": "stream",
     "text": [
      "Epoch 10/10 : Train_loss = 1.1696291521414002, Train_accuracy = 0.6328347893070022, Val_loss = 1.1970348358154297, Val_accuracy = 0.6292605309438071\n",
      "            Train word matches : 973, Val word matches : 97\n"
     ]
    },
    {
     "data": {
      "text/html": [],
      "text/plain": [
       "<IPython.core.display.HTML object>"
      ]
     },
     "metadata": {},
     "output_type": "display_data"
    },
    {
     "data": {
      "text/html": [
       "<br>    <style><br>        .wandb-row {<br>            display: flex;<br>            flex-direction: row;<br>            flex-wrap: wrap;<br>            justify-content: flex-start;<br>            width: 100%;<br>        }<br>        .wandb-col {<br>            display: flex;<br>            flex-direction: column;<br>            flex-basis: 100%;<br>            flex: 1;<br>            padding: 10px;<br>        }<br>    </style><br><div class=\"wandb-row\"><div class=\"wandb-col\"><h3>Run history:</h3><br/><table class=\"wandb\"><tr><td>train_accuracy</td><td>▁▄▆▇▇█████</td></tr><tr><td>train_loss</td><td>█▅▃▂▂▂▁▁▁▁</td></tr><tr><td>train_word_matches</td><td>▁▁▃▅▆▆▇▇██</td></tr><tr><td>val_accuracy</td><td>▁▅▆▇▇█████</td></tr><tr><td>val_loss</td><td>█▅▃▂▂▁▁▁▁▁</td></tr><tr><td>val_word_matches</td><td>▁▂▅▆▇▇▆██▇</td></tr></table><br/></div><div class=\"wandb-col\"><h3>Run summary:</h3><br/><table class=\"wandb\"><tr><td>train_accuracy</td><td>0.63283</td></tr><tr><td>train_loss</td><td>1.16963</td></tr><tr><td>train_word_matches</td><td>0.01426</td></tr><tr><td>val_accuracy</td><td>0.62926</td></tr><tr><td>val_loss</td><td>1.19703</td></tr><tr><td>val_word_matches</td><td>0.01421</td></tr></table><br/></div></div>"
      ],
      "text/plain": [
       "<IPython.core.display.HTML object>"
      ]
     },
     "metadata": {},
     "output_type": "display_data"
    },
    {
     "data": {
      "text/html": [
       " View run <strong style=\"color:#cdcd00\">LSTM _ embed : 64 _ hidden : 256 _ layers : 2 _ dropout : 0.3</strong> at: <a href='https://wandb.ai/shivasurya-iit-madras/DA6401-assig-3/runs/vfcvib4k' target=\"_blank\">https://wandb.ai/shivasurya-iit-madras/DA6401-assig-3/runs/vfcvib4k</a><br> View project at: <a href='https://wandb.ai/shivasurya-iit-madras/DA6401-assig-3' target=\"_blank\">https://wandb.ai/shivasurya-iit-madras/DA6401-assig-3</a><br>Synced 5 W&B file(s), 0 media file(s), 0 artifact file(s) and 0 other file(s)"
      ],
      "text/plain": [
       "<IPython.core.display.HTML object>"
      ]
     },
     "metadata": {},
     "output_type": "display_data"
    },
    {
     "data": {
      "text/html": [
       "Find logs at: <code>.\\wandb\\run-20250517_221744-vfcvib4k\\logs</code>"
      ],
      "text/plain": [
       "<IPython.core.display.HTML object>"
      ]
     },
     "metadata": {},
     "output_type": "display_data"
    },
    {
     "name": "stderr",
     "output_type": "stream",
     "text": [
      "\u001b[34m\u001b[1mwandb\u001b[0m: Ctrl + C detected. Stopping sweep.\n"
     ]
    }
   ],
   "source": [
    "sweep_id = wandb.sweep(sweep_config, project=\"DA6401-assig-3\")\n",
    "wandb.agent(sweep_id, function=wandb_sweep_train)"
   ]
  },
  {
   "cell_type": "code",
   "execution_count": 47,
   "id": "3a27883c",
   "metadata": {
    "execution": {
     "iopub.execute_input": "2025-05-20T06:21:20.654001Z",
     "iopub.status.busy": "2025-05-20T06:21:20.653167Z",
     "iopub.status.idle": "2025-05-20T06:21:20.660844Z",
     "shell.execute_reply": "2025-05-20T06:21:20.660037Z",
     "shell.execute_reply.started": "2025-05-20T06:21:20.653975Z"
    },
    "trusted": true
   },
   "outputs": [],
   "source": [
    "### Running for 25 epoch for model with good hyperparameters\n",
    "\n",
    "# Set default config values for the run\n",
    "best_model_config = {\n",
    "  \"embed_size\": 64,\n",
    "\n",
    "  \"hidden_size\": 196,\n",
    "\n",
    "  \"num_layers\":  3,\n",
    "\n",
    "  \"dropout\": 0.2,\n",
    "\n",
    "  \"model_type\": \"RNN\",\n",
    "\n",
    "  \"beam_width\": 1,\n",
    "}\n",
    "\n",
    "def best_model_train():\n",
    "\n",
    "    run = wandb.init(config = best_model_config,\n",
    "                    project=\"DA6401-assig-3\")\n",
    "    config = wandb.config\n",
    "    run.name = f\"{config.model_type} _ embed : {config.embed_size} _ hidden : {config.hidden_size} _ layers : {config.num_layers} _ dropout : {config.dropout}\"\n",
    "\n",
    "    # === Build Encoder ===\n",
    "    encoder = Encoder(\n",
    "        input_vocab_size=len(native_char2ind),\n",
    "        embedding_size = config.embed_size,\n",
    "        hidden_size = config.hidden_size,\n",
    "        encoder_layers = config.num_layers,\n",
    "        dropout=config.dropout,\n",
    "        rnn_type=config.model_type,\n",
    "    )\n",
    "\n",
    "    # === Build Decoder ===\n",
    "    decoder = Decoder(\n",
    "        target_vocab_size=len(roman_char2ind),\n",
    "        embedding_size=config.embed_size,\n",
    "        hidden_size=config.hidden_size,\n",
    "        decoder_layers=config.num_layers,\n",
    "        dropout=config.dropout,\n",
    "        rnn_type=config.model_type,\n",
    "    )\n",
    "\n",
    "    # === Full Seq2Seq ===\n",
    "    model = Seq_2_Seq(\n",
    "        encoder=encoder,\n",
    "        decoder=decoder,\n",
    "    ).to(device)\n",
    "\n",
    "    # === Trainer ===\n",
    "    trainer = Trainer(\n",
    "        model=model,\n",
    "        train_dataloader=example_train_dataloader,\n",
    "        val_dataloader=example_val_dataloader,\n",
    "        optimizer_params={\"lr\": 5e-4},\n",
    "    )\n",
    "\n",
    "    history = trainer.train_model(epochs=8)\n",
    "\n",
    "    # === wandb Log ===\n",
    "    for i in range(len(history[\"train_loss\"])):\n",
    "        wandb.log({\n",
    "            \"train_loss\": history[\"train_loss\"][i],\n",
    "            \"train_accuracy\": history[\"train_accuracy\"][i],\n",
    "            \"val_loss\": history[\"val_loss\"][i],\n",
    "            \"val_accuracy\": history[\"val_accuracy\"][i],\n",
    "            \"train_word_matches\": history[\"train_word_matches\"][i],\n",
    "            \"val_word_matches\": history[\"val_word_matches\"][i],\n",
    "        })\n",
    "\n",
    "    wandb.finish()"
   ]
  },
  {
   "cell_type": "code",
   "execution_count": 39,
   "id": "1d55adcb",
   "metadata": {
    "execution": {
     "iopub.execute_input": "2025-05-19T12:11:04.878469Z",
     "iopub.status.busy": "2025-05-19T12:11:04.877797Z",
     "iopub.status.idle": "2025-05-19T12:18:56.806902Z",
     "shell.execute_reply": "2025-05-19T12:18:56.806390Z",
     "shell.execute_reply.started": "2025-05-19T12:11:04.878450Z"
    },
    "trusted": true
   },
   "outputs": [
    {
     "data": {
      "text/html": [
       "Tracking run with wandb version 0.19.9"
      ],
      "text/plain": [
       "<IPython.core.display.HTML object>"
      ]
     },
     "metadata": {},
     "output_type": "display_data"
    },
    {
     "data": {
      "text/html": [
       "Run data is saved locally in <code>/kaggle/working/wandb/run-20250519_121104-xqn5td12</code>"
      ],
      "text/plain": [
       "<IPython.core.display.HTML object>"
      ]
     },
     "metadata": {},
     "output_type": "display_data"
    },
    {
     "data": {
      "text/html": [
       "Syncing run <strong><a href='https://wandb.ai/shivasurya-iit-madras/DA6401-assig-3/runs/xqn5td12' target=\"_blank\">sage-firefly-53</a></strong> to <a href='https://wandb.ai/shivasurya-iit-madras/DA6401-assig-3' target=\"_blank\">Weights & Biases</a> (<a href='https://wandb.me/developer-guide' target=\"_blank\">docs</a>)<br>"
      ],
      "text/plain": [
       "<IPython.core.display.HTML object>"
      ]
     },
     "metadata": {},
     "output_type": "display_data"
    },
    {
     "data": {
      "text/html": [
       " View project at <a href='https://wandb.ai/shivasurya-iit-madras/DA6401-assig-3' target=\"_blank\">https://wandb.ai/shivasurya-iit-madras/DA6401-assig-3</a>"
      ],
      "text/plain": [
       "<IPython.core.display.HTML object>"
      ]
     },
     "metadata": {},
     "output_type": "display_data"
    },
    {
     "data": {
      "text/html": [
       " View run at <a href='https://wandb.ai/shivasurya-iit-madras/DA6401-assig-3/runs/xqn5td12' target=\"_blank\">https://wandb.ai/shivasurya-iit-madras/DA6401-assig-3/runs/xqn5td12</a>"
      ],
      "text/plain": [
       "<IPython.core.display.HTML object>"
      ]
     },
     "metadata": {},
     "output_type": "display_data"
    },
    {
     "name": "stdout",
     "output_type": "stream",
     "text": [
      "Total words in train dataset : 67\n",
      "Total words in val dataset : 7\n",
      "Total parameters in the model :  422.630 K\n",
      "Total parameters in encoder : 209.000 K\n",
      "Total parameters in decoder : 213.630 K\n"
     ]
    },
    {
     "data": {
      "application/vnd.jupyter.widget-view+json": {
       "model_id": "e2f5ed02d5b846ef81cebfbe79b76012",
       "version_major": 2,
       "version_minor": 0
      },
      "text/plain": [
       "  0%|          | 0/67 [00:00<?, ?it/s]"
      ]
     },
     "metadata": {},
     "output_type": "display_data"
    },
    {
     "name": "stdout",
     "output_type": "stream",
     "text": [
      "Epoch 1/8 : Train_loss = 2.4619287519312616, Train_accuracy = 0.27924093275525264, Val_loss = 2.12727233341762, Val_accuracy = 0.3483376601624655\n",
      "            Train word matches : 1, Val word matches : 0\n"
     ]
    },
    {
     "data": {
      "application/vnd.jupyter.widget-view+json": {
       "model_id": "4f461b12f6c349f28c06c9127e733d7f",
       "version_major": 2,
       "version_minor": 0
      },
      "text/plain": [
       "  0%|          | 0/67 [00:00<?, ?it/s]"
      ]
     },
     "metadata": {},
     "output_type": "display_data"
    },
    {
     "name": "stdout",
     "output_type": "stream",
     "text": [
      "Epoch 2/8 : Train_loss = 2.0139554045093595, Train_accuracy = 0.3710523504203044, Val_loss = 1.9123773915427071, Val_accuracy = 0.3988219858749965\n",
      "            Train word matches : 1, Val word matches : 0\n"
     ]
    },
    {
     "data": {
      "application/vnd.jupyter.widget-view+json": {
       "model_id": "dd843f95342d451ba3390f6c0afcb75e",
       "version_major": 2,
       "version_minor": 0
      },
      "text/plain": [
       "  0%|          | 0/67 [00:00<?, ?it/s]"
      ]
     },
     "metadata": {},
     "output_type": "display_data"
    },
    {
     "name": "stdout",
     "output_type": "stream",
     "text": [
      "Epoch 3/8 : Train_loss = 1.8474995467200208, Train_accuracy = 0.4156087060322552, Val_loss = 1.7808333124433244, Val_accuracy = 0.4373865952041984\n",
      "            Train word matches : 7, Val word matches : 2\n"
     ]
    },
    {
     "data": {
      "application/vnd.jupyter.widget-view+json": {
       "model_id": "dfee4e8609f04c8cb00d21cb8a1b644d",
       "version_major": 2,
       "version_minor": 0
      },
      "text/plain": [
       "  0%|          | 0/67 [00:00<?, ?it/s]"
      ]
     },
     "metadata": {},
     "output_type": "display_data"
    },
    {
     "name": "stdout",
     "output_type": "stream",
     "text": [
      "Epoch 4/8 : Train_loss = 1.7468670588820727, Train_accuracy = 0.4444700919749756, Val_loss = 1.7074107101985387, Val_accuracy = 0.4527956899198839\n",
      "            Train word matches : 6, Val word matches : 0\n"
     ]
    },
    {
     "data": {
      "application/vnd.jupyter.widget-view+json": {
       "model_id": "f91136bdd5164e77b49cf992cd149d3d",
       "version_major": 2,
       "version_minor": 0
      },
      "text/plain": [
       "  0%|          | 0/67 [00:00<?, ?it/s]"
      ]
     },
     "metadata": {},
     "output_type": "display_data"
    },
    {
     "name": "stdout",
     "output_type": "stream",
     "text": [
      "Epoch 5/8 : Train_loss = 1.6761583783733311, Train_accuracy = 0.46705428145951744, Val_loss = 1.6365282705851965, Val_accuracy = 0.4779192139128493\n",
      "            Train word matches : 7, Val word matches : 1\n"
     ]
    },
    {
     "data": {
      "application/vnd.jupyter.widget-view+json": {
       "model_id": "04eb37e2ca844c95991a3ebd7113ae33",
       "version_major": 2,
       "version_minor": 0
      },
      "text/plain": [
       "  0%|          | 0/67 [00:00<?, ?it/s]"
      ]
     },
     "metadata": {},
     "output_type": "display_data"
    },
    {
     "name": "stdout",
     "output_type": "stream",
     "text": [
      "Epoch 6/8 : Train_loss = 1.6164352929414207, Train_accuracy = 0.48416455514211737, Val_loss = 1.5839197465351649, Val_accuracy = 0.4913323842224269\n",
      "            Train word matches : 19, Val word matches : 1\n"
     ]
    },
    {
     "data": {
      "application/vnd.jupyter.widget-view+json": {
       "model_id": "b945bc11ac56425499ac9ae4da68180e",
       "version_major": 2,
       "version_minor": 0
      },
      "text/plain": [
       "  0%|          | 0/67 [00:00<?, ?it/s]"
      ]
     },
     "metadata": {},
     "output_type": "display_data"
    },
    {
     "name": "stdout",
     "output_type": "stream",
     "text": [
      "Epoch 7/8 : Train_loss = 1.5749015986029782, Train_accuracy = 0.49603174079755613, Val_loss = 1.5476899317332677, Val_accuracy = 0.5032241855790972\n",
      "            Train word matches : 23, Val word matches : 2\n"
     ]
    },
    {
     "data": {
      "application/vnd.jupyter.widget-view+json": {
       "model_id": "e0a869c1428346db8e4cb754a9d4ea9c",
       "version_major": 2,
       "version_minor": 0
      },
      "text/plain": [
       "  0%|          | 0/67 [00:00<?, ?it/s]"
      ]
     },
     "metadata": {},
     "output_type": "display_data"
    },
    {
     "name": "stdout",
     "output_type": "stream",
     "text": [
      "Epoch 8/8 : Train_loss = 1.5387436525145572, Train_accuracy = 0.5078567179456064, Val_loss = 1.5215259960719518, Val_accuracy = 0.51092873293694\n",
      "            Train word matches : 26, Val word matches : 2\n"
     ]
    },
    {
     "data": {
      "text/html": [],
      "text/plain": [
       "<IPython.core.display.HTML object>"
      ]
     },
     "metadata": {},
     "output_type": "display_data"
    },
    {
     "data": {
      "text/html": [
       "<br>    <style><br>        .wandb-row {<br>            display: flex;<br>            flex-direction: row;<br>            flex-wrap: wrap;<br>            justify-content: flex-start;<br>            width: 100%;<br>        }<br>        .wandb-col {<br>            display: flex;<br>            flex-direction: column;<br>            flex-basis: 100%;<br>            flex: 1;<br>            padding: 10px;<br>        }<br>    </style><br><div class=\"wandb-row\"><div class=\"wandb-col\"><h3>Run history:</h3><br/><table class=\"wandb\"><tr><td>train_accuracy</td><td>▁▄▅▆▇▇██</td></tr><tr><td>train_loss</td><td>█▅▃▃▂▂▁▁</td></tr><tr><td>train_word_matches</td><td>▁▁▃▂▃▆▇█</td></tr><tr><td>val_accuracy</td><td>▁▃▅▅▇▇██</td></tr><tr><td>val_loss</td><td>█▆▄▃▂▂▁▁</td></tr><tr><td>val_word_matches</td><td>▁▁█▁▅▅██</td></tr></table><br/></div><div class=\"wandb-col\"><h3>Run summary:</h3><br/><table class=\"wandb\"><tr><td>train_accuracy</td><td>0.50786</td></tr><tr><td>train_loss</td><td>1.53874</td></tr><tr><td>train_word_matches</td><td>0.00038</td></tr><tr><td>val_accuracy</td><td>0.51093</td></tr><tr><td>val_loss</td><td>1.52153</td></tr><tr><td>val_word_matches</td><td>0.00029</td></tr></table><br/></div></div>"
      ],
      "text/plain": [
       "<IPython.core.display.HTML object>"
      ]
     },
     "metadata": {},
     "output_type": "display_data"
    },
    {
     "data": {
      "text/html": [
       " View run <strong style=\"color:#cdcd00\">RNN _ embed : 64 _ hidden : 196 _ layers : 3 _ dropout : 0.2</strong> at: <a href='https://wandb.ai/shivasurya-iit-madras/DA6401-assig-3/runs/xqn5td12' target=\"_blank\">https://wandb.ai/shivasurya-iit-madras/DA6401-assig-3/runs/xqn5td12</a><br> View project at: <a href='https://wandb.ai/shivasurya-iit-madras/DA6401-assig-3' target=\"_blank\">https://wandb.ai/shivasurya-iit-madras/DA6401-assig-3</a><br>Synced 5 W&B file(s), 0 media file(s), 0 artifact file(s) and 0 other file(s)"
      ],
      "text/plain": [
       "<IPython.core.display.HTML object>"
      ]
     },
     "metadata": {},
     "output_type": "display_data"
    },
    {
     "data": {
      "text/html": [
       "Find logs at: <code>./wandb/run-20250519_121104-xqn5td12/logs</code>"
      ],
      "text/plain": [
       "<IPython.core.display.HTML object>"
      ]
     },
     "metadata": {},
     "output_type": "display_data"
    }
   ],
   "source": [
    "best_model_train()"
   ]
  },
  {
   "cell_type": "markdown",
   "id": "a0e680d7-3d5b-4446-bb1b-b4ba1ec39617",
   "metadata": {},
   "source": [
    "## With attention"
   ]
  },
  {
   "cell_type": "code",
   "execution_count": 48,
   "id": "fafcadb6-c3c2-4588-8bba-d902022eb025",
   "metadata": {
    "execution": {
     "iopub.execute_input": "2025-05-20T06:21:25.719554Z",
     "iopub.status.busy": "2025-05-20T06:21:25.718977Z",
     "iopub.status.idle": "2025-05-20T06:21:25.738848Z",
     "shell.execute_reply": "2025-05-20T06:21:25.738088Z",
     "shell.execute_reply.started": "2025-05-20T06:21:25.719528Z"
    },
    "trusted": true
   },
   "outputs": [],
   "source": [
    "\"\"\" Attention Network \"\"\"\n",
    "\n",
    "class Attention_module(nn.Module):\n",
    "    def __init__(self, encoder_hidden_dim, decoder_hidden_dim):\n",
    "        super(Attention_module, self).__init__()\n",
    "        self.attn = nn.Linear(encoder_hidden_dim + decoder_hidden_dim, decoder_hidden_dim)\n",
    "        self.v = nn.Parameter(torch.rand(decoder_hidden_dim))\n",
    "\n",
    "    def forward(self, hidden, encoder_outputs, src_lengths):\n",
    "        # hidden: [batch_size, hidden_dim]\n",
    "        # encoder_outputs: [batch_size, src_len, hidden_dim]\n",
    "        \n",
    "        batch_size = encoder_outputs.shape[0]\n",
    "        src_len = encoder_outputs.shape[1]\n",
    "        hidden = hidden[-1]\n",
    "\n",
    "        hidden = hidden.unsqueeze(1).repeat(1, src_len, 1)  # [batch_size, src_len, hidden_dim]\n",
    "        energy = torch.tanh(self.attn(torch.cat((hidden, encoder_outputs), dim=2)))  # [batch_size, src_len, hidden_dim]\n",
    "        energy = torch.einsum(\"bsh,h->bs\", energy, self.v)  # [batch_size, src_len]\n",
    "\n",
    "        # Mask padding\n",
    "        mask = torch.arange(src_len).expand(len(src_lengths), src_len).to(src_lengths.device) >= src_lengths.unsqueeze(1)\n",
    "        mask = mask.to(device)\n",
    "        energy = energy.masked_fill(mask, -1e10)\n",
    "\n",
    "        attention_weights = F.softmax(energy, dim=1)  # [batch_size, src_len]\n",
    "\n",
    "        context = torch.bmm(attention_weights.unsqueeze(1), encoder_outputs)  # [batch_size, 1, hidden_dim]\n",
    "        del mask, energy\n",
    "        return context, attention_weights\n",
    "\n",
    "class Encoder_for_attention(nn.Module):\n",
    "    def __init__(self, input_vocab_size, \n",
    "                 embedding_size : int ,\n",
    "                 hidden_size : int, \n",
    "                 encoder_layers : int = 1,\n",
    "                 rnn_type = \"LSTM\",\n",
    "                 dropout = 0.2,\n",
    "                 pad_idx = roman_char2ind['<pad>'] ):\n",
    "        \n",
    "        super().__init__()\n",
    "\n",
    "        self.embedding_size = embedding_size\n",
    "        self.hidden_size = hidden_size\n",
    "        self.encoder_layers = encoder_layers\n",
    "        self.rnn_type = rnn_type\n",
    "        self.pad_idx = pad_idx\n",
    "        self.dropout = dropout\n",
    "\n",
    "        self.embedding = nn.Embedding(input_vocab_size, embedding_size, padding_idx=pad_idx)\n",
    "\n",
    "        # initialize the RNN\n",
    "        if self.rnn_type == \"LSTM\":\n",
    "            self.rnn = nn.LSTM(embedding_size, hidden_size, encoder_layers, batch_first=True, dropout = dropout)\n",
    "        elif self.rnn_type == \"GRU\":\n",
    "            self.rnn = nn.GRU(embedding_size, hidden_size, encoder_layers, batch_first=True, dropout = dropout)\n",
    "        elif self.rnn_type == \"RNN\":\n",
    "            self.rnn = nn.RNN(embedding_size, hidden_size, encoder_layers, batch_first=True, dropout=dropout)\n",
    "        else:\n",
    "            raise ValueError(f\"Unsupported rnn_type: {self.rnn_type}\")\n",
    "\n",
    "    def forward(self, input_idxs, input_lengths):\n",
    "        # x: [batch, seq_len]\n",
    "        embedded = nn.Dropout(self.dropout)(self.embedding(input_idxs))  # shape: [batch, seq_len, emb_dim]\n",
    "        packed = nn.utils.rnn.pack_padded_sequence(embedded, input_lengths.cpu(), batch_first=True, enforce_sorted=False) # for avoiding paddings\n",
    "        outputs, hidden = self.rnn(packed)\n",
    "        outputs, _ = nn.utils.rnn.pad_packed_sequence(outputs, batch_first=True)\n",
    "        # print(output.shape)\n",
    "        return hidden, outputs\n",
    "\n",
    "class Decoder_with_attention(nn.Module):\n",
    "    def __init__(self, output_dim, embedding_size, hidden_size, num_layers=1,\n",
    "                 dropout=0.1, rnn_type='LSTM', pad_idx=None, attention=None):\n",
    "        super(Decoder_with_attention, self).__init__()\n",
    "\n",
    "        self.output_dim = output_dim\n",
    "        self.hidden_dim = hidden_size\n",
    "        self.num_layers = num_layers\n",
    "        self.rnn_type = rnn_type.upper()\n",
    "        self.attention = attention\n",
    "\n",
    "        self.embedding = nn.Embedding(output_dim, embedding_size, padding_idx=pad_idx)\n",
    "        self.dropout = nn.Dropout(dropout)\n",
    "\n",
    "        rnn_cls = {\n",
    "            'RNN': nn.RNN,\n",
    "            'GRU': nn.GRU,\n",
    "            'LSTM': nn.LSTM\n",
    "        }[self.rnn_type]\n",
    "\n",
    "        # RNN takes attention context + embedding as input\n",
    "        self.rnn = rnn_cls(embedding_size + hidden_size, hidden_size, num_layers, batch_first=True, dropout = dropout)\n",
    "\n",
    "        # Final output layer to map hidden state to vocab\n",
    "        self.fc_out = nn.Linear(hidden_size * 2, output_dim)\n",
    "\n",
    "    def forward(self, input_token, hidden, encoder_outputs, src_lengths):\n",
    "        \"\"\"\n",
    "        input_token: (batch_size)\n",
    "        hidden: (num_layers, batch_size, hidden_size) for RNN/GRU or tuple for LSTM\n",
    "        encoder_outputs: (batch_size, src_len, hidden_size)\n",
    "        src_lengths: (batch_size,) actual lengths before padding (needed for attention)\n",
    "        \"\"\"\n",
    "        # Embed input token\n",
    "        embedded = self.dropout(self.embedding(input_token))  # (batch_size, embed_dim)\n",
    "        embedded = embedded.unsqueeze(1)  # (batch_size, 1, embed_dim)\n",
    "\n",
    "        # Attention context vector: (batch_size, 1, hidden_size)\n",
    "        if self.attention is not None:\n",
    "            if self.rnn_type == \"LSTM\": context, _ = self.attention(hidden[0], encoder_outputs, src_lengths)  # (batch_size, 1, hidden_dim)\n",
    "            else: context, _ = self.attention(hidden, encoder_outputs, src_lengths)\n",
    "        else:\n",
    "            context = torch.zeros(embedded.size(0), 1, self.hidden_dim, device=embedded.device)\n",
    "\n",
    "        # Combine context and embedded input\n",
    "        # print(context.shape, embedded.shape)\n",
    "        rnn_input = torch.cat((embedded, context), dim=2)  # (batch_size, 1, embed + hidden)\n",
    "\n",
    "        # Handle hidden state format\n",
    "        if self.rnn_type == \"LSTM\":\n",
    "            # print(rnn_input.shape, context.shape)\n",
    "            output, (h, c) = self.rnn(rnn_input, hidden)  # output: (batch, 1, hidden)\n",
    "            new_hidden = (h, c)\n",
    "        else:\n",
    "            output, h = self.rnn(rnn_input, hidden)\n",
    "            new_hidden = h\n",
    "\n",
    "        # Output is (batch, 1, hidden), context is (batch, 1, hidden)\n",
    "        combined = torch.cat((output, context), dim=2)  # (batch, 1, 2*hidden)\n",
    "        prediction = self.fc_out(combined.squeeze(1))   # (batch, output_dim)\n",
    "\n",
    "        return prediction, new_hidden\n",
    "class Seq_2_Seq_with_attention(nn.Module):\n",
    "    def __init__(self, encoder : Encoder, \n",
    "                 decoder : Decoder, \n",
    "                 teacher_forcing_ratio : float = 1.0):\n",
    "        super().__init__()\n",
    "\n",
    "        # initializing encoder and decoder\n",
    "        self.encoder = encoder\n",
    "        self.decoder = decoder\n",
    "        self.teacher_forcing_ratio = teacher_forcing_ratio\n",
    "        self.rnn_type = self.decoder.rnn_type\n",
    "    \n",
    "    def forward(self, native_tensor, native_tensor_len, roman_tensor):\n",
    "\n",
    "        # getting the hidden of the native text\n",
    "        native_hidden, native_outputs = self.encoder(native_tensor, native_tensor_len)\n",
    "\n",
    "        # outputs for storing the output from the model\n",
    "        target_vocab_size = self.decoder.embedding.weight.shape[0]\n",
    "        batch_size = roman_tensor.shape[0]\n",
    "        target_len = roman_tensor.shape[1]\n",
    "        outputs = torch.zeros(batch_size, target_len, target_vocab_size).to(device)\n",
    "\n",
    "        # initializing the decoder hidden state\n",
    "        decoder_hidden = native_hidden\n",
    "        # print(native_outputs.data.shape)\n",
    "\n",
    "        # running the decoder\n",
    "        decoder_input = roman_tensor[:, 0]\n",
    "        # print(f\"Decoder input shape : {decoder_input.shape}\") # -> passed\n",
    "\n",
    "        for i in range(1, target_len):\n",
    "            output, decoder_hidden = self.decoder(decoder_input, decoder_hidden, \n",
    "                                                encoder_outputs = native_outputs, \n",
    "                                                src_lengths = native_tensor_len)\n",
    "            outputs[:, i] = output\n",
    "\n",
    "            # Teacher forcing with a ratio\n",
    "            teacher_force = torch.rand(1) < self.teacher_forcing_ratio\n",
    "            best_guess = output.argmax(1)\n",
    "            decoder_input = roman_tensor[:, i] if teacher_force else best_guess\n",
    "\n",
    "        return outputs"
   ]
  },
  {
   "cell_type": "code",
   "execution_count": null,
   "id": "6c74597e-2a33-4934-a89c-0c8668564876",
   "metadata": {
    "trusted": true
   },
   "outputs": [],
   "source": [
    "# example_attention = Attention_module(encoder_hidden_dim = 16, decoder_hidden_dim = 16).to(device)\n",
    " \n",
    "# example_enc_att = Encoder_for_attention(input_vocab_size = len(native_char2ind), \n",
    "#                       embedding_size = 16, \n",
    "#                       hidden_size = 16, \n",
    "#                       encoder_layers = 3, \n",
    "#                       rnn_type=\"LSTM\", \n",
    "#                       pad_idx=native_char2ind['<pad>']).to(device)\n",
    "\n",
    "# example_dec_att = Decoder_with_attention(output_dim = len(roman_char2ind), \n",
    "#                       embedding_size = 16, \n",
    "#                       hidden_size = 16, \n",
    "#                       num_layers = 3, \n",
    "#                       rnn_type=\"LSTM\",\n",
    "#                       pad_idx=roman_char2ind['<pad>'],\n",
    "#                       attention=example_attention).to(device)\n",
    "\n",
    "# example_s2s_att = Seq_2_Seq_with_attention(example_enc_att, example_dec_att)\n",
    "# for native_tensor, native_tensor_len, roman_tensor, roman_tensor_len in example_dataloader:\n",
    "\n",
    "#     print(native_tensor.shape, \" | original length for each word : \" ,native_tensor_len)\n",
    "#     print(roman_tensor.shape, \" |  original length for each word : \" ,roman_tensor_len)\n",
    "\n",
    "#     encoder_output = example_enc_att(native_tensor.to(device), native_tensor_len.to(device))\n",
    "#     print(encoder_output[0][0].shape)\n",
    "\n",
    "#     output = example_s2s_att(native_tensor.to(device), native_tensor_len.to(device), roman_tensor.to(device))\n",
    "#     print(output.shape)\n",
    "    \n",
    "#     break"
   ]
  },
  {
   "cell_type": "code",
   "execution_count": 49,
   "id": "08dbf458-f740-483d-9f06-8eb132bdba92",
   "metadata": {
    "execution": {
     "iopub.execute_input": "2025-05-20T06:21:31.177125Z",
     "iopub.status.busy": "2025-05-20T06:21:31.176661Z",
     "iopub.status.idle": "2025-05-20T06:21:31.234952Z",
     "shell.execute_reply": "2025-05-20T06:21:31.234414Z",
     "shell.execute_reply.started": "2025-05-20T06:21:31.177104Z"
    },
    "trusted": true
   },
   "outputs": [],
   "source": [
    "### training with attention\n",
    "example_attention = Attention_module(encoder_hidden_dim = 320, decoder_hidden_dim = 320).to(device)\n",
    " \n",
    "enc_att = Encoder_for_attention(input_vocab_size = len(native_char2ind), \n",
    "                      embedding_size = 128, \n",
    "                      hidden_size = 320, \n",
    "                      encoder_layers = 3, \n",
    "                      rnn_type=\"LSTM\", \n",
    "                      pad_idx=native_char2ind['<pad>']).to(device)\n",
    "\n",
    "dec_att = Decoder_with_attention(output_dim = len(roman_char2ind), \n",
    "                      embedding_size = 128, \n",
    "                      hidden_size = 320, \n",
    "                      num_layers = 3, \n",
    "                      rnn_type=\"LSTM\",\n",
    "                      pad_idx=roman_char2ind['<pad>'],\n",
    "                      attention=example_attention).to(device)\n",
    "\n",
    "s2s_att = Seq_2_Seq_with_attention(enc_att, dec_att).to(device)"
   ]
  },
  {
   "cell_type": "code",
   "execution_count": 51,
   "id": "92bce397-1698-4ef4-afd5-58dc9e0e7513",
   "metadata": {
    "execution": {
     "iopub.execute_input": "2025-05-20T06:22:00.274419Z",
     "iopub.status.busy": "2025-05-20T06:22:00.274126Z",
     "iopub.status.idle": "2025-05-20T06:22:00.285774Z",
     "shell.execute_reply": "2025-05-20T06:22:00.285045Z",
     "shell.execute_reply.started": "2025-05-20T06:22:00.274398Z"
    },
    "trusted": true
   },
   "outputs": [
    {
     "name": "stdout",
     "output_type": "stream",
     "text": [
      "Total words in train dataset : 134\n",
      "Total words in val dataset : 14\n",
      "Total parameters in the model :  5083.550 K\n",
      "Total parameters in encoder : 2225.920 K\n",
      "Total parameters in decoder : 2857.630 K\n"
     ]
    },
    {
     "name": "stderr",
     "output_type": "stream",
     "text": [
      "/usr/local/lib/python3.11/dist-packages/torch/optim/lr_scheduler.py:62: UserWarning: The verbose parameter is deprecated. Please use get_last_lr() to access the learning rate.\n",
      "  warnings.warn(\n"
     ]
    }
   ],
   "source": [
    "example_train_dataset = Dakshina_Dataset(train_df[['native', 'roman']].values, native_char2ind, roman_char2ind, max_len_native=30, max_len_roman=30)\n",
    "example_val_dataset = Dakshina_Dataset(val_df[['native', 'roman']].values, native_char2ind, roman_char2ind, max_len_native=30, max_len_roman=30)\n",
    "\n",
    "example_train_dataloader = DataLoader(example_train_dataset, batch_size=512, shuffle=True, drop_last=False)\n",
    "example_val_dataloader = DataLoader(example_val_dataset, batch_size=512, shuffle=True, drop_last=False)\n",
    "\n",
    "example_trainer_att = Trainer(model = s2s_att, train_dataloader = example_train_dataloader, val_dataloader = example_val_dataloader, optimizer_params = {\"lr\" : 5e-4})"
   ]
  },
  {
   "cell_type": "code",
   "execution_count": 52,
   "id": "b1533ae3-33f1-4b8f-90cf-8307d63df169",
   "metadata": {
    "execution": {
     "iopub.execute_input": "2025-05-20T06:22:04.863065Z",
     "iopub.status.busy": "2025-05-20T06:22:04.862823Z",
     "iopub.status.idle": "2025-05-20T06:30:09.459083Z",
     "shell.execute_reply": "2025-05-20T06:30:09.458433Z",
     "shell.execute_reply.started": "2025-05-20T06:22:04.863048Z"
    },
    "trusted": true
   },
   "outputs": [
    {
     "data": {
      "application/vnd.jupyter.widget-view+json": {
       "model_id": "c4989ff639894601844041fbb0d19236",
       "version_major": 2,
       "version_minor": 0
      },
      "text/plain": [
       "  0%|          | 0/134 [00:00<?, ?it/s]"
      ]
     },
     "metadata": {},
     "output_type": "display_data"
    },
    {
     "name": "stdout",
     "output_type": "stream",
     "text": [
      "Epoch 1/5 : Train_loss = 2.229292326898717, Train_accuracy = 0.3504547343151286, Val_loss = 1.2557857121740068, Val_accuracy = 0.6527091533372414\n",
      "            Train word matches : 114, Val word matches : 148\n"
     ]
    },
    {
     "data": {
      "application/vnd.jupyter.widget-view+json": {
       "model_id": "63bfb22249c0476da484eb5c4e8a3ad7",
       "version_major": 2,
       "version_minor": 0
      },
      "text/plain": [
       "  0%|          | 0/134 [00:00<?, ?it/s]"
      ]
     },
     "metadata": {},
     "output_type": "display_data"
    },
    {
     "name": "stdout",
     "output_type": "stream",
     "text": [
      "Epoch 2/5 : Train_loss = 0.9666284834271046, Train_accuracy = 0.7342610484940018, Val_loss = 0.7179299465247563, Val_accuracy = 0.8110431845462412\n",
      "            Train word matches : 6202, Val word matches : 1354\n"
     ]
    },
    {
     "data": {
      "application/vnd.jupyter.widget-view+json": {
       "model_id": "caec5238a9ac482493a95ca41bac71e5",
       "version_major": 2,
       "version_minor": 0
      },
      "text/plain": [
       "  0%|          | 0/134 [00:00<?, ?it/s]"
      ]
     },
     "metadata": {},
     "output_type": "display_data"
    },
    {
     "name": "stdout",
     "output_type": "stream",
     "text": [
      "Epoch 3/5 : Train_loss = 0.6224785000085831, Train_accuracy = 0.8303916848582377, Val_loss = 0.5627821172986712, Val_accuracy = 0.8441922787036261\n",
      "            Train word matches : 14595, Val word matches : 1753\n"
     ]
    },
    {
     "data": {
      "application/vnd.jupyter.widget-view+json": {
       "model_id": "6b163cb90bd746ae965d95e0dea78990",
       "version_major": 2,
       "version_minor": 0
      },
      "text/plain": [
       "  0%|          | 0/134 [00:00<?, ?it/s]"
      ]
     },
     "metadata": {},
     "output_type": "display_data"
    },
    {
     "name": "stdout",
     "output_type": "stream",
     "text": [
      "Epoch 4/5 : Train_loss = 0.5304310539765145, Train_accuracy = 0.8498591939430312, Val_loss = 0.5303072035312653, Val_accuracy = 0.8480026798425593\n",
      "            Train word matches : 17063, Val word matches : 1774\n"
     ]
    },
    {
     "data": {
      "application/vnd.jupyter.widget-view+json": {
       "model_id": "093890bd03a94742863abaccb1b31529",
       "version_major": 2,
       "version_minor": 0
      },
      "text/plain": [
       "  0%|          | 0/134 [00:00<?, ?it/s]"
      ]
     },
     "metadata": {},
     "output_type": "display_data"
    },
    {
     "name": "stdout",
     "output_type": "stream",
     "text": [
      "Epoch 5/5 : Train_loss = 0.4798125339977777, Train_accuracy = 0.8592308757675085, Val_loss = 0.4820982962846756, Val_accuracy = 0.8585126873796165\n",
      "            Train word matches : 18201, Val word matches : 1929\n"
     ]
    }
   ],
   "source": [
    "example_history_att = example_trainer_att.train_model(epochs = 5)"
   ]
  },
  {
   "cell_type": "code",
   "execution_count": 30,
   "id": "446f9dbd-7bbd-4d44-a2f5-0703b0000d7b",
   "metadata": {
    "execution": {
     "iopub.execute_input": "2025-05-20T04:02:06.174600Z",
     "iopub.status.busy": "2025-05-20T04:02:06.174310Z",
     "iopub.status.idle": "2025-05-20T04:02:06.183370Z",
     "shell.execute_reply": "2025-05-20T04:02:06.182588Z",
     "shell.execute_reply.started": "2025-05-20T04:02:06.174580Z"
    },
    "trusted": true
   },
   "outputs": [],
   "source": [
    "### Running for 25 epoch for model with good hyperparameters\n",
    "\n",
    "# Set default config values for the run\n",
    "best_model_config = {\n",
    "  \"embed_size\": 32,\n",
    "\n",
    "  \"hidden_size\": 64,\n",
    "\n",
    "  \"num_layers\":  2,\n",
    "\n",
    "  \"dropout\": 0.3,\n",
    "\n",
    "  \"model_type\": \"LSTM\",\n",
    "\n",
    "  \"beam_width\": 1,\n",
    "\n",
    "  \"attention\" : 1,\n",
    "}\n",
    "\n",
    "def best_model_train():\n",
    "\n",
    "    run = wandb.init(config = best_model_config,\n",
    "                    project=\"DA6401-assig-3\")\n",
    "    config = wandb.config\n",
    "    run.name = f\"{config.model_type} _ embed : {config.embed_size} _ hidden : {config.hidden_size} _ layers : {config.num_layers} _ dropout : {config.dropout}\"\n",
    "\n",
    "    # === Build Encoder ===\n",
    "    example_attention = Attention_module(encoder_hidden_dim = config.hidden_size, decoder_hidden_dim = config.hidden_size).to(device)\n",
    "\n",
    "    global att_encoder\n",
    "    att_encoder = Encoder_for_attention(\n",
    "        input_vocab_size=len(native_char2ind),\n",
    "        embedding_size = config.embed_size,\n",
    "        hidden_size = config.hidden_size,\n",
    "        encoder_layers = config.num_layers,\n",
    "        dropout=config.dropout,\n",
    "        rnn_type=config.model_type,\n",
    "    )\n",
    "\n",
    "    # === Build Decoder ===\n",
    "    global att_decoder\n",
    "    att_decoder = Decoder_with_attention(\n",
    "        output_dim=len(roman_char2ind),\n",
    "        embedding_size=config.embed_size,\n",
    "        hidden_size=config.hidden_size,\n",
    "        num_layers=config.num_layers,\n",
    "        dropout=config.dropout,\n",
    "        rnn_type=config.model_type,\n",
    "    )\n",
    "\n",
    "    # === Full Seq2Seq ===\n",
    "    global attention_s2s_model\n",
    "    attention_s2s_model = Seq_2_Seq_with_attention(\n",
    "        encoder=att_encoder,\n",
    "        decoder=att_decoder,\n",
    "    ).to(device)\n",
    "\n",
    "    # === Trainer ===\n",
    "    trainer = Trainer(\n",
    "        model=attention_s2s_model,\n",
    "        train_dataloader=example_train_dataloader,\n",
    "        val_dataloader=example_val_dataloader,\n",
    "        optimizer_params={\"lr\": 5e-4},\n",
    "    )\n",
    "\n",
    "    history = trainer.train_model(epochs=10)\n",
    "\n",
    "    # === wandb Log ===\n",
    "    for i in range(len(history[\"train_loss\"])):\n",
    "        wandb.log({\n",
    "            \"train_loss\": history[\"train_loss\"][i],\n",
    "            \"train_accuracy\": history[\"train_accuracy\"][i],\n",
    "            \"val_loss\": history[\"val_loss\"][i],\n",
    "            \"val_accuracy\": history[\"val_accuracy\"][i],\n",
    "            \"train_word_matches\": history[\"train_word_matches\"][i],\n",
    "            \"val_word_matches\": history[\"val_word_matches\"][i],\n",
    "        })\n",
    "\n",
    "    wandb.finish()"
   ]
  },
  {
   "cell_type": "code",
   "execution_count": 43,
   "id": "10916af1-b6f1-426f-90a5-9176b42f0da7",
   "metadata": {
    "execution": {
     "iopub.execute_input": "2025-05-20T04:36:53.777563Z",
     "iopub.status.busy": "2025-05-20T04:36:53.776775Z",
     "iopub.status.idle": "2025-05-20T04:51:22.535847Z",
     "shell.execute_reply": "2025-05-20T04:51:22.535291Z",
     "shell.execute_reply.started": "2025-05-20T04:36:53.777537Z"
    },
    "trusted": true
   },
   "outputs": [
    {
     "data": {
      "text/html": [
       "Tracking run with wandb version 0.19.9"
      ],
      "text/plain": [
       "<IPython.core.display.HTML object>"
      ]
     },
     "metadata": {},
     "output_type": "display_data"
    },
    {
     "data": {
      "text/html": [
       "Run data is saved locally in <code>/kaggle/working/wandb/run-20250520_043653-l31of62c</code>"
      ],
      "text/plain": [
       "<IPython.core.display.HTML object>"
      ]
     },
     "metadata": {},
     "output_type": "display_data"
    },
    {
     "data": {
      "text/html": [
       "Syncing run <strong><a href='https://wandb.ai/shivasurya-iit-madras/DA6401-assig-3/runs/l31of62c' target=\"_blank\">feasible-monkey-59</a></strong> to <a href='https://wandb.ai/shivasurya-iit-madras/DA6401-assig-3' target=\"_blank\">Weights & Biases</a> (<a href='https://wandb.me/developer-guide' target=\"_blank\">docs</a>)<br>"
      ],
      "text/plain": [
       "<IPython.core.display.HTML object>"
      ]
     },
     "metadata": {},
     "output_type": "display_data"
    },
    {
     "data": {
      "text/html": [
       " View project at <a href='https://wandb.ai/shivasurya-iit-madras/DA6401-assig-3' target=\"_blank\">https://wandb.ai/shivasurya-iit-madras/DA6401-assig-3</a>"
      ],
      "text/plain": [
       "<IPython.core.display.HTML object>"
      ]
     },
     "metadata": {},
     "output_type": "display_data"
    },
    {
     "data": {
      "text/html": [
       " View run at <a href='https://wandb.ai/shivasurya-iit-madras/DA6401-assig-3/runs/l31of62c' target=\"_blank\">https://wandb.ai/shivasurya-iit-madras/DA6401-assig-3/runs/l31of62c</a>"
      ],
      "text/plain": [
       "<IPython.core.display.HTML object>"
      ]
     },
     "metadata": {},
     "output_type": "display_data"
    },
    {
     "name": "stdout",
     "output_type": "stream",
     "text": [
      "Total words in train dataset : 134\n",
      "Total words in val dataset : 14\n",
      "Total parameters in the model :  4878.110 K\n",
      "Total parameters in encoder : 2225.920 K\n",
      "Total parameters in decoder : 2652.190 K\n"
     ]
    },
    {
     "name": "stderr",
     "output_type": "stream",
     "text": [
      "/usr/local/lib/python3.11/dist-packages/torch/optim/lr_scheduler.py:62: UserWarning: The verbose parameter is deprecated. Please use get_last_lr() to access the learning rate.\n",
      "  warnings.warn(\n"
     ]
    },
    {
     "data": {
      "application/vnd.jupyter.widget-view+json": {
       "model_id": "05f9a6d1ec4d46abad86af12c17ab1c4",
       "version_major": 2,
       "version_minor": 0
      },
      "text/plain": [
       "  0%|          | 0/134 [00:00<?, ?it/s]"
      ]
     },
     "metadata": {},
     "output_type": "display_data"
    },
    {
     "name": "stdout",
     "output_type": "stream",
     "text": [
      "Epoch 1/10 : Train_loss = 2.5037176609039307, Train_accuracy = 0.2735124468931241, Val_loss = 2.0031671609197343, Val_accuracy = 0.38433408703905314\n",
      "            Train word matches : 0, Val word matches : 0\n"
     ]
    },
    {
     "data": {
      "application/vnd.jupyter.widget-view+json": {
       "model_id": "afc37ac716c54970978deaa8e32bd6d4",
       "version_major": 2,
       "version_minor": 0
      },
      "text/plain": [
       "  0%|          | 0/134 [00:00<?, ?it/s]"
      ]
     },
     "metadata": {},
     "output_type": "display_data"
    },
    {
     "name": "stdout",
     "output_type": "stream",
     "text": [
      "Epoch 2/10 : Train_loss = 1.580714727515605, Train_accuracy = 0.525568462858492, Val_loss = 1.1442052721977234, Val_accuracy = 0.6628981380677219\n",
      "            Train word matches : 381, Val word matches : 206\n"
     ]
    },
    {
     "data": {
      "application/vnd.jupyter.widget-view+json": {
       "model_id": "43fe6c42976841ca8b5ddc3ca4910ace",
       "version_major": 2,
       "version_minor": 0
      },
      "text/plain": [
       "  0%|          | 0/134 [00:00<?, ?it/s]"
      ]
     },
     "metadata": {},
     "output_type": "display_data"
    },
    {
     "name": "stdout",
     "output_type": "stream",
     "text": [
      "Epoch 3/10 : Train_loss = 0.940861638802201, Train_accuracy = 0.7213354771737711, Val_loss = 0.7322926478726524, Val_accuracy = 0.7850961672668397\n",
      "            Train word matches : 4245, Val word matches : 906\n"
     ]
    },
    {
     "data": {
      "application/vnd.jupyter.widget-view+json": {
       "model_id": "d8fef51374f84561860f5ca2235c14d2",
       "version_major": 2,
       "version_minor": 0
      },
      "text/plain": [
       "  0%|          | 0/134 [00:00<?, ?it/s]"
      ]
     },
     "metadata": {},
     "output_type": "display_data"
    },
    {
     "name": "stdout",
     "output_type": "stream",
     "text": [
      "Epoch 4/10 : Train_loss = 0.6825150064568022, Train_accuracy = 0.794303434321584, Val_loss = 0.600085973739624, Val_accuracy = 0.8206319962035564\n",
      "            Train word matches : 9190, Val word matches : 1306\n"
     ]
    },
    {
     "data": {
      "application/vnd.jupyter.widget-view+json": {
       "model_id": "6c0eab009ff347a8a7239c8623dd6252",
       "version_major": 2,
       "version_minor": 0
      },
      "text/plain": [
       "  0%|          | 0/134 [00:00<?, ?it/s]"
      ]
     },
     "metadata": {},
     "output_type": "display_data"
    },
    {
     "name": "stdout",
     "output_type": "stream",
     "text": [
      "Epoch 5/10 : Train_loss = 0.5669722392487881, Train_accuracy = 0.8262064708279858, Val_loss = 0.5421596850667681, Val_accuracy = 0.8358736007592887\n",
      "            Train word matches : 12495, Val word matches : 1532\n"
     ]
    },
    {
     "data": {
      "application/vnd.jupyter.widget-view+json": {
       "model_id": "e50e83f1ab8043648a7a2dc99f6e4a73",
       "version_major": 2,
       "version_minor": 0
      },
      "text/plain": [
       "  0%|          | 0/134 [00:00<?, ?it/s]"
      ]
     },
     "metadata": {},
     "output_type": "display_data"
    },
    {
     "name": "stdout",
     "output_type": "stream",
     "text": [
      "Epoch 6/10 : Train_loss = 0.5029770309355721, Train_accuracy = 0.842394752427319, Val_loss = 0.507194561617715, Val_accuracy = 0.8441364486503085\n",
      "            Train word matches : 14503, Val word matches : 1606\n"
     ]
    },
    {
     "data": {
      "application/vnd.jupyter.widget-view+json": {
       "model_id": "763b28c3cf184421ac85124d2f9e66c3",
       "version_major": 2,
       "version_minor": 0
      },
      "text/plain": [
       "  0%|          | 0/134 [00:00<?, ?it/s]"
      ]
     },
     "metadata": {},
     "output_type": "display_data"
    },
    {
     "name": "stdout",
     "output_type": "stream",
     "text": [
      "Epoch 7/10 : Train_loss = 0.4594516649619857, Train_accuracy = 0.8529112658463267, Val_loss = 0.4771718255111149, Val_accuracy = 0.8509337576417385\n",
      "            Train word matches : 15710, Val word matches : 1709\n"
     ]
    },
    {
     "data": {
      "application/vnd.jupyter.widget-view+json": {
       "model_id": "88a7804c804a4b22ad92161e40318af1",
       "version_major": 2,
       "version_minor": 0
      },
      "text/plain": [
       "  0%|          | 0/134 [00:00<?, ?it/s]"
      ]
     },
     "metadata": {},
     "output_type": "display_data"
    },
    {
     "name": "stdout",
     "output_type": "stream",
     "text": [
      "Epoch 8/10 : Train_loss = 0.4270478326882889, Train_accuracy = 0.8601553009268724, Val_loss = 0.4676421752997807, Val_accuracy = 0.8533623649610586\n",
      "            Train word matches : 16522, Val word matches : 1783\n"
     ]
    },
    {
     "data": {
      "application/vnd.jupyter.widget-view+json": {
       "model_id": "6149dbe9bb9142268bfe388b2fb406cc",
       "version_major": 2,
       "version_minor": 0
      },
      "text/plain": [
       "  0%|          | 0/134 [00:00<?, ?it/s]"
      ]
     },
     "metadata": {},
     "output_type": "display_data"
    },
    {
     "name": "stdout",
     "output_type": "stream",
     "text": [
      "Epoch 9/10 : Train_loss = 0.4029671423025985, Train_accuracy = 0.865799369774224, Val_loss = 0.45750197981085095, Val_accuracy = 0.8572146386399799\n",
      "            Train word matches : 17298, Val word matches : 1825\n"
     ]
    },
    {
     "data": {
      "application/vnd.jupyter.widget-view+json": {
       "model_id": "ab91d2a6901a4516989f4c5cd49c0d5c",
       "version_major": 2,
       "version_minor": 0
      },
      "text/plain": [
       "  0%|          | 0/134 [00:00<?, ?it/s]"
      ]
     },
     "metadata": {},
     "output_type": "display_data"
    },
    {
     "name": "stdout",
     "output_type": "stream",
     "text": [
      "Epoch 10/10 : Train_loss = 0.383266782137885, Train_accuracy = 0.8700769381948741, Val_loss = 0.44764559822423117, Val_accuracy = 0.8590709879127935\n",
      "            Train word matches : 17698, Val word matches : 1814\n"
     ]
    },
    {
     "data": {
      "text/html": [],
      "text/plain": [
       "<IPython.core.display.HTML object>"
      ]
     },
     "metadata": {},
     "output_type": "display_data"
    },
    {
     "data": {
      "text/html": [
       "<br>    <style><br>        .wandb-row {<br>            display: flex;<br>            flex-direction: row;<br>            flex-wrap: wrap;<br>            justify-content: flex-start;<br>            width: 100%;<br>        }<br>        .wandb-col {<br>            display: flex;<br>            flex-direction: column;<br>            flex-basis: 100%;<br>            flex: 1;<br>            padding: 10px;<br>        }<br>    </style><br><div class=\"wandb-row\"><div class=\"wandb-col\"><h3>Run history:</h3><br/><table class=\"wandb\"><tr><td>train_accuracy</td><td>▁▄▆▇▇█████</td></tr><tr><td>train_loss</td><td>█▅▃▂▂▁▁▁▁▁</td></tr><tr><td>train_word_matches</td><td>▁▁▃▅▆▇▇███</td></tr><tr><td>val_accuracy</td><td>▁▅▇▇██████</td></tr><tr><td>val_loss</td><td>█▄▂▂▁▁▁▁▁▁</td></tr><tr><td>val_word_matches</td><td>▁▂▄▆▇▇████</td></tr></table><br/></div><div class=\"wandb-col\"><h3>Run summary:</h3><br/><table class=\"wandb\"><tr><td>train_accuracy</td><td>0.87008</td></tr><tr><td>train_loss</td><td>0.38327</td></tr><tr><td>train_word_matches</td><td>0.25943</td></tr><tr><td>val_accuracy</td><td>0.85907</td></tr><tr><td>val_loss</td><td>0.44765</td></tr><tr><td>val_word_matches</td><td>0.26571</td></tr></table><br/></div></div>"
      ],
      "text/plain": [
       "<IPython.core.display.HTML object>"
      ]
     },
     "metadata": {},
     "output_type": "display_data"
    },
    {
     "data": {
      "text/html": [
       " View run <strong style=\"color:#cdcd00\">LSTM _ embed : 128 _ hidden : 320 _ layers : 3 _ dropout : 0.3</strong> at: <a href='https://wandb.ai/shivasurya-iit-madras/DA6401-assig-3/runs/l31of62c' target=\"_blank\">https://wandb.ai/shivasurya-iit-madras/DA6401-assig-3/runs/l31of62c</a><br> View project at: <a href='https://wandb.ai/shivasurya-iit-madras/DA6401-assig-3' target=\"_blank\">https://wandb.ai/shivasurya-iit-madras/DA6401-assig-3</a><br>Synced 5 W&B file(s), 0 media file(s), 0 artifact file(s) and 0 other file(s)"
      ],
      "text/plain": [
       "<IPython.core.display.HTML object>"
      ]
     },
     "metadata": {},
     "output_type": "display_data"
    },
    {
     "data": {
      "text/html": [
       "Find logs at: <code>./wandb/run-20250520_043653-l31of62c/logs</code>"
      ],
      "text/plain": [
       "<IPython.core.display.HTML object>"
      ]
     },
     "metadata": {},
     "output_type": "display_data"
    }
   ],
   "source": [
    "best_model_train()"
   ]
  },
  {
   "cell_type": "markdown",
   "id": "dbbf5ed8-f5be-4a7f-8282-9b68a681add4",
   "metadata": {},
   "source": [
    "### Test prediction"
   ]
  },
  {
   "cell_type": "code",
   "execution_count": 53,
   "id": "6cd1f45c-3dfc-4196-a64b-80d32598fdd5",
   "metadata": {
    "execution": {
     "iopub.execute_input": "2025-05-20T06:32:25.682556Z",
     "iopub.status.busy": "2025-05-20T06:32:25.681972Z",
     "iopub.status.idle": "2025-05-20T06:32:25.692889Z",
     "shell.execute_reply": "2025-05-20T06:32:25.692112Z",
     "shell.execute_reply.started": "2025-05-20T06:32:25.682532Z"
    },
    "trusted": true
   },
   "outputs": [],
   "source": [
    "test_dataset = Dakshina_Dataset(test_df[['native', 'roman']].values, native_char2ind, roman_char2ind, max_len_native=35, max_len_roman=40)\n",
    "\n",
    "test_dataloader = DataLoader(test_dataset, batch_size=512, shuffle=False, drop_last=False)\n",
    "\n",
    "test_prediction = []\n",
    "\n",
    "test_pred_s2s = Seq_2_Seq(example_enc, example_dec, 0).to(device)"
   ]
  },
  {
   "cell_type": "code",
   "execution_count": 48,
   "id": "be1af9b6-06b2-45c7-be68-67b2109fb242",
   "metadata": {
    "execution": {
     "iopub.execute_input": "2025-05-20T01:34:16.091748Z",
     "iopub.status.busy": "2025-05-20T01:34:16.091432Z",
     "iopub.status.idle": "2025-05-20T01:34:23.547559Z",
     "shell.execute_reply": "2025-05-20T01:34:23.546656Z",
     "shell.execute_reply.started": "2025-05-20T01:34:16.091729Z"
    },
    "trusted": true
   },
   "outputs": [
    {
     "data": {
      "application/vnd.jupyter.widget-view+json": {
       "model_id": "3122696689bf43888c17b2a2e491aa8b",
       "version_major": 2,
       "version_minor": 0
      },
      "text/plain": [
       "  0%|          | 0/14 [00:00<?, ?it/s]"
      ]
     },
     "metadata": {},
     "output_type": "display_data"
    },
    {
     "data": {
      "text/plain": [
       "(['paarm',\n",
       "  'paarm',\n",
       "  'paarm',\n",
       "  'paarm',\n",
       "  'bess',\n",
       "  'bess',\n",
       "  'bess',\n",
       "  'bese',\n",
       "  'bess',\n",
       "  'athimaiku'],\n",
       " array([['ஃபார்ம்', 'faarm'],\n",
       "        ['ஃபார்ம்', 'farm'],\n",
       "        ['ஃபார்ம்', 'form'],\n",
       "        ['ஃபார்ம்', 'hpaarm'],\n",
       "        ['ஃபேஸ்', 'face'],\n",
       "        ['ஃபேஸ்', 'hpaes'],\n",
       "        ['ஃபேஸ்', 'pace'],\n",
       "        ['ஃபேஸ்', 'paes'],\n",
       "        ['ஃபேஸ்', 'phase'],\n",
       "        ['அஇஅதிமுக', 'aeathimuka']], dtype=object))"
      ]
     },
     "execution_count": 48,
     "metadata": {},
     "output_type": "execute_result"
    }
   ],
   "source": [
    "test_predictions = []\n",
    "\n",
    "\n",
    "for test_native_tensor, test_native_tensor_len, test_roman_tensor, test_roman_tensor_len in tqdm(test_dataloader):\n",
    "\n",
    "    # print(test_native_tensor.shape, \" | original length for each word : \" )\n",
    "    # print(test_roman_tensor.shape, \" |  original length for each word : \" )\n",
    "    test_pred_s2s.eval()\n",
    "    test_output = test_pred_s2s(test_native_tensor.to(device), test_native_tensor_len.to(device), test_roman_tensor.to(device))\n",
    "    # print(test_output.shape, test_output.argmax(-1).shape)\n",
    "    \n",
    "    for word in test_output.argmax(-1):\n",
    "        output_word = \"\"\n",
    "        word = word[1:]\n",
    "        for i,v in enumerate((word != 0) & (word != 1) & (word != 2)):\n",
    "            if v == False:\n",
    "                break\n",
    "            else:\n",
    "                output_word += roman_idx2char[word[i].item()]\n",
    "        test_predictions.append(output_word)\n",
    "        \n",
    "    # break\n",
    "\n",
    "test_predictions[:10], test_df[['native', 'roman']].values[:10]"
   ]
  },
  {
   "cell_type": "code",
   "execution_count": 52,
   "id": "2181fe75-4b10-4e7e-9f9a-3bd8e0646f34",
   "metadata": {
    "execution": {
     "iopub.execute_input": "2025-05-20T01:37:11.004965Z",
     "iopub.status.busy": "2025-05-20T01:37:11.004697Z",
     "iopub.status.idle": "2025-05-20T01:37:11.030051Z",
     "shell.execute_reply": "2025-05-20T01:37:11.029056Z",
     "shell.execute_reply.started": "2025-05-20T01:37:11.004948Z"
    },
    "trusted": true
   },
   "outputs": [
    {
     "name": "stdout",
     "output_type": "stream",
     "text": [
      "Test acccuracy : 24.67948717948718\n"
     ]
    }
   ],
   "source": [
    "LSTM_predictions_df = test_df.copy()\n",
    "LSTM_predictions_df['pred'] = test_predictions\n",
    "\n",
    "LSTM_predictions_df.to_csv(\"/kaggle/working/LSTM_vanilla_predictions.csv\" ,index = False)\n",
    "\n",
    "print(f\"Test acccuracy : {(LSTM_predictions_df['pred'] == LSTM_predictions_df['roman']).sum()*100 / len(test_df)}\")"
   ]
  },
  {
   "cell_type": "code",
   "execution_count": 80,
   "id": "4ffee9c0-5137-459a-9188-fc408185a64d",
   "metadata": {
    "execution": {
     "iopub.execute_input": "2025-05-20T02:22:37.257024Z",
     "iopub.status.busy": "2025-05-20T02:22:37.256729Z",
     "iopub.status.idle": "2025-05-20T02:22:37.267767Z",
     "shell.execute_reply": "2025-05-20T02:22:37.267100Z",
     "shell.execute_reply.started": "2025-05-20T02:22:37.257004Z"
    },
    "trusted": true
   },
   "outputs": [
    {
     "data": {
      "text/html": [
       "<div>\n",
       "<style scoped>\n",
       "    .dataframe tbody tr th:only-of-type {\n",
       "        vertical-align: middle;\n",
       "    }\n",
       "\n",
       "    .dataframe tbody tr th {\n",
       "        vertical-align: top;\n",
       "    }\n",
       "\n",
       "    .dataframe thead th {\n",
       "        text-align: right;\n",
       "    }\n",
       "</style>\n",
       "<table border=\"1\" class=\"dataframe\">\n",
       "  <thead>\n",
       "    <tr style=\"text-align: right;\">\n",
       "      <th></th>\n",
       "      <th>native</th>\n",
       "      <th>roman</th>\n",
       "      <th>pred</th>\n",
       "    </tr>\n",
       "  </thead>\n",
       "  <tbody>\n",
       "    <tr>\n",
       "      <th>3609</th>\n",
       "      <td>தண்டனைகள்</td>\n",
       "      <td>thandanaigal</td>\n",
       "      <td>thandanaikal</td>\n",
       "    </tr>\n",
       "    <tr>\n",
       "      <th>4780</th>\n",
       "      <td>பயிர்ச்</td>\n",
       "      <td>paiyrch</td>\n",
       "      <td>payirch</td>\n",
       "    </tr>\n",
       "    <tr>\n",
       "      <th>564</th>\n",
       "      <td>ஆயில்</td>\n",
       "      <td>oyal</td>\n",
       "      <td>aayil</td>\n",
       "    </tr>\n",
       "    <tr>\n",
       "      <th>3104</th>\n",
       "      <td>செயின்</td>\n",
       "      <td>cheyin</td>\n",
       "      <td>chiyin</td>\n",
       "    </tr>\n",
       "    <tr>\n",
       "      <th>684</th>\n",
       "      <td>இதனால்</td>\n",
       "      <td>ithanaal</td>\n",
       "      <td>idhanaal</td>\n",
       "    </tr>\n",
       "    <tr>\n",
       "      <th>264</th>\n",
       "      <td>அமெரிக்காவிற்கு</td>\n",
       "      <td>americavirkku</td>\n",
       "      <td>amerivaakkirku</td>\n",
       "    </tr>\n",
       "    <tr>\n",
       "      <th>4837</th>\n",
       "      <td>பழுவேட்டரையர்</td>\n",
       "      <td>pazhavaettaraiyar</td>\n",
       "      <td>pazhuvaettaiyar</td>\n",
       "    </tr>\n",
       "    <tr>\n",
       "      <th>2598</th>\n",
       "      <td>சந்தர்ப்பங்களை</td>\n",
       "      <td>santharppangkalai</td>\n",
       "      <td>sandharppangalai</td>\n",
       "    </tr>\n",
       "    <tr>\n",
       "      <th>259</th>\n",
       "      <td>அமெரிக்கா</td>\n",
       "      <td>amerikaa</td>\n",
       "      <td>america</td>\n",
       "    </tr>\n",
       "    <tr>\n",
       "      <th>4255</th>\n",
       "      <td>நளன்</td>\n",
       "      <td>nalan</td>\n",
       "      <td>nalan</td>\n",
       "    </tr>\n",
       "    <tr>\n",
       "      <th>1665</th>\n",
       "      <td>காரணமாகும்</td>\n",
       "      <td>kaaranamaagum</td>\n",
       "      <td>karanamaagum</td>\n",
       "    </tr>\n",
       "    <tr>\n",
       "      <th>3212</th>\n",
       "      <td>சேகரிப்புத்</td>\n",
       "      <td>segaripputh</td>\n",
       "      <td>serakirupputh</td>\n",
       "    </tr>\n",
       "    <tr>\n",
       "      <th>1724</th>\n",
       "      <td>காலணிகளை</td>\n",
       "      <td>colonygalai</td>\n",
       "      <td>kaalanigalai</td>\n",
       "    </tr>\n",
       "    <tr>\n",
       "      <th>2812</th>\n",
       "      <td>சிட்டு</td>\n",
       "      <td>seetuu</td>\n",
       "      <td>sittu</td>\n",
       "    </tr>\n",
       "    <tr>\n",
       "      <th>861</th>\n",
       "      <td>இவையெல்லாம்</td>\n",
       "      <td>evaiyellaam</td>\n",
       "      <td>ivaiyallaam</td>\n",
       "    </tr>\n",
       "    <tr>\n",
       "      <th>6399</th>\n",
       "      <td>வாகனங்களின்</td>\n",
       "      <td>vaakanangkalin</td>\n",
       "      <td>vaaganangkalin</td>\n",
       "    </tr>\n",
       "    <tr>\n",
       "      <th>761</th>\n",
       "      <td>இன்றித்</td>\n",
       "      <td>indrith</td>\n",
       "      <td>intrith</td>\n",
       "    </tr>\n",
       "    <tr>\n",
       "      <th>2757</th>\n",
       "      <td>சாமிநாதன்</td>\n",
       "      <td>chaaminaathan</td>\n",
       "      <td>saaminathan</td>\n",
       "    </tr>\n",
       "    <tr>\n",
       "      <th>4521</th>\n",
       "      <td>நொய்டா</td>\n",
       "      <td>noytaa</td>\n",
       "      <td>noyaa</td>\n",
       "    </tr>\n",
       "    <tr>\n",
       "      <th>1848</th>\n",
       "      <td>கிழார்</td>\n",
       "      <td>kizhaar</td>\n",
       "      <td>kilar</td>\n",
       "    </tr>\n",
       "  </tbody>\n",
       "</table>\n",
       "</div>"
      ],
      "text/plain": [
       "               native              roman              pred\n",
       "3609        தண்டனைகள்       thandanaigal      thandanaikal\n",
       "4780          பயிர்ச்            paiyrch           payirch\n",
       "564             ஆயில்               oyal             aayil\n",
       "3104           செயின்             cheyin            chiyin\n",
       "684            இதனால்           ithanaal          idhanaal\n",
       "264   அமெரிக்காவிற்கு      americavirkku    amerivaakkirku\n",
       "4837    பழுவேட்டரையர்  pazhavaettaraiyar   pazhuvaettaiyar\n",
       "2598   சந்தர்ப்பங்களை  santharppangkalai  sandharppangalai\n",
       "259         அமெரிக்கா           amerikaa           america\n",
       "4255             நளன்              nalan             nalan\n",
       "1665       காரணமாகும்      kaaranamaagum      karanamaagum\n",
       "3212      சேகரிப்புத்        segaripputh     serakirupputh\n",
       "1724         காலணிகளை        colonygalai      kaalanigalai\n",
       "2812           சிட்டு             seetuu             sittu\n",
       "861       இவையெல்லாம்        evaiyellaam       ivaiyallaam\n",
       "6399      வாகனங்களின்     vaakanangkalin    vaaganangkalin\n",
       "761           இன்றித்            indrith           intrith\n",
       "2757        சாமிநாதன்      chaaminaathan       saaminathan\n",
       "4521           நொய்டா             noytaa             noyaa\n",
       "1848           கிழார்            kizhaar             kilar"
      ]
     },
     "execution_count": 80,
     "metadata": {},
     "output_type": "execute_result"
    }
   ],
   "source": [
    "LSTM_predictions_df.sample(20)"
   ]
  },
  {
   "cell_type": "code",
   "execution_count": 54,
   "id": "d8106699-e1cf-4567-aed1-beb85588e4f0",
   "metadata": {
    "execution": {
     "iopub.execute_input": "2025-05-20T06:32:42.012760Z",
     "iopub.status.busy": "2025-05-20T06:32:42.012444Z",
     "iopub.status.idle": "2025-05-20T06:32:44.889065Z",
     "shell.execute_reply": "2025-05-20T06:32:44.888218Z",
     "shell.execute_reply.started": "2025-05-20T06:32:42.012740Z"
    },
    "trusted": true
   },
   "outputs": [
    {
     "data": {
      "application/vnd.jupyter.widget-view+json": {
       "model_id": "c4066cc2ef0f43e6826fc78b14cbc8c7",
       "version_major": 2,
       "version_minor": 0
      },
      "text/plain": [
       "  0%|          | 0/5 [00:00<?, ?it/s]"
      ]
     },
     "metadata": {},
     "output_type": "display_data"
    },
    {
     "data": {
      "text/plain": [
       "(['paarm',\n",
       "  'paes',\n",
       "  'airathimuka',\n",
       "  'agaththi',\n",
       "  'agaththikkeerai',\n",
       "  'agamathaapaath',\n",
       "  'agamathaapaaththil',\n",
       "  'agazhaaivil',\n",
       "  'agimsai',\n",
       "  'angeekariththu'],\n",
       " array([['ஃபார்ம்', 'farm'],\n",
       "        ['ஃபேஸ்', 'face'],\n",
       "        ['அஇஅதிமுக', 'aeathimuka'],\n",
       "        ['அகத்தி', 'agaththi'],\n",
       "        ['அகத்திக்கீரை', 'agaththikkeerai'],\n",
       "        ['அகமதாபாத்', 'ahmedabad'],\n",
       "        ['அகமதாபாத்தில்', 'agamadhabaatthil'],\n",
       "        ['அகழாய்வில்', 'agazhaaivil'],\n",
       "        ['அகிம்சை', 'ahimsai'],\n",
       "        ['அங்கீகரித்து', 'angkeekariththu']], dtype=object))"
      ]
     },
     "execution_count": 54,
     "metadata": {},
     "output_type": "execute_result"
    }
   ],
   "source": [
    "att_test_predictions = []\n",
    "test_s2s_att = Seq_2_Seq_with_attention(enc_att, dec_att, 0).to(device)\n",
    "\n",
    "for test_native_tensor, test_native_tensor_len, test_roman_tensor, test_roman_tensor_len in tqdm(test_dataloader):\n",
    "\n",
    "    # print(test_native_tensor.shape, \" | original length for each word : \" )\n",
    "    # print(test_roman_tensor.shape, \" |  original length for each word : \" )\n",
    "    test_s2s_att.eval()\n",
    "    test_output = test_s2s_att(test_native_tensor.to(device), test_native_tensor_len.to(device), test_roman_tensor.to(device))\n",
    "    # print(test_output.shape, test_output.argmax(-1).shape)\n",
    "    \n",
    "    for word in test_output.argmax(-1):\n",
    "        output_word = \"\"\n",
    "        word = word[1:]\n",
    "        for i,v in enumerate((word != 0) & (word != 1) & (word != 2)):\n",
    "            if v == False:\n",
    "                break\n",
    "            else:\n",
    "                output_word += roman_idx2char[word[i].item()]\n",
    "        att_test_predictions.append(output_word)\n",
    "        \n",
    "    # break\n",
    "\n",
    "att_test_predictions[:10], test_df[['native', 'roman']].values[:10]"
   ]
  },
  {
   "cell_type": "code",
   "execution_count": null,
   "id": "baedec5d-67a3-451d-b568-fc4e4e062e4b",
   "metadata": {
    "execution": {
     "iopub.execute_input": "2025-05-20T06:36:30.055024Z",
     "iopub.status.busy": "2025-05-20T06:36:30.054311Z",
     "iopub.status.idle": "2025-05-20T06:36:30.068151Z",
     "shell.execute_reply": "2025-05-20T06:36:30.067544Z",
     "shell.execute_reply.started": "2025-05-20T06:36:30.055001Z"
    },
    "trusted": true
   },
   "outputs": [
    {
     "name": "stdout",
     "output_type": "stream",
     "text": [
      "Test acccuracy : 53.4\n"
     ]
    }
   ],
   "source": [
    "att_predictions_df = test_df.copy()\n",
    "att_predictions_df['pred'] = att_test_predictions\n",
    "\n",
    "att_predictions_df.to_csv(\"/Att_vanilla_predictions_unique.csv\" ,index = False)\n",
    "\n",
    "print(f\"Test acccuracy : {(att_predictions_df['pred'] == att_predictions_df['roman']).sum()*100 / len(test_df)}\")"
   ]
  },
  {
   "cell_type": "code",
   "execution_count": 91,
   "id": "54d6f721-0ec5-47a9-ba15-19da025cd50e",
   "metadata": {
    "execution": {
     "iopub.execute_input": "2025-05-20T02:53:33.646788Z",
     "iopub.status.busy": "2025-05-20T02:53:33.645894Z",
     "iopub.status.idle": "2025-05-20T02:53:33.667511Z",
     "shell.execute_reply": "2025-05-20T02:53:33.666783Z",
     "shell.execute_reply.started": "2025-05-20T02:53:33.646762Z"
    },
    "trusted": true
   },
   "outputs": [
    {
     "data": {
      "text/html": [
       "<div>\n",
       "<style scoped>\n",
       "    .dataframe tbody tr th:only-of-type {\n",
       "        vertical-align: middle;\n",
       "    }\n",
       "\n",
       "    .dataframe tbody tr th {\n",
       "        vertical-align: top;\n",
       "    }\n",
       "\n",
       "    .dataframe thead th {\n",
       "        text-align: right;\n",
       "    }\n",
       "</style>\n",
       "<table border=\"1\" class=\"dataframe\">\n",
       "  <thead>\n",
       "    <tr style=\"text-align: right;\">\n",
       "      <th></th>\n",
       "      <th>native</th>\n",
       "      <th>roman</th>\n",
       "      <th>vanilla</th>\n",
       "      <th>att</th>\n",
       "    </tr>\n",
       "  </thead>\n",
       "  <tbody>\n",
       "    <tr>\n",
       "      <th>2520</th>\n",
       "      <td>சங்கமத்தில்</td>\n",
       "      <td>sangamaththil</td>\n",
       "      <td>sangkamaththil</td>\n",
       "      <td>sangamaththil</td>\n",
       "    </tr>\n",
       "    <tr>\n",
       "      <th>2284</th>\n",
       "      <td>கொழும்பில்</td>\n",
       "      <td>kozhumbil</td>\n",
       "      <td>kolumbil</td>\n",
       "      <td>kozhumbil</td>\n",
       "    </tr>\n",
       "    <tr>\n",
       "      <th>3771</th>\n",
       "      <td>தயாளன்</td>\n",
       "      <td>thayaalan</td>\n",
       "      <td>thayalan</td>\n",
       "      <td>thayaalan</td>\n",
       "    </tr>\n",
       "    <tr>\n",
       "      <th>5807</th>\n",
       "      <td>முகத்துவாரத்தில்</td>\n",
       "      <td>mugaththuvaaraththil</td>\n",
       "      <td>mukaththuvaarththail</td>\n",
       "      <td>mugaththuvaaraththil</td>\n",
       "    </tr>\n",
       "    <tr>\n",
       "      <th>77</th>\n",
       "      <td>அடா</td>\n",
       "      <td>adaa</td>\n",
       "      <td>ada</td>\n",
       "      <td>adaa</td>\n",
       "    </tr>\n",
       "    <tr>\n",
       "      <th>3251</th>\n",
       "      <td>சேர்த்தும்</td>\n",
       "      <td>saerththum</td>\n",
       "      <td>serththum</td>\n",
       "      <td>saerththum</td>\n",
       "    </tr>\n",
       "    <tr>\n",
       "      <th>1781</th>\n",
       "      <td>கிடைக்காததால்</td>\n",
       "      <td>kidaikkaathathaal</td>\n",
       "      <td>kidaikadhalathaal</td>\n",
       "      <td>kidaikkaathathaal</td>\n",
       "    </tr>\n",
       "    <tr>\n",
       "      <th>4079</th>\n",
       "      <td>தொகையின்</td>\n",
       "      <td>thokaiyin</td>\n",
       "      <td>thogaiyin</td>\n",
       "      <td>thokaiyin</td>\n",
       "    </tr>\n",
       "    <tr>\n",
       "      <th>6063</th>\n",
       "      <td>யோக்கியமான</td>\n",
       "      <td>yoakkiyamaana</td>\n",
       "      <td>yoakiyamaana</td>\n",
       "      <td>yoakkiyamaana</td>\n",
       "    </tr>\n",
       "    <tr>\n",
       "      <th>2805</th>\n",
       "      <td>சிக்கனமாக</td>\n",
       "      <td>sikkanamaaga</td>\n",
       "      <td>sikanamaaga</td>\n",
       "      <td>sikkanamaaga</td>\n",
       "    </tr>\n",
       "    <tr>\n",
       "      <th>1039</th>\n",
       "      <td>ஊடக</td>\n",
       "      <td>uudaka</td>\n",
       "      <td>oodaka</td>\n",
       "      <td>uudaka</td>\n",
       "    </tr>\n",
       "    <tr>\n",
       "      <th>962</th>\n",
       "      <td>உருவப்படத்தை</td>\n",
       "      <td>uruvappadaththai</td>\n",
       "      <td>uruvappattaththai</td>\n",
       "      <td>uruvappadaththai</td>\n",
       "    </tr>\n",
       "    <tr>\n",
       "      <th>5907</th>\n",
       "      <td>முறைமைகள்</td>\n",
       "      <td>muraimaikal</td>\n",
       "      <td>muraimaigal</td>\n",
       "      <td>muraimaikal</td>\n",
       "    </tr>\n",
       "    <tr>\n",
       "      <th>2090</th>\n",
       "      <td>கூல்</td>\n",
       "      <td>kool</td>\n",
       "      <td>kuul</td>\n",
       "      <td>kool</td>\n",
       "    </tr>\n",
       "    <tr>\n",
       "      <th>3613</th>\n",
       "      <td>தண்டனையிலிருந்து</td>\n",
       "      <td>thandanaiyilirunthu</td>\n",
       "      <td>thandaiyalinirunthu</td>\n",
       "      <td>thandanaiyilirunthu</td>\n",
       "    </tr>\n",
       "    <tr>\n",
       "      <th>2625</th>\n",
       "      <td>சமர்ப்பித்தார்</td>\n",
       "      <td>samarppiththaar</td>\n",
       "      <td>samarpiththaar</td>\n",
       "      <td>samarppiththaar</td>\n",
       "    </tr>\n",
       "    <tr>\n",
       "      <th>2547</th>\n",
       "      <td>சங்கிலிகள்</td>\n",
       "      <td>sangiligal</td>\n",
       "      <td>sangilikal</td>\n",
       "      <td>sangiligal</td>\n",
       "    </tr>\n",
       "    <tr>\n",
       "      <th>1974</th>\n",
       "      <td>குழந்தாய்</td>\n",
       "      <td>kuzhanthaai</td>\n",
       "      <td>kuzhandhaay</td>\n",
       "      <td>kuzhanthaai</td>\n",
       "    </tr>\n",
       "    <tr>\n",
       "      <th>3640</th>\n",
       "      <td>தனித்தனியாகப்</td>\n",
       "      <td>thaniththaniyaagap</td>\n",
       "      <td>thanithaniyaakan</td>\n",
       "      <td>thaniththaniyaagap</td>\n",
       "    </tr>\n",
       "    <tr>\n",
       "      <th>5832</th>\n",
       "      <td>முசுலீம்</td>\n",
       "      <td>musuleem</td>\n",
       "      <td>musleelum</td>\n",
       "      <td>musuleem</td>\n",
       "    </tr>\n",
       "  </tbody>\n",
       "</table>\n",
       "</div>"
      ],
      "text/plain": [
       "                native                 roman               vanilla  \\\n",
       "2520       சங்கமத்தில்         sangamaththil        sangkamaththil   \n",
       "2284        கொழும்பில்             kozhumbil              kolumbil   \n",
       "3771            தயாளன்             thayaalan              thayalan   \n",
       "5807  முகத்துவாரத்தில்  mugaththuvaaraththil  mukaththuvaarththail   \n",
       "77                 அடா                  adaa                   ada   \n",
       "3251        சேர்த்தும்            saerththum             serththum   \n",
       "1781     கிடைக்காததால்     kidaikkaathathaal     kidaikadhalathaal   \n",
       "4079          தொகையின்             thokaiyin             thogaiyin   \n",
       "6063        யோக்கியமான         yoakkiyamaana          yoakiyamaana   \n",
       "2805         சிக்கனமாக          sikkanamaaga           sikanamaaga   \n",
       "1039               ஊடக                uudaka                oodaka   \n",
       "962       உருவப்படத்தை      uruvappadaththai     uruvappattaththai   \n",
       "5907         முறைமைகள்           muraimaikal           muraimaigal   \n",
       "2090              கூல்                  kool                  kuul   \n",
       "3613  தண்டனையிலிருந்து   thandanaiyilirunthu   thandaiyalinirunthu   \n",
       "2625    சமர்ப்பித்தார்       samarppiththaar        samarpiththaar   \n",
       "2547        சங்கிலிகள்            sangiligal            sangilikal   \n",
       "1974         குழந்தாய்           kuzhanthaai           kuzhandhaay   \n",
       "3640     தனித்தனியாகப்    thaniththaniyaagap      thanithaniyaakan   \n",
       "5832          முசுலீம்              musuleem             musleelum   \n",
       "\n",
       "                       att  \n",
       "2520         sangamaththil  \n",
       "2284             kozhumbil  \n",
       "3771             thayaalan  \n",
       "5807  mugaththuvaaraththil  \n",
       "77                    adaa  \n",
       "3251            saerththum  \n",
       "1781     kidaikkaathathaal  \n",
       "4079             thokaiyin  \n",
       "6063         yoakkiyamaana  \n",
       "2805          sikkanamaaga  \n",
       "1039                uudaka  \n",
       "962       uruvappadaththai  \n",
       "5907           muraimaikal  \n",
       "2090                  kool  \n",
       "3613   thandanaiyilirunthu  \n",
       "2625       samarppiththaar  \n",
       "2547            sangiligal  \n",
       "1974           kuzhanthaai  \n",
       "3640    thaniththaniyaagap  \n",
       "5832              musuleem  "
      ]
     },
     "execution_count": 91,
     "metadata": {},
     "output_type": "execute_result"
    }
   ],
   "source": [
    "comparison_df = att_predictions_df.copy()\n",
    "comparison_df['vanilla'] = test_predictions\n",
    "comparison_df['att'] = comparison_df['pred']\n",
    "comparison_df.drop(['pred'], axis = 1, inplace = True)\n",
    "\n",
    "comparison_df[(comparison_df['vanilla'] != comparison_df['roman'])*(comparison_df['att'] == comparison_df['roman']) ].sample(20)"
   ]
  },
  {
   "cell_type": "markdown",
   "id": "117cde88-29d8-400b-aa9a-fa8fbe98ded4",
   "metadata": {},
   "source": [
    "### For getting the connectivity visualization"
   ]
  },
  {
   "cell_type": "code",
   "execution_count": null,
   "id": "f5fc7aa1-dcb0-497e-b4fd-80cea0fad03b",
   "metadata": {
    "execution": {
     "iopub.execute_input": "2025-05-19T18:36:46.688958Z",
     "iopub.status.busy": "2025-05-19T18:36:46.688307Z",
     "iopub.status.idle": "2025-05-19T18:36:46.702940Z",
     "shell.execute_reply": "2025-05-19T18:36:46.702167Z",
     "shell.execute_reply.started": "2025-05-19T18:36:46.688936Z"
    },
    "trusted": true
   },
   "outputs": [],
   "source": [
    "import torch.nn.functional as F\n",
    "\n",
    "def visualize_lstm_connectivity(input_word: str, s2s_lstm: torch.nn.Module, tamil_vocab: Dict[str, int], \n",
    "                               roman_vocab: Dict[str, int], max_output_len: int = 10,) :\n",
    "    \"\"\"\n",
    "    Visualizes the connectivity |∂h_{o,t'}/∂x_t|^2 of a Seq2Seq LSTM model, showing which input Tamil character\n",
    "    influences each predicted Roman character, as defined in the Distill article.\n",
    "    \n",
    "    \"\"\"\n",
    "    # Inverse vocabularies for decoding\n",
    "    print(f\"Input tamil word : {input_word}\")\n",
    "    inv_tamil_vocab = {v: k for k, v in tamil_vocab.items()}\n",
    "    inv_roman_vocab = {v: k for k, v in roman_vocab.items()}\n",
    "    \n",
    "    # Convert input word to indices and tensor\n",
    "    input_indices = [tamil_vocab.get(c, tamil_vocab.get('<unk>', 0)) for c in input_word]\n",
    "    input_tensor = torch.tensor([input_indices], dtype=torch.long).to(device)  # Shape: (1, seq_len)\n",
    "    input_lengths = torch.tensor([len(input_indices)]).to(device)\n",
    "    \n",
    "    # Ensure model is in evaluation mode but enable gradients for Jacobian computation\n",
    "    s2s_lstm.train()\n",
    "    \n",
    "    # Get input embeddings (requires access to encoder's embedding layer)\n",
    "    embedding_layer = s2s_lstm.encoder.embedding if hasattr(s2s_lstm.encoder, 'embedding') else None\n",
    "    if embedding_layer is None:\n",
    "        raise AttributeError(\"Encoder must have an 'embedding' layer for input embeddings.\")\n",
    "    \n",
    "    # Enable gradients for input embeddings\n",
    "    input_tensor\n",
    "    input_embeds = embedding_layer(input_tensor).requires_grad_(True)  # Shape: (1, seq_len, embed_size)\n",
    "    input_embeds.retain_grad()\n",
    "    s2s_lstm.encoder.embedded.requires_grad_(True)\n",
    "    s2s_lstm.encoder.embedded.retain_grad()\n",
    "    \n",
    "    # Forward pass through encoder\n",
    "    encoder_outputs, (hidden, cell) = s2s_lstm.encoder(input_tensor, input_lengths)\n",
    "    # encoder_outputs: (1, seq_len, hidden_size), hidden/cell: (num_layers, 1, hidden_size)\n",
    "    \n",
    "    # Initialize decoder input (start token) and states\n",
    "    decoder_input = torch.tensor([roman_vocab.get('<sos>', 1)], dtype=torch.long).to(device)  # Shape: (1, 1)\n",
    "    hidden = hidden.to(device)\n",
    "    cell = cell.to(device)\n",
    "    \n",
    "    predicted_chars = []\n",
    "    connectivity_weights = []\n",
    "    \n",
    "    for t_prime in range(max_output_len):\n",
    "        # Forward pass through decoder\n",
    "        s2s_lstm.encoder.embedded.retain_grad()\n",
    "        output, (hidden, cell) = s2s_lstm.decoder(decoder_input, (hidden, cell))\n",
    "        # output: (1, 1, output_size)\n",
    "        \n",
    "        # Predict character\n",
    "        pred_char_idx = output.squeeze(1).argmax(dim=-1).item()\n",
    "        predicted_char = inv_roman_vocab.get(pred_char_idx, '<unk>')\n",
    "        predicted_chars.append(predicted_char)\n",
    "        \n",
    "        # Compute connectivity: |∂h_{o,t'}/∂x_t|^2\n",
    "        # h_{o,t'} is the top-layer decoder hidden state\n",
    "        decoder_hidden = hidden[-1].squeeze(0)  # Shape: (1, hidden_size)\n",
    "        \n",
    "        # Zero out previous gradients\n",
    "        if s2s_lstm.encoder.embedded.grad is not None:\n",
    "            # input_embeds.grad.zero_()\n",
    "            s2s_lstm.encoder.embedded.grad.zero_()\n",
    "        \n",
    "        # Compute gradients of decoder_hidden w.r.t. input_embeds\n",
    "        decoder_hidden.sum().backward(retain_graph=True)\n",
    "        \n",
    "        # Get gradients ∂h_{o,t'}/∂x_t\n",
    "        gradients = s2s_lstm.encoder.embedded.grad.squeeze(0)  # Shape: (seq_len, embed_size)\n",
    "        \n",
    "        # Compute squared norm of gradients for each input position t\n",
    "        connectivity = torch.norm(gradients, dim=-1) ** 2  # Shape: (seq_len,)\n",
    "        connectivity = connectivity.cpu().numpy()\n",
    "        \n",
    "        # Normalize connectivity weights to sum to 1 for visualization\n",
    "        connectivity = connectivity / (connectivity.sum() + 1e-8)\n",
    "        connectivity_weights.append(connectivity)\n",
    "        \n",
    "        # Prepare next decoder input\n",
    "        decoder_input = output.argmax(dim=-1)\n",
    "        \n",
    "        # Stop if end token is predicted\n",
    "        if pred_char_idx == roman_vocab['<pad>'] or pred_char_idx == roman_vocab[\"<eos>\"]:\n",
    "            break\n",
    "    \n",
    "    # Stack connectivity weights\n",
    "    connectivity_weights = np.stack(connectivity_weights)  # Shape: (output_len, input_len)\n",
    "    \n",
    "    # Create heatmap visualization\n",
    "    plt.figure(figsize=(max(8, len(input_word) * 0.5), max(6, len(predicted_chars) * 0.5)))\n",
    "    sns.heatmap(\n",
    "        connectivity_weights,\n",
    "        xticklabels=[c for c in input_word],\n",
    "        yticklabels=predicted_chars,\n",
    "        cmap='viridis',\n",
    "        annot=True,\n",
    "        fmt='.2f',\n",
    "        cbar_kws={'label': 'Connectivity |∂h_{o,t\\'}/∂x_t|^2'},\n",
    "        square=False\n",
    "    )\n",
    "    plt.xlabel('Input Tamil Characters')\n",
    "    plt.ylabel('Predicted Roman Characters')\n",
    "    plt.title(f'Connectivity for \"{input_word}\"')\n",
    "    plt.tight_layout()\n",
    "    plt.show()\n",
    "    \n",
    "    # Save heatmap\n",
    "    heatmap_path = 'lstm_connectivity_heatmap.png'\n",
    "    plt.savefig(heatmap_path, dpi=300, bbox_inches='tight')\n",
    "    plt.close()\n",
    "    \n",
    "    return predicted_chars, heatmap_path"
   ]
  },
  {
   "cell_type": "code",
   "execution_count": 208,
   "id": "09c9f698-2827-444f-8d54-85822d91610a",
   "metadata": {
    "execution": {
     "iopub.execute_input": "2025-05-19T18:36:50.673951Z",
     "iopub.status.busy": "2025-05-19T18:36:50.673102Z",
     "iopub.status.idle": "2025-05-19T18:36:51.225034Z",
     "shell.execute_reply": "2025-05-19T18:36:51.224434Z",
     "shell.execute_reply.started": "2025-05-19T18:36:50.673928Z"
    },
    "trusted": true
   },
   "outputs": [
    {
     "name": "stdout",
     "output_type": "stream",
     "text": [
      "Input tamil word : அகராதி\n"
     ]
    },
    {
     "name": "stderr",
     "output_type": "stream",
     "text": [
      "/usr/local/lib/python3.11/dist-packages/seaborn/utils.py:80: UserWarning: Glyph 2949 (\\N{TAMIL LETTER A}) missing from current font.\n",
      "  fig.canvas.draw()\n",
      "/usr/local/lib/python3.11/dist-packages/seaborn/utils.py:80: UserWarning: Matplotlib currently does not support Tamil natively.\n",
      "  fig.canvas.draw()\n",
      "/usr/local/lib/python3.11/dist-packages/seaborn/utils.py:80: UserWarning: Glyph 2965 (\\N{TAMIL LETTER KA}) missing from current font.\n",
      "  fig.canvas.draw()\n",
      "/usr/local/lib/python3.11/dist-packages/seaborn/utils.py:80: UserWarning: Glyph 2992 (\\N{TAMIL LETTER RA}) missing from current font.\n",
      "  fig.canvas.draw()\n",
      "/usr/local/lib/python3.11/dist-packages/seaborn/utils.py:80: UserWarning: Glyph 3006 (\\N{TAMIL VOWEL SIGN AA}) missing from current font.\n",
      "  fig.canvas.draw()\n",
      "/usr/local/lib/python3.11/dist-packages/seaborn/utils.py:80: UserWarning: Glyph 2980 (\\N{TAMIL LETTER TA}) missing from current font.\n",
      "  fig.canvas.draw()\n",
      "/usr/local/lib/python3.11/dist-packages/seaborn/utils.py:80: UserWarning: Glyph 3007 (\\N{TAMIL VOWEL SIGN I}) missing from current font.\n",
      "  fig.canvas.draw()\n",
      "/tmp/ipykernel_35/3157258478.py:116: UserWarning: Glyph 2949 (\\N{TAMIL LETTER A}) missing from current font.\n",
      "  plt.tight_layout()\n",
      "/tmp/ipykernel_35/3157258478.py:116: UserWarning: Matplotlib currently does not support Tamil natively.\n",
      "  plt.tight_layout()\n",
      "/tmp/ipykernel_35/3157258478.py:116: UserWarning: Glyph 2965 (\\N{TAMIL LETTER KA}) missing from current font.\n",
      "  plt.tight_layout()\n",
      "/tmp/ipykernel_35/3157258478.py:116: UserWarning: Glyph 2992 (\\N{TAMIL LETTER RA}) missing from current font.\n",
      "  plt.tight_layout()\n",
      "/tmp/ipykernel_35/3157258478.py:116: UserWarning: Glyph 3006 (\\N{TAMIL VOWEL SIGN AA}) missing from current font.\n",
      "  plt.tight_layout()\n",
      "/tmp/ipykernel_35/3157258478.py:116: UserWarning: Glyph 2980 (\\N{TAMIL LETTER TA}) missing from current font.\n",
      "  plt.tight_layout()\n",
      "/tmp/ipykernel_35/3157258478.py:116: UserWarning: Glyph 3007 (\\N{TAMIL VOWEL SIGN I}) missing from current font.\n",
      "  plt.tight_layout()\n",
      "/usr/local/lib/python3.11/dist-packages/IPython/core/pylabtools.py:151: UserWarning: Glyph 2949 (\\N{TAMIL LETTER A}) missing from current font.\n",
      "  fig.canvas.print_figure(bytes_io, **kw)\n",
      "/usr/local/lib/python3.11/dist-packages/IPython/core/pylabtools.py:151: UserWarning: Matplotlib currently does not support Tamil natively.\n",
      "  fig.canvas.print_figure(bytes_io, **kw)\n",
      "/usr/local/lib/python3.11/dist-packages/IPython/core/pylabtools.py:151: UserWarning: Glyph 2965 (\\N{TAMIL LETTER KA}) missing from current font.\n",
      "  fig.canvas.print_figure(bytes_io, **kw)\n",
      "/usr/local/lib/python3.11/dist-packages/IPython/core/pylabtools.py:151: UserWarning: Glyph 2992 (\\N{TAMIL LETTER RA}) missing from current font.\n",
      "  fig.canvas.print_figure(bytes_io, **kw)\n",
      "/usr/local/lib/python3.11/dist-packages/IPython/core/pylabtools.py:151: UserWarning: Glyph 3006 (\\N{TAMIL VOWEL SIGN AA}) missing from current font.\n",
      "  fig.canvas.print_figure(bytes_io, **kw)\n",
      "/usr/local/lib/python3.11/dist-packages/IPython/core/pylabtools.py:151: UserWarning: Glyph 2980 (\\N{TAMIL LETTER TA}) missing from current font.\n",
      "  fig.canvas.print_figure(bytes_io, **kw)\n",
      "/usr/local/lib/python3.11/dist-packages/IPython/core/pylabtools.py:151: UserWarning: Glyph 3007 (\\N{TAMIL VOWEL SIGN I}) missing from current font.\n",
      "  fig.canvas.print_figure(bytes_io, **kw)\n"
     ]
    },
    {
     "data": {
      "image/png": "[encoded data removed]",
      "text/plain": [
       "<Figure size 800x600 with 2 Axes>"
      ]
     },
     "metadata": {},
     "output_type": "display_data"
    },
    {
     "name": "stdout",
     "output_type": "stream",
     "text": [
      "Predicted characters: ['a', 'a', 'r', 'a', 'a', 't', 'h', 'i', '<eos>']\n",
      "Heatmap saved at: lstm_connectivity_heatmap.png\n"
     ]
    }
   ],
   "source": [
    "predicted_chars, heatmap_path = visualize_lstm_connectivity(\n",
    "    input_word=train_df[\"native\"][78],\n",
    "    s2s_lstm = example_s2s,\n",
    "    tamil_vocab=native_char2ind,\n",
    "    roman_vocab=roman_char2ind,\n",
    ")\n",
    "\n",
    "print(f\"Predicted characters: {predicted_chars}\")\n",
    "print(f\"Heatmap saved at: {heatmap_path}\")"
   ]
  },
  {
   "cell_type": "code",
   "execution_count": null,
   "id": "da0f08a0-39f6-4cbd-a79c-248aaf05fe4e",
   "metadata": {
    "trusted": true
   },
   "outputs": [],
   "source": []
  }
 ],
 "metadata": {
  "kaggle": {
   "accelerator": "gpu",
   "dataSources": [
    {
     "sourceId": 73980747,
     "sourceType": "kernelVersion"
    }
   ],
   "dockerImageVersionId": 31041,
   "isGpuEnabled": true,
   "isInternetEnabled": true,
   "language": "python",
   "sourceType": "notebook"
  },
  "kernelspec": {
   "display_name": "base",
   "language": "python",
   "name": "python3"
  },
  "language_info": {
   "codemirror_mode": {
    "name": "ipython",
    "version": 3
   },
   "file_extension": ".py",
   "mimetype": "text/x-python",
   "name": "python",
   "nbconvert_exporter": "python",
   "pygments_lexer": "ipython3",
   "version": "3.12.7"
  }
 },
 "nbformat": 4,
 "nbformat_minor": 5
}
